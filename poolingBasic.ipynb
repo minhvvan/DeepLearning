{
  "nbformat": 4,
  "nbformat_minor": 0,
  "metadata": {
    "colab": {
      "name": "poolingBasic.ipynb",
      "provenance": [],
      "collapsed_sections": [],
      "authorship_tag": "ABX9TyPbDGJI7qGsEaHit5y24Y9D",
      "include_colab_link": true
    },
    "kernelspec": {
      "name": "python3",
      "display_name": "Python 3"
    }
  },
  "cells": [
    {
      "cell_type": "markdown",
      "metadata": {
        "id": "view-in-github",
        "colab_type": "text"
      },
      "source": [
        "<a href=\"https://colab.research.google.com/github/minhvvan/DeepLearning/blob/main/poolingBasic.ipynb\" target=\"_parent\"><img src=\"https://colab.research.google.com/assets/colab-badge.svg\" alt=\"Open In Colab\"/></a>"
      ]
    },
    {
      "cell_type": "code",
      "metadata": {
        "colab": {
          "base_uri": "https://localhost:8080/"
        },
        "id": "1rCU7CqVgB9A",
        "outputId": "33801e01-c514-4930-e737-46e7fca18bf9"
      },
      "source": [
        "import numpy as np\r\n",
        "\r\n",
        "x = np.arange(1,17)\r\n",
        "x = x.reshape(1,4,4,1)\r\n",
        "x"
      ],
      "execution_count": 9,
      "outputs": [
        {
          "output_type": "execute_result",
          "data": {
            "text/plain": [
              "array([[[[ 1],\n",
              "         [ 2],\n",
              "         [ 3],\n",
              "         [ 4]],\n",
              "\n",
              "        [[ 5],\n",
              "         [ 6],\n",
              "         [ 7],\n",
              "         [ 8]],\n",
              "\n",
              "        [[ 9],\n",
              "         [10],\n",
              "         [11],\n",
              "         [12]],\n",
              "\n",
              "        [[13],\n",
              "         [14],\n",
              "         [15],\n",
              "         [16]]]])"
            ]
          },
          "metadata": {
            "tags": []
          },
          "execution_count": 9
        }
      ]
    },
    {
      "cell_type": "code",
      "metadata": {
        "colab": {
          "base_uri": "https://localhost:8080/"
        },
        "id": "8RY0qWPLg8ei",
        "outputId": "7e6921ad-e2f2-49dd-ce67-313ad0b020c7"
      },
      "source": [
        "import tensorflow as tf\r\n",
        "\r\n",
        "p_out = tf.nn.max_pool2d(x, ksize=2, strides=2, padding='VALID')\r\n",
        "p_out.numpy().reshape(2, 2)"
      ],
      "execution_count": 10,
      "outputs": [
        {
          "output_type": "execute_result",
          "data": {
            "text/plain": [
              "array([[ 6,  8],\n",
              "       [14, 16]])"
            ]
          },
          "metadata": {
            "tags": []
          },
          "execution_count": 10
        }
      ]
    }
  ]
}