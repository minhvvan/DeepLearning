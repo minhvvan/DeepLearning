{
  "nbformat": 4,
  "nbformat_minor": 0,
  "metadata": {
    "colab": {
      "name": "ConvBasic.ipynb",
      "provenance": [],
      "collapsed_sections": [],
      "authorship_tag": "ABX9TyMVjkD+Pxipe4w7KKmDIWiN",
      "include_colab_link": true
    },
    "kernelspec": {
      "name": "python3",
      "display_name": "Python 3"
    }
  },
  "cells": [
    {
      "cell_type": "markdown",
      "metadata": {
        "id": "view-in-github",
        "colab_type": "text"
      },
      "source": [
        "<a href=\"https://colab.research.google.com/github/minhvvan/DeepLearning/blob/main/ConvBasic.ipynb\" target=\"_parent\"><img src=\"https://colab.research.google.com/assets/colab-badge.svg\" alt=\"Open In Colab\"/></a>"
      ]
    },
    {
      "cell_type": "code",
      "metadata": {
        "id": "bKMNn-Pj5wUZ"
      },
      "source": [
        "from tensorflow.keras.layers import Conv2D, MaxPooling2D, Flatten, Dense, Dropout\r\n",
        "import tensorflow as tf\r\n",
        "import numpy as np"
      ],
      "execution_count": 20,
      "outputs": []
    },
    {
      "cell_type": "code",
      "metadata": {
        "id": "iGAbNbuF6zzM"
      },
      "source": [
        "conv1 = tf.keras.Sequential()\r\n",
        "conv1.add(Conv2D(10, (3, 3), activation='relu', padding='same', input_shape=(28,28,1)))"
      ],
      "execution_count": 2,
      "outputs": []
    },
    {
      "cell_type": "code",
      "metadata": {
        "id": "5En9KqHc7oY6"
      },
      "source": [
        "conv1.add(MaxPooling2D((2, 2)))"
      ],
      "execution_count": 3,
      "outputs": []
    },
    {
      "cell_type": "code",
      "metadata": {
        "id": "V0msBJrI73pg"
      },
      "source": [
        "conv1.add(Flatten())"
      ],
      "execution_count": 4,
      "outputs": []
    },
    {
      "cell_type": "code",
      "metadata": {
        "id": "IsPeum3U8rXP"
      },
      "source": [
        "conv1.add(Dense(100, activation='relu'))\r\n",
        "conv1.add(Dense(10, activation='softmax'))"
      ],
      "execution_count": 5,
      "outputs": []
    },
    {
      "cell_type": "code",
      "metadata": {
        "colab": {
          "base_uri": "https://localhost:8080/"
        },
        "id": "hFxUDA9D8HxN",
        "outputId": "25663873-afdf-46fe-dff4-6e690229ae97"
      },
      "source": [
        "conv1.summary()"
      ],
      "execution_count": 6,
      "outputs": [
        {
          "output_type": "stream",
          "text": [
            "Model: \"sequential\"\n",
            "_________________________________________________________________\n",
            "Layer (type)                 Output Shape              Param #   \n",
            "=================================================================\n",
            "conv2d (Conv2D)              (None, 28, 28, 10)        100       \n",
            "_________________________________________________________________\n",
            "max_pooling2d (MaxPooling2D) (None, 14, 14, 10)        0         \n",
            "_________________________________________________________________\n",
            "flatten (Flatten)            (None, 1960)              0         \n",
            "_________________________________________________________________\n",
            "dense (Dense)                (None, 100)               196100    \n",
            "_________________________________________________________________\n",
            "dense_1 (Dense)              (None, 10)                1010      \n",
            "=================================================================\n",
            "Total params: 197,210\n",
            "Trainable params: 197,210\n",
            "Non-trainable params: 0\n",
            "_________________________________________________________________\n"
          ],
          "name": "stdout"
        }
      ]
    },
    {
      "cell_type": "code",
      "metadata": {
        "id": "AmMX0R6YAMAT"
      },
      "source": [
        "conv1.compile(optimizer='adam', loss='categorical_crossentropy',metrics=['accuracy'])"
      ],
      "execution_count": 7,
      "outputs": []
    },
    {
      "cell_type": "code",
      "metadata": {
        "colab": {
          "base_uri": "https://localhost:8080/"
        },
        "id": "ljSscislB_IJ",
        "outputId": "5a7c1647-f4e0-4f38-bc08-23ecff671dbf"
      },
      "source": [
        "(x_train_all, y_train_all), (x_test, y_test) = tf.keras.datasets.fashion_mnist.load_data()\r\n",
        "\r\n",
        "print(x_train_all.shape, y_train_all.shape)"
      ],
      "execution_count": 8,
      "outputs": [
        {
          "output_type": "stream",
          "text": [
            "(60000, 28, 28) (60000,)\n"
          ],
          "name": "stdout"
        }
      ]
    },
    {
      "cell_type": "code",
      "metadata": {
        "colab": {
          "base_uri": "https://localhost:8080/"
        },
        "id": "3aZxGZSnnhAa",
        "outputId": "647c726b-7524-4a20-ed4d-18674b75c591"
      },
      "source": [
        "print(y_train_all[:10])\r\n",
        "\r\n",
        "class_names = ['티셔츠/윗도리', '바지', '스웨터', '드레스', '코트', '샌들', '셔츠', '스니커즈', '가방', '앵클부츠']\r\n",
        "\r\n",
        "print(class_names[y_train_all[0]])"
      ],
      "execution_count": 9,
      "outputs": [
        {
          "output_type": "stream",
          "text": [
            "[9 0 0 3 0 2 7 2 5 5]\n",
            "앵클부츠\n"
          ],
          "name": "stdout"
        }
      ]
    },
    {
      "cell_type": "code",
      "metadata": {
        "colab": {
          "base_uri": "https://localhost:8080/",
          "height": 265
        },
        "id": "i5SoO4eWCBP2",
        "outputId": "a01d21ac-3ff2-4f3b-9d79-cbf190d7640a"
      },
      "source": [
        "import matplotlib.pyplot as plt\r\n",
        "\r\n",
        "plt.imshow(x_train_all[0], cmap='gray')\r\n",
        "plt.show()"
      ],
      "execution_count": 10,
      "outputs": [
        {
          "output_type": "display_data",
          "data": {
            "image/png": "[encoded data removed]",
            "text/plain": [
              "<Figure size 432x288 with 1 Axes>"
            ]
          },
          "metadata": {
            "tags": [],
            "needs_background": "light"
          }
        }
      ]
    },
    {
      "cell_type": "code",
      "metadata": {
        "colab": {
          "base_uri": "https://localhost:8080/"
        },
        "id": "tTFrM75mDRzv",
        "outputId": "61944ae7-dd9d-478d-8637-b2af7a38fd90"
      },
      "source": [
        "np.bincount(y_train_all)"
      ],
      "execution_count": 11,
      "outputs": [
        {
          "output_type": "execute_result",
          "data": {
            "text/plain": [
              "array([6000, 6000, 6000, 6000, 6000, 6000, 6000, 6000, 6000, 6000])"
            ]
          },
          "metadata": {
            "tags": []
          },
          "execution_count": 11
        }
      ]
    },
    {
      "cell_type": "code",
      "metadata": {
        "colab": {
          "base_uri": "https://localhost:8080/"
        },
        "id": "X557ncKTCHWG",
        "outputId": "07d88e30-9e93-498c-93ff-b19fbad96371"
      },
      "source": [
        "from sklearn.model_selection import train_test_split\r\n",
        "\r\n",
        "x_train, x_val, y_train, y_val = train_test_split(x_train_all, y_train_all, stratify=y_train_all, test_size=0.2, random_state=42)\r\n",
        "print(np.bincount(y_train))\r\n",
        "print(np.bincount(y_val))"
      ],
      "execution_count": 12,
      "outputs": [
        {
          "output_type": "stream",
          "text": [
            "[4800 4800 4800 4800 4800 4800 4800 4800 4800 4800]\n",
            "[1200 1200 1200 1200 1200 1200 1200 1200 1200 1200]\n"
          ],
          "name": "stdout"
        }
      ]
    },
    {
      "cell_type": "code",
      "metadata": {
        "id": "FQyvbQjLCUQl"
      },
      "source": [
        "x_train = x_train / 255\r\n",
        "x_val = x_val /255"
      ],
      "execution_count": 13,
      "outputs": []
    },
    {
      "cell_type": "code",
      "metadata": {
        "colab": {
          "base_uri": "https://localhost:8080/"
        },
        "id": "K0G9_DZjCVmj",
        "outputId": "6acf5d31-e7aa-42c5-f6e2-153212039018"
      },
      "source": [
        "x_train = x_train.reshape(-1, 28, 28, 1)\r\n",
        "x_val = x_val.reshape(-1, 28, 28, 1)\r\n",
        "\r\n",
        "print(x_train.shape, x_val.shape)"
      ],
      "execution_count": 14,
      "outputs": [
        {
          "output_type": "stream",
          "text": [
            "(48000, 28, 28, 1) (12000, 28, 28, 1)\n"
          ],
          "name": "stdout"
        }
      ]
    },
    {
      "cell_type": "code",
      "metadata": {
        "colab": {
          "base_uri": "https://localhost:8080/"
        },
        "id": "vPKTRFRFCXww",
        "outputId": "ba78932e-b744-4ffa-90dc-480d0041e332"
      },
      "source": [
        "y_train_encoded = tf.keras.utils.to_categorical(y_train)\r\n",
        "y_val_encoded = tf.keras.utils.to_categorical(y_val)\r\n",
        "\r\n",
        "print(y_train[0], y_train_encoded[0])"
      ],
      "execution_count": 15,
      "outputs": [
        {
          "output_type": "stream",
          "text": [
            "6 [0. 0. 0. 0. 0. 0. 1. 0. 0. 0.]\n"
          ],
          "name": "stdout"
        }
      ]
    },
    {
      "cell_type": "code",
      "metadata": {
        "colab": {
          "base_uri": "https://localhost:8080/"
        },
        "id": "6QrhflSoBtOY",
        "outputId": "2fecc8a8-2fca-4b4a-ddf0-099e61de6230"
      },
      "source": [
        "history = conv1.fit(x_train, y_train_encoded, epochs=20, validation_data=(x_val, y_val_encoded))"
      ],
      "execution_count": 16,
      "outputs": [
        {
          "output_type": "stream",
          "text": [
            "Epoch 1/20\n",
            "1500/1500 [==============================] - 22s 14ms/step - loss: 0.6266 - accuracy: 0.7824 - val_loss: 0.3286 - val_accuracy: 0.8795\n",
            "Epoch 2/20\n",
            "1500/1500 [==============================] - 21s 14ms/step - loss: 0.3225 - accuracy: 0.8831 - val_loss: 0.2775 - val_accuracy: 0.9012\n",
            "Epoch 3/20\n",
            "1500/1500 [==============================] - 21s 14ms/step - loss: 0.2685 - accuracy: 0.9003 - val_loss: 0.2807 - val_accuracy: 0.8987\n",
            "Epoch 4/20\n",
            "1500/1500 [==============================] - 21s 14ms/step - loss: 0.2288 - accuracy: 0.9187 - val_loss: 0.2587 - val_accuracy: 0.9055\n",
            "Epoch 5/20\n",
            "1500/1500 [==============================] - 21s 14ms/step - loss: 0.2022 - accuracy: 0.9273 - val_loss: 0.2432 - val_accuracy: 0.9136\n",
            "Epoch 6/20\n",
            "1500/1500 [==============================] - 21s 14ms/step - loss: 0.1800 - accuracy: 0.9331 - val_loss: 0.2579 - val_accuracy: 0.9056\n",
            "Epoch 7/20\n",
            "1500/1500 [==============================] - 21s 14ms/step - loss: 0.1663 - accuracy: 0.9401 - val_loss: 0.2480 - val_accuracy: 0.9142\n",
            "Epoch 8/20\n",
            "1500/1500 [==============================] - 21s 14ms/step - loss: 0.1472 - accuracy: 0.9473 - val_loss: 0.2719 - val_accuracy: 0.9079\n",
            "Epoch 9/20\n",
            "1500/1500 [==============================] - 22s 14ms/step - loss: 0.1258 - accuracy: 0.9533 - val_loss: 0.2560 - val_accuracy: 0.9159\n",
            "Epoch 10/20\n",
            "1500/1500 [==============================] - 21s 14ms/step - loss: 0.1197 - accuracy: 0.9562 - val_loss: 0.2609 - val_accuracy: 0.9170\n",
            "Epoch 11/20\n",
            "1500/1500 [==============================] - 21s 14ms/step - loss: 0.1030 - accuracy: 0.9632 - val_loss: 0.2691 - val_accuracy: 0.9185\n",
            "Epoch 12/20\n",
            "1500/1500 [==============================] - 21s 14ms/step - loss: 0.0924 - accuracy: 0.9666 - val_loss: 0.2833 - val_accuracy: 0.9130\n",
            "Epoch 13/20\n",
            "1500/1500 [==============================] - 21s 14ms/step - loss: 0.0787 - accuracy: 0.9712 - val_loss: 0.2913 - val_accuracy: 0.9139\n",
            "Epoch 14/20\n",
            "1500/1500 [==============================] - 21s 14ms/step - loss: 0.0698 - accuracy: 0.9763 - val_loss: 0.3334 - val_accuracy: 0.9085\n",
            "Epoch 15/20\n",
            "1500/1500 [==============================] - 21s 14ms/step - loss: 0.0628 - accuracy: 0.9776 - val_loss: 0.3405 - val_accuracy: 0.9117\n",
            "Epoch 16/20\n",
            "1500/1500 [==============================] - 21s 14ms/step - loss: 0.0552 - accuracy: 0.9803 - val_loss: 0.3443 - val_accuracy: 0.9103\n",
            "Epoch 17/20\n",
            "1500/1500 [==============================] - 21s 14ms/step - loss: 0.0513 - accuracy: 0.9817 - val_loss: 0.3533 - val_accuracy: 0.9149\n",
            "Epoch 18/20\n",
            "1500/1500 [==============================] - 21s 14ms/step - loss: 0.0412 - accuracy: 0.9865 - val_loss: 0.3686 - val_accuracy: 0.9143\n",
            "Epoch 19/20\n",
            "1500/1500 [==============================] - 21s 14ms/step - loss: 0.0366 - accuracy: 0.9878 - val_loss: 0.3905 - val_accuracy: 0.9143\n",
            "Epoch 20/20\n",
            "1500/1500 [==============================] - 21s 14ms/step - loss: 0.0312 - accuracy: 0.9895 - val_loss: 0.4143 - val_accuracy: 0.9117\n"
          ],
          "name": "stdout"
        }
      ]
    },
    {
      "cell_type": "code",
      "metadata": {
        "colab": {
          "base_uri": "https://localhost:8080/",
          "height": 279
        },
        "id": "rQSmUcNSpVc7",
        "outputId": "2ea9d121-13bf-417b-fc2f-62c2368ff033"
      },
      "source": [
        "plt.plot(history.history['loss'])\r\n",
        "plt.plot(history.history['val_loss'])\r\n",
        "plt.ylabel('loss')\r\n",
        "plt.xlabel('iteration')\r\n",
        "plt.legend(['train_loss', 'val_loss'])\r\n",
        "plt.show()"
      ],
      "execution_count": 17,
      "outputs": [
        {
          "output_type": "display_data",
          "data": {
            "image/png": "[encoded data removed]",
            "text/plain": [
              "<Figure size 432x288 with 1 Axes>"
            ]
          },
          "metadata": {
            "tags": [],
            "needs_background": "light"
          }
        }
      ]
    },
    {
      "cell_type": "code",
      "metadata": {
        "colab": {
          "base_uri": "https://localhost:8080/",
          "height": 279
        },
        "id": "QLiRBtqMpjVm",
        "outputId": "d3ca5ba7-b66e-425e-83a8-ba72dde1ab6a"
      },
      "source": [
        "plt.plot(history.history['accuracy'])\r\n",
        "plt.plot(history.history['val_accuracy'])\r\n",
        "plt.ylabel('accuracy')\r\n",
        "plt.xlabel('iteration')\r\n",
        "plt.legend(['train_accuracy', 'val_accuracy'])\r\n",
        "plt.show()"
      ],
      "execution_count": 19,
      "outputs": [
        {
          "output_type": "display_data",
          "data": {
            "image/png": "[encoded data removed]",
            "text/plain": [
              "<Figure size 432x288 with 1 Axes>"
            ]
          },
          "metadata": {
            "tags": [],
            "needs_background": "light"
          }
        }
      ]
    },
    {
      "cell_type": "code",
      "metadata": {
        "colab": {
          "base_uri": "https://localhost:8080/"
        },
        "id": "fAsVT0z5tMgc",
        "outputId": "85dc09d0-107c-4431-d280-cd2c53b93994"
      },
      "source": [
        "conv2 = tf.keras.Sequential()\r\n",
        "conv2.add(Conv2D(10, (3, 3), activation='relu', padding='same', input_shape=(28, 28, 1)))\r\n",
        "conv2.add(MaxPooling2D((2, 2)))\r\n",
        "conv2.add(Flatten())\r\n",
        "conv2.add(Dropout(0.5))\r\n",
        "conv2.add(Dense(100, activation='relu'))\r\n",
        "conv2.add(Dense(10, activation='softmax'))\r\n",
        "conv2.summary()"
      ],
      "execution_count": 22,
      "outputs": [
        {
          "output_type": "stream",
          "text": [
            "Model: \"sequential_2\"\n",
            "_________________________________________________________________\n",
            "Layer (type)                 Output Shape              Param #   \n",
            "=================================================================\n",
            "conv2d_2 (Conv2D)            (None, 28, 28, 10)        100       \n",
            "_________________________________________________________________\n",
            "max_pooling2d_2 (MaxPooling2 (None, 14, 14, 10)        0         \n",
            "_________________________________________________________________\n",
            "flatten_2 (Flatten)          (None, 1960)              0         \n",
            "_________________________________________________________________\n",
            "dropout_1 (Dropout)          (None, 1960)              0         \n",
            "_________________________________________________________________\n",
            "dense_4 (Dense)              (None, 100)               196100    \n",
            "_________________________________________________________________\n",
            "dense_5 (Dense)              (None, 10)                1010      \n",
            "=================================================================\n",
            "Total params: 197,210\n",
            "Trainable params: 197,210\n",
            "Non-trainable params: 0\n",
            "_________________________________________________________________\n"
          ],
          "name": "stdout"
        }
      ]
    },
    {
      "cell_type": "code",
      "metadata": {
        "colab": {
          "base_uri": "https://localhost:8080/"
        },
        "id": "MMemJ1eCth2l",
        "outputId": "6d8017ed-2ada-40a8-9213-620cb9cf3bf3"
      },
      "source": [
        "conv2.compile(optimizer='adam', loss='categorical_crossentropy',metrics=['accuracy'])\r\n",
        "history = conv2.fit(x_train, y_train_encoded, epochs=20, validation_data=(x_val, y_val_encoded))"
      ],
      "execution_count": 23,
      "outputs": [
        {
          "output_type": "stream",
          "text": [
            "Epoch 1/20\n",
            "1500/1500 [==============================] - 23s 15ms/step - loss: 0.6763 - accuracy: 0.7630 - val_loss: 0.3601 - val_accuracy: 0.8786\n",
            "Epoch 2/20\n",
            "1500/1500 [==============================] - 22s 15ms/step - loss: 0.3802 - accuracy: 0.8630 - val_loss: 0.3058 - val_accuracy: 0.8873\n",
            "Epoch 3/20\n",
            "1500/1500 [==============================] - 22s 15ms/step - loss: 0.3360 - accuracy: 0.8760 - val_loss: 0.2805 - val_accuracy: 0.8976\n",
            "Epoch 4/20\n",
            "1500/1500 [==============================] - 21s 14ms/step - loss: 0.3136 - accuracy: 0.8818 - val_loss: 0.2640 - val_accuracy: 0.9039\n",
            "Epoch 5/20\n",
            "1500/1500 [==============================] - 22s 14ms/step - loss: 0.2826 - accuracy: 0.8954 - val_loss: 0.2618 - val_accuracy: 0.9041\n",
            "Epoch 6/20\n",
            "1500/1500 [==============================] - 22s 14ms/step - loss: 0.2704 - accuracy: 0.8990 - val_loss: 0.2561 - val_accuracy: 0.9067\n",
            "Epoch 7/20\n",
            "1500/1500 [==============================] - 22s 14ms/step - loss: 0.2577 - accuracy: 0.9028 - val_loss: 0.2502 - val_accuracy: 0.9093\n",
            "Epoch 8/20\n",
            "1500/1500 [==============================] - 22s 14ms/step - loss: 0.2470 - accuracy: 0.9070 - val_loss: 0.2419 - val_accuracy: 0.9124\n",
            "Epoch 9/20\n",
            "1500/1500 [==============================] - 22s 15ms/step - loss: 0.2366 - accuracy: 0.9116 - val_loss: 0.2437 - val_accuracy: 0.9116\n",
            "Epoch 10/20\n",
            "1500/1500 [==============================] - 22s 14ms/step - loss: 0.2277 - accuracy: 0.9145 - val_loss: 0.2460 - val_accuracy: 0.9128\n",
            "Epoch 11/20\n",
            "1500/1500 [==============================] - 22s 15ms/step - loss: 0.2262 - accuracy: 0.9157 - val_loss: 0.2398 - val_accuracy: 0.9161\n",
            "Epoch 12/20\n",
            "1500/1500 [==============================] - 22s 15ms/step - loss: 0.2119 - accuracy: 0.9190 - val_loss: 0.2414 - val_accuracy: 0.9143\n",
            "Epoch 13/20\n",
            "1500/1500 [==============================] - 22s 14ms/step - loss: 0.2081 - accuracy: 0.9223 - val_loss: 0.2343 - val_accuracy: 0.9169\n",
            "Epoch 14/20\n",
            "1500/1500 [==============================] - 22s 14ms/step - loss: 0.2026 - accuracy: 0.9238 - val_loss: 0.2320 - val_accuracy: 0.9210\n",
            "Epoch 15/20\n",
            "1500/1500 [==============================] - 22s 14ms/step - loss: 0.1942 - accuracy: 0.9277 - val_loss: 0.2355 - val_accuracy: 0.9187\n",
            "Epoch 16/20\n",
            "1500/1500 [==============================] - 22s 14ms/step - loss: 0.1920 - accuracy: 0.9268 - val_loss: 0.2292 - val_accuracy: 0.9213\n",
            "Epoch 17/20\n",
            "1500/1500 [==============================] - 22s 15ms/step - loss: 0.1949 - accuracy: 0.9269 - val_loss: 0.2417 - val_accuracy: 0.9178\n",
            "Epoch 18/20\n",
            "1500/1500 [==============================] - 22s 15ms/step - loss: 0.1871 - accuracy: 0.9295 - val_loss: 0.2368 - val_accuracy: 0.9200\n",
            "Epoch 19/20\n",
            "1500/1500 [==============================] - 22s 15ms/step - loss: 0.1805 - accuracy: 0.9290 - val_loss: 0.2422 - val_accuracy: 0.9166\n",
            "Epoch 20/20\n",
            "1500/1500 [==============================] - 22s 15ms/step - loss: 0.1808 - accuracy: 0.9310 - val_loss: 0.2364 - val_accuracy: 0.9181\n"
          ],
          "name": "stdout"
        }
      ]
    },
    {
      "cell_type": "code",
      "metadata": {
        "colab": {
          "base_uri": "https://localhost:8080/",
          "height": 279
        },
        "id": "zMPlhEPDtqW-",
        "outputId": "da22c253-a6eb-41e2-ed64-b0ee7afeba7b"
      },
      "source": [
        "plt.plot(history.history['loss'])\r\n",
        "plt.plot(history.history['val_loss'])\r\n",
        "plt.ylabel('loss')\r\n",
        "plt.xlabel('iteration')\r\n",
        "plt.legend(['train_loss', 'val_loss'])\r\n",
        "plt.show()"
      ],
      "execution_count": 24,
      "outputs": [
        {
          "output_type": "display_data",
          "data": {
            "image/png": "[encoded data removed]",
            "text/plain": [
              "<Figure size 432x288 with 1 Axes>"
            ]
          },
          "metadata": {
            "tags": [],
            "needs_background": "light"
          }
        }
      ]
    },
    {
      "cell_type": "code",
      "metadata": {
        "colab": {
          "base_uri": "https://localhost:8080/",
          "height": 279
        },
        "id": "0TT7PRq9tsiZ",
        "outputId": "3ab48dba-ebf7-45cd-cde3-e2bd75a9776e"
      },
      "source": [
        "plt.plot(history.history['accuracy'])\r\n",
        "plt.plot(history.history['val_accuracy'])\r\n",
        "plt.ylabel('accuracy')\r\n",
        "plt.xlabel('iteration')\r\n",
        "plt.legend(['train_accuracy', 'val_accuracy'])\r\n",
        "plt.show()"
      ],
      "execution_count": 25,
      "outputs": [
        {
          "output_type": "display_data",
          "data": {
            "image/png": "[encoded data removed]",
            "text/plain": [
              "<Figure size 432x288 with 1 Axes>"
            ]
          },
          "metadata": {
            "tags": [],
            "needs_background": "light"
          }
        }
      ]
    }
  ]
}