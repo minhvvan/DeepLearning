{
  "nbformat": 4,
  "nbformat_minor": 0,
  "metadata": {
    "colab": {
      "name": "MinibatchNetwork.ipynb",
      "provenance": [],
      "collapsed_sections": [],
      "authorship_tag": "ABX9TyMjwQqvSM73Haz8eC0WoV/8",
      "include_colab_link": true
    },
    "kernelspec": {
      "name": "python3",
      "display_name": "Python 3"
    },
    "accelerator": "GPU"
  },
  "cells": [
    {
      "cell_type": "markdown",
      "metadata": {
        "id": "view-in-github",
        "colab_type": "text"
      },
      "source": [
        "<a href=\"https://colab.research.google.com/github/minhvvan/DeepLearning/blob/main/MinibatchNetwork.ipynb\" target=\"_parent\"><img src=\"https://colab.research.google.com/assets/colab-badge.svg\" alt=\"Open In Colab\"/></a>"
      ]
    },
    {
      "cell_type": "code",
      "metadata": {
        "colab": {
          "base_uri": "https://localhost:8080/"
        },
        "id": "iUNHEfyW9tSZ",
        "outputId": "40bac708-eb7e-41bb-e901-35671fa7bdae"
      },
      "source": [
        "import numpy as np\r\n",
        "import matplotlib.pyplot as plt\r\n",
        "from sklearn.datasets import load_breast_cancer\r\n",
        "from sklearn.model_selection import train_test_split\r\n",
        "\r\n",
        "cancer = load_breast_cancer()\r\n",
        "x = cancer.data\r\n",
        "y = cancer.target\r\n",
        "x_train_all, x_test, y_train_all, y_test = train_test_split(x, y, stratify = y, test_size=0.2, random_state=42)\r\n",
        "x_train, x_val, y_train, y_val = train_test_split(x_train_all, y_train_all, stratify = y_train_all, test_size=0.2, random_state=42)\r\n",
        "\r\n",
        "print(x_train.shape, x_val.shape)"
      ],
      "execution_count": 1,
      "outputs": [
        {
          "output_type": "stream",
          "text": [
            "(364, 30) (91, 30)\n"
          ],
          "name": "stdout"
        }
      ]
    },
    {
      "cell_type": "code",
      "metadata": {
        "id": "rkNgBTeR_juJ"
      },
      "source": [
        "class SingleLayer:\r\n",
        "\r\n",
        "  def __init__(self, learning_rate=0.1, l1=2, l2=0):\r\n",
        "    self.w = None\r\n",
        "    self.b = None\r\n",
        "    self.losses = []\r\n",
        "    self.val_losses = []\r\n",
        "    self.w_history = []\r\n",
        "    self.lr = learning_rate\r\n",
        "    self.l1 = l1\r\n",
        "    self.l2 = l2\r\n",
        "\r\n",
        "  def forpass(self,x):\r\n",
        "    z = np.dot(x, self.w) + self.b\r\n",
        "    return z\r\n",
        "\r\n",
        "  def backprop(self, x, err):\r\n",
        "    m = len(x)\r\n",
        "    w_grad = np.dot(x.T, err) / m   #가중치에 대한 평균 그레이디언트 계산\r\n",
        "    b_grad = np.sum(err) / m    #절편에 대한 평균 그레이디언트 계산\r\n",
        "    return w_grad, b_grad\r\n",
        "\r\n",
        "  def activation(self, z):\r\n",
        "    a = 1 / (1 + np.exp(-z))\r\n",
        "    return a\r\n",
        "\r\n",
        "  def fit(self, x, y, epochs=100, x_val=None, y_val=None):\r\n",
        "    y = y.reshape(-1,1) #타겟을 열벡터로 변환\r\n",
        "    y_val = y_val.reshape(-1,1) #val타겟을 열벡터로 변환\r\n",
        "    m = len(x)\r\n",
        "    self.w = np.ones((x.shape[1],1))  #가중치 초기화\r\n",
        "    self.b = 0\r\n",
        "    self.w_history.append(self.w.copy())  #가중치 기록\r\n",
        "\r\n",
        "    for i in range(epochs):\r\n",
        "      z = self.forpass(x) #정방향 계산\r\n",
        "      a = self.activation(z) #활성화 함수\r\n",
        "      err = -(y - a)\r\n",
        "      w_grad, b_grad = self.backprop(x,err)  #역방향 계산\r\n",
        "      w_grad += (self.l1 * np.sign(self.w) + self.l2 * self.w) / m  #그레이디언트 패널티적용\r\n",
        "      self.w -= self.lr * w_grad  #가중치 업데이트\r\n",
        "      self.b -= self.lr * b_grad  #절편 업데이트\r\n",
        "      self.w_history.append(self.w.copy()) #가중치 기록\r\n",
        "      a = np.clip(a, 1e-10,1-1e-10) #클리핑\r\n",
        "      loss = np.sum(-(y*np.log(a) + (1-y)*np.log(1-a))) #로그 손실과 규제 손실 적용\r\n",
        "      self.losses.append((loss + self.reg_loss()) / m)\r\n",
        "      self.update_val_loss(x_val, y_val)  #검증\r\n",
        "\r\n",
        "  \r\n",
        "  def predict(self, x):\r\n",
        "    z = self.forpass(x)\r\n",
        "    return z > 0\r\n",
        "\r\n",
        "  def update_val_loss(self, x_val, y_val):\r\n",
        "    z = self.forpass(x_val)\r\n",
        "    a = self.activation(z)\r\n",
        "    a = np.clip(a, 1e-10,1-1e-10) #클리핑\r\n",
        "    val_loss = np.sum(-(y_val*np.log(a) + (1-y_val)*np.log(1-a)))\r\n",
        "    self.val_losses.append((val_loss + self.reg_loss()) / len(y_val))\r\n",
        "\r\n",
        "  def score(self, x, y):\r\n",
        "    return np.mean(self.predict(x) == y.reshape(-1,1))\r\n",
        "\r\n",
        "  def reg_loss(self):\r\n",
        "    return self.l1 * np.sum(np.abs(self.w)) + self.l2 / 2 * np.sum(self.w**2)\r\n",
        "  \r\n",
        "  def update_val_loss(self, x_val, y_val):\r\n",
        "    z = self.forpass(x_val)   #정방향 계산\r\n",
        "    a = self.activation(z)  #활성화 함수\r\n",
        "    a = np.clip(a, 1e-10,1-1e-10) #클리핑\r\n",
        "    val_loss = np.sum(-(y_val*np.log(a) + (1-y_val)*np.log(1-a)))\r\n",
        "    self.val_losses.append((val_loss + self.reg_loss()) / len(y_val)) #로그 손실, 규제 손실 더하여 기록\r\n"
      ],
      "execution_count": 2,
      "outputs": []
    },
    {
      "cell_type": "code",
      "metadata": {
        "id": "IX_qkL5grdNq"
      },
      "source": [
        "class DualLayer(SingleLayer):\r\n",
        "\r\n",
        "  def __init__(self, units=10, learning_rate=0.1, l1=0, l2=0):\r\n",
        "    self.units = units  #은닉층 뉴런 개수\r\n",
        "    self.w1 = None  #은닉층 가중치\r\n",
        "    self.b1 = None  #은닉층 절편\r\n",
        "    self.w2 = None  #출력층 가중치\r\n",
        "    self.b2 = None  #출력층 절편\r\n",
        "    self.a1 = None  #은닉층 활성화 출력\r\n",
        "    self.losses = []  #훈련 손실\r\n",
        "    self.val_losses = []  #검승 손실\r\n",
        "    self.lr = learning_rate #학습률\r\n",
        "    self.l1 = l1  #l1 규제\r\n",
        "    self.l2 = l2  #l2 규제\r\n",
        "\r\n",
        "  def forpass(self, x):\r\n",
        "    z1 = np.dot(x, self.w1) + self.b1 #첫 번쨰 층 선형식 계산\r\n",
        "    self.a1 = self.activation(z1) #활성화 함수\r\n",
        "    z2 = np.dot(self.a1, self.w2) + self.b2 #두번째 선형식 계산\r\n",
        "\r\n",
        "    return z2\r\n",
        "\r\n",
        "  def backprop(self, x, err):\r\n",
        "    m = len(x)  #샘플 개수\r\n",
        "    w2_grad = np.dot(self.a1.T, err) / m  #출력층 그레이디언트\r\n",
        "    b2_grad = np.sum(err) / m\r\n",
        "    err_to_hidden = np.dot(err, self.w2.T) * self.a1 * (1 - self.a1)  #시그모이드 그레이디언트 계산\r\n",
        "    w1_grad = np.dot(x.T, err_to_hidden) / m  #은닉층 그레이디언트\r\n",
        "    b1_grad = np.sum(err_to_hidden) / m\r\n",
        "    return w1_grad, b1_grad, w2_grad, b2_grad\r\n",
        "\r\n",
        "  def init_weights(self, n_featuers):\r\n",
        "    self.w1 = np.ones((n_featuers, self.units)) #(특성 개수, 은닉층 크기)\r\n",
        "    self.b1 = np.zeros(self.units)  #은닉층 크기\r\n",
        "    self.w2 = np.ones((self.units, 1)) #(은닉층 크기,1)\r\n",
        "    self.b2 = 0\r\n",
        "\r\n",
        "  def fit(self, x, y, epochs=100, x_val=None, y_val=None):\r\n",
        "    y = y.reshape(-1, 1)\r\n",
        "    y_val = y_val.reshape(-1, 1)\r\n",
        "    m = len(x)\r\n",
        "    self.init_weights(x.shape[1]) #가중치 초기화\r\n",
        "    for i in range(epochs):\r\n",
        "      a = self.training(x, y, m)\r\n",
        "      a = np.clip(a, 1e-10,1-1e-10) #클리핑\r\n",
        "      loss = np.sum(-(y*np.log(a) + (1-y)*np.log(1-a))) #로그 손실 추가\r\n",
        "      self.losses.append((loss + self.reg_loss()) / m)\r\n",
        "      self.update_val_loss(x_val, y_val)\r\n",
        "\r\n",
        "  def training(self, x, y, m):\r\n",
        "    z = self.forpass(x) #정방향 계산\r\n",
        "    a = self.activation(z)  #활성화 함수\r\n",
        "    err = -(y - a)  #오차 계산\r\n",
        "    w1_grad, b1_grad, w2_grad, b2_grad = self.backprop(x, err)\r\n",
        "    #그레이디언트 규제\r\n",
        "    w1_grad += (self.l1 * np.sign(self.w1) + self.l2 * self.w1) / m\r\n",
        "    w2_grad += (self.l1 * np.sign(self.w2) + self.l2 * self.w2) / m\r\n",
        "    #은닉층 가중치 절편 업데이트\r\n",
        "    self.w1 -= self.lr * w1_grad\r\n",
        "    self.b1 -= self.lr * b1_grad\r\n",
        "    #출력층 가중치 절편 업데이트\r\n",
        "    self.w2 -= self.lr * w2_grad\r\n",
        "    self.b2 -= self.lr * b2_grad\r\n",
        "\r\n",
        "    return a\r\n",
        "\r\n",
        "  def reg_loss(self):\r\n",
        "    #은닉층과 출력층의 가중치에 규제 적용\r\n",
        "    return self.l1 * (np.sum(np.abs(self.w1)) + np.sum(np.abs(self.w2))) + self.l2 / 2 * (np.sum(self.w1**2) + np.sum(self.w2**2))"
      ],
      "execution_count": 3,
      "outputs": []
    },
    {
      "cell_type": "code",
      "metadata": {
        "id": "iOFTQxj1zs8_"
      },
      "source": [
        "class RandomInitNetwork(DualLayer):\r\n",
        "  def init_weights(self, n_featuers):\r\n",
        "    np.random.seed(42)\r\n",
        "    self.w1 = np.random.normal(0, 1, (n_featuers,self.units))  #(특성 개수, 은닉층 크기)\r\n",
        "    self.b1 = np.zeros(self.units)  #은닉층 크기\r\n",
        "    self.w2 = np.random.normal(0, 1, (self.units, 1))  #(은닉층 크기, 1)\r\n",
        "    self.b2 = 0"
      ],
      "execution_count": 4,
      "outputs": []
    },
    {
      "cell_type": "code",
      "metadata": {
        "id": "HP119PGTGXrv"
      },
      "source": [
        "class MinibatchNetwork(RandomInitNetwork):\r\n",
        "\r\n",
        "  def __init__(self, units=10, batch_size=32, learning_rate=0.1, l1=0, l2=0):\r\n",
        "    super().__init__(units, learning_rate, l1, l2)\r\n",
        "    self.batch_size = batch_size  #배치 크기\r\n",
        "\r\n",
        "  def fit(self, x, y, epochs=100, x_val=None, y_val=None):\r\n",
        "    y_val = y_val.reshape(-1,1) #타깃 열 벡터로 변환\r\n",
        "    self.init_weights(x.shape[1]) #은닉층과 출력층 가중치 초기화\r\n",
        "    np.random.seed(42)\r\n",
        "    for i in range(epochs):\r\n",
        "      loss = 0\r\n",
        "      for x_batch, y_batch in self.gen_batch(x, y):\r\n",
        "        y_batch = y_batch.reshape(-1, 1)  #타깃 열 벡터로 변환\r\n",
        "        m = len(x_batch)\r\n",
        "        a = self.training(x_batch, y_batch, m)\r\n",
        "        a = np.clip(a, 1e-10,1-1e-10) #클리핑\r\n",
        "        loss += np.sum(-(y_batch*np.log(a) + (1-y_batch)*np.log(1-a)))\r\n",
        "      self.losses.append((loss + self.reg_loss()) / len(x))\r\n",
        "      self.update_val_loss(x_val, y_val)  #검증 손실 계산\r\n",
        "\r\n",
        "  def gen_batch(self, x, y):\r\n",
        "    length = len(x)\r\n",
        "    bins = length // self.batch_size  #미니 배치 횟수\r\n",
        "    if length % self.batch_size:  #나누어 떨어지지 않으면 1추가\r\n",
        "      bins += 1\r\n",
        "    indexes = np.random.permutation(np.arange(len(x)))  #인덱스 셔플\r\n",
        "    x = x[indexes]\r\n",
        "    y = y[indexes]\r\n",
        "    for i in range(bins):\r\n",
        "      start = self.batch_size * i\r\n",
        "      end = self.batch_size * (i + 1)\r\n",
        "      yield x[start:end], y[start:end]  #batch_size만큼 슬라이싱하여 반환"
      ],
      "execution_count": 16,
      "outputs": []
    },
    {
      "cell_type": "code",
      "metadata": {
        "id": "yjH1O9zKAilW"
      },
      "source": [
        "from sklearn.preprocessing import StandardScaler\r\n",
        "\r\n",
        "scaler = StandardScaler()\r\n",
        "scaler.fit(x_train)\r\n",
        "x_train_scaled = scaler.transform(x_train)\r\n",
        "x_val_scaled = scaler.transform(x_val)"
      ],
      "execution_count": 6,
      "outputs": []
    },
    {
      "cell_type": "code",
      "metadata": {
        "id": "1JFiq-3PFRXA",
        "colab": {
          "base_uri": "https://localhost:8080/"
        },
        "outputId": "9d33e673-63a8-43aa-f282-5f4f1c8d68e6"
      },
      "source": [
        "single_layer = SingleLayer(l2=0.01)\r\n",
        "single_layer.fit(x_train_scaled, y_train, x_val = x_val_scaled, y_val= y_val, epochs=10000)\r\n",
        "single_layer.score(x_val_scaled,y_val)"
      ],
      "execution_count": 7,
      "outputs": [
        {
          "output_type": "execute_result",
          "data": {
            "text/plain": [
              "0.967032967032967"
            ]
          },
          "metadata": {
            "tags": []
          },
          "execution_count": 7
        }
      ]
    },
    {
      "cell_type": "code",
      "metadata": {
        "colab": {
          "base_uri": "https://localhost:8080/"
        },
        "id": "EwfJ_3lRxJxZ",
        "outputId": "1a6ea96d-9fca-4e4d-eb30-47ef6a7fa001"
      },
      "source": [
        "dual_layer = DualLayer(l2=0.01)\r\n",
        "dual_layer.fit(x_train_scaled, y_train, x_val = x_val_scaled, y_val= y_val, epochs=20000)\r\n",
        "dual_layer.score(x_val_scaled,y_val)\r\n"
      ],
      "execution_count": 8,
      "outputs": [
        {
          "output_type": "execute_result",
          "data": {
            "text/plain": [
              "0.978021978021978"
            ]
          },
          "metadata": {
            "tags": []
          },
          "execution_count": 8
        }
      ]
    },
    {
      "cell_type": "code",
      "metadata": {
        "colab": {
          "base_uri": "https://localhost:8080/"
        },
        "id": "aYRyjvq80Ygh",
        "outputId": "66ca96da-d3bf-4b94-ef32-c7d42115a141"
      },
      "source": [
        "random_init_net = RandomInitNetwork(l2=0.01)\r\n",
        "random_init_net.fit(x_train_scaled, y_train, x_val = x_val_scaled, y_val= y_val, epochs=500)\r\n",
        "random_init_net.score(x_val_scaled,y_val)\r\n",
        "\r\n",
        "plt.ylim(0, 0.4)\r\n",
        "plt.plot(random_init_net.losses)\r\n",
        "plt.plot(random_init_net.val_losses)\r\n",
        "plt.ylabel('loss')\r\n",
        "plt.xlabel('epochs')\r\n",
        "plt.legend(['train_loss', 'val_loss'])\r\n",
        "plt.show()"
      ],
      "execution_count": 15,
      "outputs": [
        {
          "output_type": "execute_result",
          "data": {
            "text/plain": [
              "0.978021978021978"
            ]
          },
          "metadata": {
            "tags": []
          },
          "execution_count": 15
        }
      ]
    },
    {
      "cell_type": "code",
      "metadata": {
        "colab": {
          "base_uri": "https://localhost:8080/",
          "height": 279
        },
        "id": "Vc1gVQgvLaRP",
        "outputId": "ea5c9b40-1921-4ecc-99a1-de35b429bdbf"
      },
      "source": [
        "minibatch_net = MinibatchNetwork(l2=0.01, batch_size=128)\r\n",
        "minibatch_net.fit(x_train_scaled, y_train, x_val = x_val_scaled, y_val= y_val, epochs=500)\r\n",
        "minibatch_net.score(x_val_scaled,y_val)\r\n",
        "\r\n",
        "plt.plot(minibatch_net.losses)\r\n",
        "plt.plot(minibatch_net.val_losses)\r\n",
        "plt.ylabel('loss')\r\n",
        "plt.xlabel('epochs')\r\n",
        "plt.legend(['train_loss', 'val_loss'])\r\n",
        "plt.show()"
      ],
      "execution_count": 18,
      "outputs": [
        {
          "output_type": "display_data",
          "data": {
            "image/png": "[encoded data removed]",
            "text/plain": [
              "<Figure size 432x288 with 1 Axes>"
            ]
          },
          "metadata": {
            "tags": [],
            "needs_background": "light"
          }
        }
      ]
    },
    {
      "cell_type": "code",
      "metadata": {
        "id": "Vsqg7hXqGVt9",
        "colab": {
          "base_uri": "https://localhost:8080/",
          "height": 283
        },
        "outputId": "0355a0ce-9339-4287-d7ae-d0025864b24a"
      },
      "source": [
        "plt.ylim(0, 0.4)\r\n",
        "plt.plot(single_layer.losses)\r\n",
        "plt.plot(single_layer.val_losses)\r\n",
        "plt.ylabel('loss')\r\n",
        "plt.xlabel('epochs')\r\n",
        "plt.legend(['train_loss', 'val_loss'])\r\n",
        "plt.show()"
      ],
      "execution_count": 11,
      "outputs": [
        {
          "output_type": "display_data",
          "data": {
            "image/png": "[encoded data removed]",
            "text/plain": [
              "<Figure size 432x288 with 1 Axes>"
            ]
          },
          "metadata": {
            "tags": [],
            "needs_background": "light"
          }
        }
      ]
    },
    {
      "cell_type": "code",
      "metadata": {
        "colab": {
          "base_uri": "https://localhost:8080/",
          "height": 283
        },
        "id": "z6gUtlLeyITC",
        "outputId": "152ffcad-e199-4dc9-c577-c939d17ce98c"
      },
      "source": [
        "plt.ylim(0, 0.4)\r\n",
        "plt.plot(dual_layer.losses)\r\n",
        "plt.plot(dual_layer.val_losses)\r\n",
        "plt.ylabel('loss')\r\n",
        "plt.xlabel('epochs')\r\n",
        "plt.legend(['train_loss', 'val_loss'])\r\n",
        "plt.show()"
      ],
      "execution_count": 12,
      "outputs": [
        {
          "output_type": "display_data",
          "data": {
            "image/png": "[encoded data removed]",
            "text/plain": [
              "<Figure size 432x288 with 1 Axes>"
            ]
          },
          "metadata": {
            "tags": [],
            "needs_background": "light"
          }
        }
      ]
    },
    {
      "cell_type": "code",
      "metadata": {
        "id": "x85qUNtAIW3d",
        "colab": {
          "base_uri": "https://localhost:8080/",
          "height": 279
        },
        "outputId": "0f2a5d5d-4078-4317-92e4-f485b7e90a8b"
      },
      "source": [
        "w2 = []\r\n",
        "w3 = []\r\n",
        "for w in single_layer.w_history:\r\n",
        "  w2.append(w[2])\r\n",
        "  w3.append(w[3])\r\n",
        "\r\n",
        "plt.plot(w2,w3)\r\n",
        "plt.plot(w2[-1], w3[-1], 'ro')\r\n",
        "plt.xlabel('w[2]')\r\n",
        "plt.ylabel('w[3]')\r\n",
        "plt.show()"
      ],
      "execution_count": 13,
      "outputs": [
        {
          "output_type": "display_data",
          "data": {
            "image/png": "[encoded data removed]",
            "text/plain": [
              "<Figure size 432x288 with 1 Axes>"
            ]
          },
          "metadata": {
            "tags": [],
            "needs_background": "light"
          }
        }
      ]
    }
  ]
}