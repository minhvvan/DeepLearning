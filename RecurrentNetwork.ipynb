{
  "nbformat": 4,
  "nbformat_minor": 0,
  "metadata": {
    "colab": {
      "name": "RecurrentNetwork.ipynb",
      "provenance": [],
      "collapsed_sections": [],
      "authorship_tag": "ABX9TyMpf8Xu0PTqSV0Xtr9qhm7A",
      "include_colab_link": true
    },
    "kernelspec": {
      "name": "python3",
      "display_name": "Python 3"
    },
    "accelerator": "GPU"
  },
  "cells": [
    {
      "cell_type": "markdown",
      "metadata": {
        "id": "view-in-github",
        "colab_type": "text"
      },
      "source": [
        "<a href=\"https://colab.research.google.com/github/minhvvan/DeepLearning/blob/main/RecurrentNetwork.ipynb\" target=\"_parent\"><img src=\"https://colab.research.google.com/assets/colab-badge.svg\" alt=\"Open In Colab\"/></a>"
      ]
    },
    {
      "cell_type": "code",
      "metadata": {
        "id": "iUNHEfyW9tSZ"
      },
      "source": [
        "import numpy as np\r\n",
        "import tensorflow as tf\r\n",
        "import matplotlib.pyplot as plt\r\n",
        "from sklearn.datasets import load_breast_cancer\r\n",
        "from sklearn.model_selection import train_test_split"
      ],
      "execution_count": 1,
      "outputs": []
    },
    {
      "cell_type": "code",
      "metadata": {
        "id": "rkNgBTeR_juJ"
      },
      "source": [
        "class SingleLayer:\r\n",
        "\r\n",
        "  def __init__(self, learning_rate=0.1, l1=2, l2=0):\r\n",
        "    self.w = None\r\n",
        "    self.b = None\r\n",
        "    self.losses = []\r\n",
        "    self.val_losses = []\r\n",
        "    self.w_history = []\r\n",
        "    self.lr = learning_rate\r\n",
        "    self.l1 = l1\r\n",
        "    self.l2 = l2\r\n",
        "\r\n",
        "  def forpass(self,x):\r\n",
        "    z = np.dot(x, self.w) + self.b\r\n",
        "    return z\r\n",
        "\r\n",
        "  def backprop(self, x, err):\r\n",
        "    m = len(x)\r\n",
        "    w_grad = np.dot(x.T, err) / m   #가중치에 대한 평균 그레이디언트 계산\r\n",
        "    b_grad = np.sum(err) / m    #절편에 대한 평균 그레이디언트 계산\r\n",
        "    return w_grad, b_grad\r\n",
        "\r\n",
        "  def activation(self, z):\r\n",
        "    a = 1 / (1 + np.exp(-z))\r\n",
        "    return a\r\n",
        "\r\n",
        "  def fit(self, x, y, epochs=100, x_val=None, y_val=None):\r\n",
        "    y = y.reshape(-1,1) #타겟을 열벡터로 변환\r\n",
        "    y_val = y_val.reshape(-1,1) #val타겟을 열벡터로 변환\r\n",
        "    m = len(x)\r\n",
        "    self.w = np.ones((x.shape[1],1))  #가중치 초기화\r\n",
        "    self.b = 0\r\n",
        "    self.w_history.append(self.w.copy())  #가중치 기록\r\n",
        "\r\n",
        "    for i in range(epochs):\r\n",
        "      z = self.forpass(x) #정방향 계산\r\n",
        "      a = self.activation(z) #활성화 함수\r\n",
        "      err = -(y - a)\r\n",
        "      w_grad, b_grad = self.backprop(x,err)  #역방향 계산\r\n",
        "      w_grad += (self.l1 * np.sign(self.w) + self.l2 * self.w) / m  #그레이디언트 패널티적용\r\n",
        "      self.w -= self.lr * w_grad  #가중치 업데이트\r\n",
        "      self.b -= self.lr * b_grad  #절편 업데이트\r\n",
        "      self.w_history.append(self.w.copy()) #가중치 기록\r\n",
        "      a = np.clip(a, 1e-10,1-1e-10) #클리핑\r\n",
        "      loss = np.sum(-(y*np.log(a) + (1-y)*np.log(1-a))) #로그 손실과 규제 손실 적용\r\n",
        "      self.losses.append((loss + self.reg_loss()) / m)\r\n",
        "      self.update_val_loss(x_val, y_val)  #검증\r\n",
        "\r\n",
        "  \r\n",
        "  def predict(self, x):\r\n",
        "    z = self.forpass(x)\r\n",
        "    return z > 0\r\n",
        "\r\n",
        "  def update_val_loss(self, x_val, y_val):\r\n",
        "    z = self.forpass(x_val)\r\n",
        "    a = self.activation(z)\r\n",
        "    a = np.clip(a, 1e-10,1-1e-10) #클리핑\r\n",
        "    val_loss = np.sum(-(y_val*np.log(a) + (1-y_val)*np.log(1-a)))\r\n",
        "    self.val_losses.append((val_loss + self.reg_loss()) / len(y_val))\r\n",
        "\r\n",
        "  def score(self, x, y):\r\n",
        "    return np.mean(self.predict(x) == y.reshape(-1,1))\r\n",
        "\r\n",
        "  def reg_loss(self):\r\n",
        "    return self.l1 * np.sum(np.abs(self.w)) + self.l2 / 2 * np.sum(self.w**2)\r\n",
        "  \r\n",
        "  def update_val_loss(self, x_val, y_val):\r\n",
        "    z = self.forpass(x_val)   #정방향 계산\r\n",
        "    a = self.activation(z)  #활성화 함수\r\n",
        "    a = np.clip(a, 1e-10,1-1e-10) #클리핑\r\n",
        "    val_loss = np.sum(-(y_val*np.log(a) + (1-y_val)*np.log(1-a)))\r\n",
        "    self.val_losses.append((val_loss + self.reg_loss()) / len(y_val)) #로그 손실, 규제 손실 더하여 기록\r\n"
      ],
      "execution_count": 2,
      "outputs": []
    },
    {
      "cell_type": "code",
      "metadata": {
        "id": "IX_qkL5grdNq"
      },
      "source": [
        "class DualLayer(SingleLayer):\r\n",
        "\r\n",
        "  def __init__(self, units=10, learning_rate=0.1, l1=0, l2=0):\r\n",
        "    self.units = units  #은닉층 뉴런 개수\r\n",
        "    self.w1 = None  #은닉층 가중치\r\n",
        "    self.b1 = None  #은닉층 절편\r\n",
        "    self.w2 = None  #출력층 가중치\r\n",
        "    self.b2 = None  #출력층 절편\r\n",
        "    self.a1 = None  #은닉층 활성화 출력\r\n",
        "    self.losses = []  #훈련 손실\r\n",
        "    self.val_losses = []  #검승 손실\r\n",
        "    self.lr = learning_rate #학습률\r\n",
        "    self.l1 = l1  #l1 규제\r\n",
        "    self.l2 = l2  #l2 규제\r\n",
        "\r\n",
        "  def forpass(self, x):\r\n",
        "    z1 = np.dot(x, self.w1) + self.b1 #첫 번쨰 층 선형식 계산\r\n",
        "    self.a1 = self.activation(z1) #활성화 함수\r\n",
        "    z2 = np.dot(self.a1, self.w2) + self.b2 #두번째 선형식 계산\r\n",
        "\r\n",
        "    return z2\r\n",
        "\r\n",
        "  def backprop(self, x, err):\r\n",
        "    m = len(x)  #샘플 개수\r\n",
        "    w2_grad = np.dot(self.a1.T, err) / m  #출력층 그레이디언트\r\n",
        "    b2_grad = np.sum(err) / m\r\n",
        "    err_to_hidden = np.dot(err, self.w2.T) * self.a1 * (1 - self.a1)  #시그모이드 그레이디언트 계산\r\n",
        "    w1_grad = np.dot(x.T, err_to_hidden) / m  #은닉층 그레이디언트\r\n",
        "    b1_grad = np.sum(err_to_hidden) / m\r\n",
        "    return w1_grad, b1_grad, w2_grad, b2_grad\r\n",
        "\r\n",
        "  def init_weights(self, n_featuers):\r\n",
        "    self.w1 = np.ones((n_featuers, self.units)) #(특성 개수, 은닉층 크기)\r\n",
        "    self.b1 = np.zeros(self.units)  #은닉층 크기\r\n",
        "    self.w2 = np.ones((self.units, 1)) #(은닉층 크기,1)\r\n",
        "    self.b2 = 0\r\n",
        "\r\n",
        "  def fit(self, x, y, epochs=100, x_val=None, y_val=None):\r\n",
        "    y = y.reshape(-1, 1)\r\n",
        "    y_val = y_val.reshape(-1, 1)\r\n",
        "    m = len(x)\r\n",
        "    self.init_weights(x.shape[1]) #가중치 초기화\r\n",
        "    for i in range(epochs):\r\n",
        "      a = self.training(x, y, m)\r\n",
        "      a = np.clip(a, 1e-10,1-1e-10) #클리핑\r\n",
        "      loss = np.sum(-(y*np.log(a) + (1-y)*np.log(1-a))) #로그 손실 추가\r\n",
        "      self.losses.append((loss + self.reg_loss()) / m)\r\n",
        "      self.update_val_loss(x_val, y_val)\r\n",
        "\r\n",
        "  def training(self, x, y, m):\r\n",
        "    z = self.forpass(x) #정방향 계산\r\n",
        "    a = self.activation(z)  #활성화 함수\r\n",
        "    err = -(y - a)  #오차 계산\r\n",
        "    w1_grad, b1_grad, w2_grad, b2_grad = self.backprop(x, err)\r\n",
        "    #그레이디언트 규제\r\n",
        "    w1_grad += (self.l1 * np.sign(self.w1) + self.l2 * self.w1) / m\r\n",
        "    w2_grad += (self.l1 * np.sign(self.w2) + self.l2 * self.w2) / m\r\n",
        "    #은닉층 가중치 절편 업데이트\r\n",
        "    self.w1 -= self.lr * w1_grad\r\n",
        "    self.b1 -= self.lr * b1_grad\r\n",
        "    #출력층 가중치 절편 업데이트\r\n",
        "    self.w2 -= self.lr * w2_grad\r\n",
        "    self.b2 -= self.lr * b2_grad\r\n",
        "\r\n",
        "    return a\r\n",
        "\r\n",
        "  def reg_loss(self):\r\n",
        "    #은닉층과 출력층의 가중치에 규제 적용\r\n",
        "    return self.l1 * (np.sum(np.abs(self.w1)) + np.sum(np.abs(self.w2))) + self.l2 / 2 * (np.sum(self.w1**2) + np.sum(self.w2**2))"
      ],
      "execution_count": 3,
      "outputs": []
    },
    {
      "cell_type": "code",
      "metadata": {
        "id": "iOFTQxj1zs8_"
      },
      "source": [
        "class RandomInitNetwork(DualLayer):\r\n",
        "  def init_weights(self, n_featuers):\r\n",
        "    np.random.seed(42)\r\n",
        "    self.w1 = np.random.normal(0, 1, (n_featuers,self.units))  #(특성 개수, 은닉층 크기)\r\n",
        "    self.b1 = np.zeros(self.units)  #은닉층 크기\r\n",
        "    self.w2 = np.random.normal(0, 1, (self.units, 1))  #(은닉층 크기, 1)\r\n",
        "    self.b2 = 0"
      ],
      "execution_count": 4,
      "outputs": []
    },
    {
      "cell_type": "code",
      "metadata": {
        "id": "HP119PGTGXrv"
      },
      "source": [
        "class MinibatchNetwork(RandomInitNetwork):\r\n",
        "\r\n",
        "  def __init__(self, units=10, batch_size=32, learning_rate=0.1, l1=0, l2=0):\r\n",
        "    super().__init__(units, learning_rate, l1, l2)\r\n",
        "    self.batch_size = batch_size  #배치 크기\r\n",
        "\r\n",
        "  def fit(self, x, y, epochs=100, x_val=None, y_val=None):\r\n",
        "    y_val = y_val.reshape(-1,1) #타깃 열 벡터로 변환\r\n",
        "    self.init_weights(x.shape[1]) #은닉층과 출력층 가중치 초기화\r\n",
        "    np.random.seed(42)\r\n",
        "    for i in range(epochs):\r\n",
        "      loss = 0\r\n",
        "      for x_batch, y_batch in self.gen_batch(x, y):\r\n",
        "        y_batch = y_batch.reshape(-1, 1)  #타깃 열 벡터로 변환\r\n",
        "        m = len(x_batch)\r\n",
        "        a = self.training(x_batch, y_batch, m)\r\n",
        "        a = np.clip(a, 1e-10,1-1e-10) #클리핑\r\n",
        "        loss += np.sum(-(y_batch*np.log(a) + (1-y_batch)*np.log(1-a)))\r\n",
        "      self.losses.append((loss + self.reg_loss()) / len(x))\r\n",
        "      self.update_val_loss(x_val, y_val)  #검증 손실 계산\r\n",
        "\r\n",
        "  def gen_batch(self, x, y):\r\n",
        "    length = len(x)\r\n",
        "    bins = length // self.batch_size  #미니 배치 횟수\r\n",
        "    if length % self.batch_size:  #나누어 떨어지지 않으면 1추가\r\n",
        "      bins += 1\r\n",
        "    indexes = np.random.permutation(np.arange(len(x)))  #인덱스 셔플\r\n",
        "    x = x[indexes]\r\n",
        "    y = y[indexes]\r\n",
        "    for i in range(bins):\r\n",
        "      start = self.batch_size * i\r\n",
        "      end = self.batch_size * (i + 1)\r\n",
        "      yield x[start:end], y[start:end]  #batch_size만큼 슬라이싱하여 반환"
      ],
      "execution_count": 5,
      "outputs": []
    },
    {
      "cell_type": "code",
      "metadata": {
        "colab": {
          "base_uri": "https://localhost:8080/"
        },
        "id": "niVlscrsZKRs",
        "outputId": "bc5edb51-a663-4149-a9b9-9af4c049fd2e"
      },
      "source": [
        "import numpy as np\r\n",
        "from tensorflow.keras.datasets import imdb\r\n",
        "\r\n",
        "(x_train_all, y_train_all), (x_test, y_test) = imdb.load_data(skip_top=20, num_words=100)"
      ],
      "execution_count": 6,
      "outputs": [
        {
          "output_type": "stream",
          "text": [
            "<string>:6: VisibleDeprecationWarning: Creating an ndarray from ragged nested sequences (which is a list-or-tuple of lists-or-tuples-or ndarrays with different lengths or shapes) is deprecated. If you meant to do this, you must specify 'dtype=object' when creating the ndarray\n",
            "/usr/local/lib/python3.6/dist-packages/tensorflow/python/keras/datasets/imdb.py:159: VisibleDeprecationWarning: Creating an ndarray from ragged nested sequences (which is a list-or-tuple of lists-or-tuples-or ndarrays with different lengths or shapes) is deprecated. If you meant to do this, you must specify 'dtype=object' when creating the ndarray\n",
            "  x_train, y_train = np.array(xs[:idx]), np.array(labels[:idx])\n",
            "/usr/local/lib/python3.6/dist-packages/tensorflow/python/keras/datasets/imdb.py:160: VisibleDeprecationWarning: Creating an ndarray from ragged nested sequences (which is a list-or-tuple of lists-or-tuples-or ndarrays with different lengths or shapes) is deprecated. If you meant to do this, you must specify 'dtype=object' when creating the ndarray\n",
            "  x_test, y_test = np.array(xs[idx:]), np.array(labels[idx:])\n"
          ],
          "name": "stderr"
        }
      ]
    },
    {
      "cell_type": "code",
      "metadata": {
        "colab": {
          "base_uri": "https://localhost:8080/"
        },
        "id": "MbsrjXUvZLgU",
        "outputId": "56fe65bd-c1fb-4868-c4ec-7809c1b93b26"
      },
      "source": [
        "print(x_train_all.shape, y_train_all.shape)"
      ],
      "execution_count": 7,
      "outputs": [
        {
          "output_type": "stream",
          "text": [
            "(25000,) (25000,)\n"
          ],
          "name": "stdout"
        }
      ]
    },
    {
      "cell_type": "code",
      "metadata": {
        "colab": {
          "base_uri": "https://localhost:8080/"
        },
        "id": "iwpoh-hIZM9y",
        "outputId": "296470c0-a972-4b9b-f6f2-bb5d6e2714d7"
      },
      "source": [
        "print(x_train_all[0])"
      ],
      "execution_count": 8,
      "outputs": [
        {
          "output_type": "stream",
          "text": [
            "[2, 2, 22, 2, 43, 2, 2, 2, 2, 65, 2, 2, 66, 2, 2, 2, 36, 2, 2, 25, 2, 43, 2, 2, 50, 2, 2, 2, 35, 2, 2, 2, 2, 2, 2, 2, 2, 2, 2, 2, 39, 2, 2, 2, 2, 2, 2, 38, 2, 2, 2, 2, 50, 2, 2, 2, 2, 2, 2, 22, 2, 2, 2, 2, 2, 22, 71, 87, 2, 2, 43, 2, 38, 76, 2, 2, 2, 2, 22, 2, 2, 2, 2, 2, 2, 2, 2, 2, 62, 2, 2, 2, 2, 2, 2, 2, 2, 2, 2, 2, 2, 66, 2, 33, 2, 2, 2, 2, 38, 2, 2, 25, 2, 51, 36, 2, 48, 25, 2, 33, 2, 22, 2, 2, 28, 77, 52, 2, 2, 2, 2, 82, 2, 2, 2, 2, 2, 2, 2, 2, 2, 2, 2, 2, 2, 2, 36, 71, 43, 2, 2, 26, 2, 2, 46, 2, 2, 2, 2, 2, 2, 88, 2, 2, 2, 2, 98, 32, 2, 56, 26, 2, 2, 2, 2, 2, 2, 2, 22, 21, 2, 2, 26, 2, 2, 2, 30, 2, 2, 51, 36, 28, 2, 92, 25, 2, 2, 2, 65, 2, 38, 2, 88, 2, 2, 2, 2, 2, 2, 2, 2, 32, 2, 2, 2, 2, 2, 32]\n"
          ],
          "name": "stdout"
        }
      ]
    },
    {
      "cell_type": "code",
      "metadata": {
        "colab": {
          "base_uri": "https://localhost:8080/"
        },
        "id": "Xl1oGEChZONr",
        "outputId": "03bd75d3-fd42-44ec-dfac-938aab325b74"
      },
      "source": [
        "for i in range(len(x_train_all)):\r\n",
        "  x_train_all[i] = [w for w in x_train_all[i] if w > 2]\r\n",
        "\r\n",
        "print(x_train_all[0])"
      ],
      "execution_count": 9,
      "outputs": [
        {
          "output_type": "stream",
          "text": [
            "[22, 43, 65, 66, 36, 25, 43, 50, 35, 39, 38, 50, 22, 22, 71, 87, 43, 38, 76, 22, 62, 66, 33, 38, 25, 51, 36, 48, 25, 33, 22, 28, 77, 52, 82, 36, 71, 43, 26, 46, 88, 98, 32, 56, 26, 22, 21, 26, 30, 51, 36, 28, 92, 25, 65, 38, 88, 32, 32]\n"
          ],
          "name": "stdout"
        }
      ]
    },
    {
      "cell_type": "code",
      "metadata": {
        "colab": {
          "base_uri": "https://localhost:8080/"
        },
        "id": "KDYAUH_ZZPhh",
        "outputId": "b1b26020-9ab7-4335-c03d-a5480ef24fa4"
      },
      "source": [
        "word_to_index = imdb.get_word_index()\r\n",
        "word_to_index['movie']"
      ],
      "execution_count": 10,
      "outputs": [
        {
          "output_type": "execute_result",
          "data": {
            "text/plain": [
              "17"
            ]
          },
          "metadata": {
            "tags": []
          },
          "execution_count": 10
        }
      ]
    },
    {
      "cell_type": "code",
      "metadata": {
        "colab": {
          "base_uri": "https://localhost:8080/"
        },
        "id": "7MpIUPo9ZQs0",
        "outputId": "d08692c5-a719-4ff2-8973-3941878a671b"
      },
      "source": [
        "index_to_word = {word_to_index[k]: k for k in word_to_index}\r\n",
        "\r\n",
        "for w in x_train_all[0]:\r\n",
        "  print(index_to_word[w - 3], end=' ')"
      ],
      "execution_count": 11,
      "outputs": [
        {
          "output_type": "stream",
          "text": [
            "film just story really they you just there an from so there film film were great just so much film would really at so you what they if you at film have been good also they were just are out because them all up are film but are be what they have don't you story so because all all "
          ],
          "name": "stdout"
        }
      ]
    },
    {
      "cell_type": "code",
      "metadata": {
        "colab": {
          "base_uri": "https://localhost:8080/"
        },
        "id": "5NSOqn-xZSFM",
        "outputId": "8ad15628-3872-4a5a-a816-f99ac953fd08"
      },
      "source": [
        "print(len(x_train_all[0]), len(x_train_all[1]))\r\n",
        "print(y_train_all[:10])"
      ],
      "execution_count": 12,
      "outputs": [
        {
          "output_type": "stream",
          "text": [
            "59 32\n",
            "[1 0 0 1 0 0 1 0 1 0]\n"
          ],
          "name": "stdout"
        }
      ]
    },
    {
      "cell_type": "code",
      "metadata": {
        "colab": {
          "base_uri": "https://localhost:8080/"
        },
        "id": "BPFo0ZVbZTvv",
        "outputId": "bff5e1aa-91f5-4223-c53f-df9fcbe9a396"
      },
      "source": [
        "np.random.seed(42)\r\n",
        "random_index = np.random.permutation(25000)\r\n",
        "\r\n",
        "x_train = x_train_all[[random_index[:20000]]]\r\n",
        "y_train = y_train_all[[random_index[:20000]]]\r\n",
        "x_val = x_train_all[[random_index[20000:]]]\r\n",
        "y_val = y_train_all[[random_index[20000:]]]"
      ],
      "execution_count": 13,
      "outputs": [
        {
          "output_type": "stream",
          "text": [
            "/usr/local/lib/python3.6/dist-packages/ipykernel_launcher.py:4: FutureWarning: Using a non-tuple sequence for multidimensional indexing is deprecated; use `arr[tuple(seq)]` instead of `arr[seq]`. In the future this will be interpreted as an array index, `arr[np.array(seq)]`, which will result either in an error or a different result.\n",
            "  after removing the cwd from sys.path.\n",
            "/usr/local/lib/python3.6/dist-packages/ipykernel_launcher.py:5: FutureWarning: Using a non-tuple sequence for multidimensional indexing is deprecated; use `arr[tuple(seq)]` instead of `arr[seq]`. In the future this will be interpreted as an array index, `arr[np.array(seq)]`, which will result either in an error or a different result.\n",
            "  \"\"\"\n",
            "/usr/local/lib/python3.6/dist-packages/ipykernel_launcher.py:6: FutureWarning: Using a non-tuple sequence for multidimensional indexing is deprecated; use `arr[tuple(seq)]` instead of `arr[seq]`. In the future this will be interpreted as an array index, `arr[np.array(seq)]`, which will result either in an error or a different result.\n",
            "  \n",
            "/usr/local/lib/python3.6/dist-packages/ipykernel_launcher.py:7: FutureWarning: Using a non-tuple sequence for multidimensional indexing is deprecated; use `arr[tuple(seq)]` instead of `arr[seq]`. In the future this will be interpreted as an array index, `arr[np.array(seq)]`, which will result either in an error or a different result.\n",
            "  import sys\n"
          ],
          "name": "stderr"
        }
      ]
    },
    {
      "cell_type": "code",
      "metadata": {
        "id": "CA07_L6RZUrl"
      },
      "source": [
        "from tensorflow.keras.preprocessing import sequence\r\n",
        "\r\n",
        "maxlen=100\r\n",
        "x_train_seq = sequence.pad_sequences(x_train, maxlen=maxlen)\r\n",
        "x_val_seq = sequence.pad_sequences(x_val, maxlen=maxlen)"
      ],
      "execution_count": 14,
      "outputs": []
    },
    {
      "cell_type": "code",
      "metadata": {
        "colab": {
          "base_uri": "https://localhost:8080/"
        },
        "id": "6x1erTeFZXOb",
        "outputId": "78b37820-36cf-4596-c543-eb20167eccc1"
      },
      "source": [
        "print(x_train_seq.shape, x_val_seq.shape)\r\n",
        "print(x_train_seq[0])"
      ],
      "execution_count": 15,
      "outputs": [
        {
          "output_type": "stream",
          "text": [
            "(20000, 100) (5000, 100)\n",
            "[ 0  0  0  0  0  0  0  0  0  0  0  0  0  0  0  0  0  0  0  0  0  0  0  0\n",
            "  0  0  0  0  0  0  0  0  0  0  0  0  0  0  0  0  0  0  0  0  0  0  0  0\n",
            "  0  0  0  0  0  0  0  0  0  0  0  0  0  0 35 40 27 28 40 22 83 31 85 45\n",
            " 24 23 31 70 31 76 30 98 32 22 28 51 75 56 30 33 97 53 38 46 53 74 31 35\n",
            " 23 34 22 58]\n"
          ],
          "name": "stdout"
        }
      ]
    },
    {
      "cell_type": "code",
      "metadata": {
        "id": "6MbeFs4pZZxv"
      },
      "source": [
        "from tensorflow.keras.utils import to_categorical\r\n",
        "\r\n",
        "x_train_onehot = to_categorical(x_train_seq)\r\n",
        "x_val_onehot = to_categorical(x_val_seq)"
      ],
      "execution_count": 16,
      "outputs": []
    },
    {
      "cell_type": "code",
      "metadata": {
        "colab": {
          "base_uri": "https://localhost:8080/"
        },
        "id": "OJ0ARBQnZbD6",
        "outputId": "b79d70f1-dee0-4ac3-cbbc-f968c09fb155"
      },
      "source": [
        "print(x_train_onehot.shape)\r\n",
        "print(x_train_onehot.nbytes)"
      ],
      "execution_count": 17,
      "outputs": [
        {
          "output_type": "stream",
          "text": [
            "(20000, 100, 100)\n",
            "800000000\n"
          ],
          "name": "stdout"
        }
      ]
    },
    {
      "cell_type": "code",
      "metadata": {
        "id": "Oh2xlFXiZmWA"
      },
      "source": [
        "class RecurrentNetwork(MinibatchNetwork):\r\n",
        "  def __init__(self, n_cells=10, batch_size=32, learning_rate=0.1):\r\n",
        "    self.n_cells = n_cells  #셀 개수\r\n",
        "    self.batch_size = batch_size #배치 크기\r\n",
        "    self.w1h = None #은닉 상태에 대한 가중치\r\n",
        "    self.w1x = None #입력에 대한 가중치\r\n",
        "    self.b1 = None  #순환층의 절편\r\n",
        "    self.w2 = None  #순환층의 가중치\r\n",
        "    self.b2 = None  #출력층의 절편\r\n",
        "    self.h = None #순환층의 활성화 출력\r\n",
        "    self.losses = []  #훈련 손실\r\n",
        "    self.val_losses = []  #검증 손실\r\n",
        "    self.lr = learning_rate #학습률\r\n",
        "\r\n",
        "  def init_weights(self, n_features, n_classes):\r\n",
        "    orth_init = tf.initializers.Orthogonal()\r\n",
        "    glorot_init = tf.initializers.GlorotUniform()\r\n",
        "\r\n",
        "    self.w1h = orth_init((self.n_cells, self.n_cells)).numpy()  #(셀 개수, 셀 개수)\r\n",
        "    self.w1x = glorot_init((n_features, self.n_cells)).numpy()  #(특성 개수, 셀 개수)\r\n",
        "    self.b1 = np.zeros(self.n_cells)  #은닉층의 크기\r\n",
        "    self.w2 = glorot_init((self.n_cells, n_classes)).numpy()  #(셀 개수, 클래스 개수)\r\n",
        "    self.b2 = np.zeros(n_classes)\r\n",
        "\r\n",
        "  def forpass(self, x):\r\n",
        "    self.h = [np.zeros((x.shape[0], self.n_cells))] #은닉 상태를 초기화\r\n",
        "    seq = np.swapaxes(x, 0, 1)\r\n",
        "    for x in seq:\r\n",
        "      z1 = np.dot(x, self.w1x) + np.dot(self.h[-1], self.w1h) + self.b1\r\n",
        "      h = np.tanh(z1) #활성화 함수 적용\r\n",
        "      self.h.append(h)  #역전파를 위한 은닉 상태 저장\r\n",
        "      z2 = np.dot(h, self.w2) + self.b2 #출력층의 선형식 계산\r\n",
        "    return z2\r\n",
        "\r\n",
        "  def backprop(self, x, err):\r\n",
        "    m = len(x)  #샘플 개수\r\n",
        "\r\n",
        "    #출력층의 가중치와 절편에 대한 그레이디언트 계산\r\n",
        "    w2_grad = np.dot(self.h[-1].T, err) / m\r\n",
        "    b2_grad = np.sum(err) / m\r\n",
        "    #배치 차원과 타임 스텝 차원 바꾸기\r\n",
        "    seq = np.swapaxes(x, 0, 1)\r\n",
        "\r\n",
        "    w1h_grad = w1x_grad = b1_grad = 0\r\n",
        "    #셀 지전까지 그레이디언트 계산\r\n",
        "    err_to_cell = np.dot(err, self.w2.T) * (1 - self.h[-1]**2)\r\n",
        "    #모든 타임 스텝을 거슬러 가며 그레이디언트 전파\r\n",
        "    for x, h in zip(seq[::-1][:10], self.h[:-1][::-1][:10]):\r\n",
        "      w1h_grad += np.dot(h.T, err_to_cell)\r\n",
        "      w1x_grad += np.dot(x.T, err_to_cell)\r\n",
        "      b1_grad += np.sum(err_to_cell, axis=0)\r\n",
        "      #이전 타임 스텝의 셀 직전까지 그레이디언트 계산\r\n",
        "      err_to_cell = np.dot(err_to_cell, self.w1h) * (1 - h**2)\r\n",
        "\r\n",
        "    w1h_grad /= m\r\n",
        "    w1x_grad /= m\r\n",
        "    b1_grad /= m\r\n",
        "\r\n",
        "    return w1h_grad, w1x_grad, b1_grad, w2_grad, b2_grad\r\n",
        "\r\n",
        "  \r\n",
        "  def fit(self, x, y, epochs=100, x_val=None, y_val=None):\r\n",
        "    y = y.reshape(-1,1)\r\n",
        "    y_val = y_val.reshape(-1,1) #타깃 열 벡터로 변환\r\n",
        "    np.random.seed(42)\r\n",
        "    self.init_weights(x.shape[2], y.shape[1]) #은닉층과 출력층 가중치 초기화\r\n",
        "    for i in range(epochs):\r\n",
        "      print('에포크', i, end=' ')\r\n",
        "      batch_losses = []\r\n",
        "      for x_batch, y_batch in self.gen_batch(x, y):\r\n",
        "        print('.', end=' ')\r\n",
        "        a = self.training(x_batch, y_batch)\r\n",
        "        a = np.clip(a, 1e-10,1-1e-10) #클리핑\r\n",
        "        loss = np.mean(-(y_batch*np.log(a) + (1-y_batch)*np.log(1-a)))\r\n",
        "        batch_losses.append(loss)\r\n",
        "      print( )\r\n",
        "      self.losses.append(np.mean(batch_losses))\r\n",
        "      self.update_val_loss(x_val, y_val)  #검증 손실 계산\r\n",
        "\r\n",
        "  def training(self, x, y):\r\n",
        "    m = len(x)\r\n",
        "    z = self.forpass(x) #정방향 계산\r\n",
        "    a = self.activation(z)  #활성화 함수\r\n",
        "    err = -(y - a)  #오차 계산\r\n",
        "    w1h_grad, w1x_grad, b1_grad, w2_grad, b2_grad = self.backprop(x, err)\r\n",
        "    #셀의 가중치와 절편을 업데이트\r\n",
        "    self.w1h -= self.lr * w1h_grad\r\n",
        "    self.w1x -= self.lr * w1x_grad\r\n",
        "    self.b1 -= self.lr * b1_grad\r\n",
        "    #출력층 가중치 절편 업데이트\r\n",
        "    self.w2 -= self.lr * w2_grad\r\n",
        "    self.b2 -= self.lr * b2_grad\r\n",
        "\r\n",
        "    return a\r\n",
        "\r\n",
        "  def update_val_loss(self, x_val, y_val):\r\n",
        "    z = self.forpass(x_val)   #정방향 계산\r\n",
        "    a = self.activation(z)  #활성화 함수\r\n",
        "    a = np.clip(a, 1e-10,1-1e-10) #클리핑\r\n",
        "    val_loss = np.mean(-(y_val*np.log(a) + (1-y_val)*np.log(1-a)))\r\n",
        "    self.val_losses.append(val_loss)"
      ],
      "execution_count": 38,
      "outputs": []
    },
    {
      "cell_type": "code",
      "metadata": {
        "colab": {
          "base_uri": "https://localhost:8080/"
        },
        "id": "t59QCEbGrbYi",
        "outputId": "0f660ad8-63b0-47d4-9254-e37732d81a8c"
      },
      "source": [
        "rn = RecurrentNetwork(n_cells=32, batch_size=32, learning_rate=0.01)\r\n",
        "rn.fit(x_train_onehot, y_train, epochs=20, x_val=x_val_onehot, y_val=y_val)"
      ],
      "execution_count": 39,
      "outputs": [
        {
          "output_type": "stream",
          "text": [
            "에포크 0 . . . . . . . . . . . . . . . . . . . . . . . . . . . . . . . . . . . . . . . . . . . . . . . . . . . . . . . . . . . . . . . . . . . . . . . . . . . . . . . . . . . . . . . . . . . . . . . . . . . . . . . . . . . . . . . . . . . . . . . . . . . . . . . . . . . . . . . . . . . . . . . . . . . . . . . . . . . . . . . . . . . . . . . . . . . . . . . . . . . . . . . . . . . . . . . . . . . . . . . . . . . . . . . . . . . . . . . . . . . . . . . . . . . . . . . . . . . . . . . . . . . . . . . . . . . . . . . . . . . . . . . . . . . . . . . . . . . . . . . . . . . . . . . . . . . . . . . . . . . . . . . . . . . . . . . . . . . . . . . . . . . . . . . . . . . . . . . . . . . . . . . . . . . . . . . . . . . . . . . . . . . . . . . . . . . . . . . . . . . . . . . . . . . . . . . . . . . . . . . . . . . . . . . . . . . . . . . . . . . . . . . . . . . . . . . . . . . . . . . . . . . . . . . . . . . . . . . . . . . . . . . . . . . . . . . . . . . . . . . . . . . . . . . . . . . . . . . . . . . . . . . . . . . . . . . . . . . . . . . . . . . . . . . . . . . . . . . . . . . . . . . . . . . . . . . . . . . . . . . . . . . . . . . . . . . . . . . . . . . . . . . . . . . . . . . . . . . . . . . . . . . . . . . . . . . . . . . . . . . . . . . . . \n",
            "에포크 1 . . . . . . . . . . . . . . . . . . . . . . . . . . . . . . . . . . . . . . . . . . . . . . . . . . . . . . . . . . . . . . . . . . . . . . . . . . . . . . . . . . . . . . . . . . . . . . . . . . . . . . . . . . . . . . . . . . . . . . . . . . . . . . . . . . . . . . . . . . . . . . . . . . . . . . . . . . . . . . . . . . . . . . . . . . . . . . . . . . . . . . . . . . . . . . . . . . . . . . . . . . . . . . . . . . . . . . . . . . . . . . . . . . . . . . . . . . . . . . . . . . . . . . . . . . . . . . . . . . . . . . . . . . . . . . . . . . . . . . . . . . . . . . . . . . . . . . . . . . . . . . . . . . . . . . . . . . . . . . . . . . . . . . . . . . . . . . . . . . . . . . . . . . . . . . . . . . . . . . . . . . . . . . . . . . . . . . . . . . . . . . . . . . . . . . . . . . . . . . . . . . . . . . . . . . . . . . . . . . . . . . . . . . . . . . . . . . . . . . . . . . . . . . . . . . . . . . . . . . . . . . . . . . . . . . . . . . . . . . . . . . . . . . . . . . . . . . . . . . . . . . . . . . . . . . . . . . . . . . . . . . . . . . . . . . . . . . . . . . . . . . . . . . . . . . . . . . . . . . . . . . . . . . . . . . . . . . . . . . . . . . . . . . . . . . . . . . . . . . . . . . . . . . . . . . . . . . . . . . . . . . . . . \n",
            "에포크 2 . . . . . . . . . . . . . . . . . . . . . . . . . . . . . . . . . . . . . . . . . . . . . . . . . . . . . . . . . . . . . . . . . . . . . . . . . . . . . . . . . . . . . . . . . . . . . . . . . . . . . . . . . . . . . . . . . . . . . . . . . . . . . . . . . . . . . . . . . . . . . . . . . . . . . . . . . . . . . . . . . . . . . . . . . . . . . . . . . . . . . . . . . . . . . . . . . . . . . . . . . . . . . . . . . . . . . . . . . . . . . . . . . . . . . . . . . . . . . . . . . . . . . . . . . . . . . . . . . . . . . . . . . . . . . . . . . . . . . . . . . . . . . . . . . . . . . . . . . . . . . . . . . . . . . . . . . . . . . . . . . . . . . . . . . . . . . . . . . . . . . . . . . . . . . . . . . . . . . . . . . . . . . . . . . . . . . . . . . . . . . . . . . . . . . . . . . . . . . . . . . . . . . . . . . . . . . . . . . . . . . . . . . . . . . . . . . . . . . . . . . . . . . . . . . . . . . . . . . . . . . . . . . . . . . . . . . . . . . . . . . . . . . . . . . . . . . . . . . . . . . . . . . . . . . . . . . . . . . . . . . . . . . . . . . . . . . . . . . . . . . . . . . . . . . . . . . . . . . . . . . . . . . . . . . . . . . . . . . . . . . . . . . . . . . . . . . . . . . . . . . . . . . . . . . . . . . . . . . . . . . . . . . \n",
            "에포크 3 . . . . . . . . . . . . . . . . . . . . . . . . . . . . . . . . . . . . . . . . . . . . . . . . . . . . . . . . . . . . . . . . . . . . . . . . . . . . . . . . . . . . . . . . . . . . . . . . . . . . . . . . . . . . . . . . . . . . . . . . . . . . . . . . . . . . . . . . . . . . . . . . . . . . . . . . . . . . . . . . . . . . . . . . . . . . . . . . . . . . . . . . . . . . . . . . . . . . . . . . . . . . . . . . . . . . . . . . . . . . . . . . . . . . . . . . . . . . . . . . . . . . . . . . . . . . . . . . . . . . . . . . . . . . . . . . . . . . . . . . . . . . . . . . . . . . . . . . . . . . . . . . . . . . . . . . . . . . . . . . . . . . . . . . . . . . . . . . . . . . . . . . . . . . . . . . . . . . . . . . . . . . . . . . . . . . . . . . . . . . . . . . . . . . . . . . . . . . . . . . . . . . . . . . . . . . . . . . . . . . . . . . . . . . . . . . . . . . . . . . . . . . . . . . . . . . . . . . . . . . . . . . . . . . . . . . . . . . . . . . . . . . . . . . . . . . . . . . . . . . . . . . . . . . . . . . . . . . . . . . . . . . . . . . . . . . . . . . . . . . . . . . . . . . . . . . . . . . . . . . . . . . . . . . . . . . . . . . . . . . . . . . . . . . . . . . . . . . . . . . . . . . . . . . . . . . . . . . . . . . . . . . . \n",
            "에포크 4 . . . . . . . . . . . . . . . . . . . . . . . . . . . . . . . . . . . . . . . . . . . . . . . . . . . . . . . . . . . . . . . . . . . . . . . . . . . . . . . . . . . . . . . . . . . . . . . . . . . . . . . . . . . . . . . . . . . . . . . . . . . . . . . . . . . . . . . . . . . . . . . . . . . . . . . . . . . . . . . . . . . . . . . . . . . . . . . . . . . . . . . . . . . . . . . . . . . . . . . . . . . . . . . . . . . . . . . . . . . . . . . . . . . . . . . . . . . . . . . . . . . . . . . . . . . . . . . . . . . . . . . . . . . . . . . . . . . . . . . . . . . . . . . . . . . . . . . . . . . . . . . . . . . . . . . . . . . . . . . . . . . . . . . . . . . . . . . . . . . . . . . . . . . . . . . . . . . . . . . . . . . . . . . . . . . . . . . . . . . . . . . . . . . . . . . . . . . . . . . . . . . . . . . . . . . . . . . . . . . . . . . . . . . . . . . . . . . . . . . . . . . . . . . . . . . . . . . . . . . . . . . . . . . . . . . . . . . . . . . . . . . . . . . . . . . . . . . . . . . . . . . . . . . . . . . . . . . . . . . . . . . . . . . . . . . . . . . . . . . . . . . . . . . . . . . . . . . . . . . . . . . . . . . . . . . . . . . . . . . . . . . . . . . . . . . . . . . . . . . . . . . . . . . . . . . . . . . . . . . . . . . . . \n",
            "에포크 5 . . . . . . . . . . . . . . . . . . . . . . . . . . . . . . . . . . . . . . . . . . . . . . . . . . . . . . . . . . . . . . . . . . . . . . . . . . . . . . . . . . . . . . . . . . . . . . . . . . . . . . . . . . . . . . . . . . . . . . . . . . . . . . . . . . . . . . . . . . . . . . . . . . . . . . . . . . . . . . . . . . . . . . . . . . . . . . . . . . . . . . . . . . . . . . . . . . . . . . . . . . . . . . . . . . . . . . . . . . . . . . . . . . . . . . . . . . . . . . . . . . . . . . . . . . . . . . . . . . . . . . . . . . . . . . . . . . . . . . . . . . . . . . . . . . . . . . . . . . . . . . . . . . . . . . . . . . . . . . . . . . . . . . . . . . . . . . . . . . . . . . . . . . . . . . . . . . . . . . . . . . . . . . . . . . . . . . . . . . . . . . . . . . . . . . . . . . . . . . . . . . . . . . . . . . . . . . . . . . . . . . . . . . . . . . . . . . . . . . . . . . . . . . . . . . . . . . . . . . . . . . . . . . . . . . . . . . . . . . . . . . . . . . . . . . . . . . . . . . . . . . . . . . . . . . . . . . . . . . . . . . . . . . . . . . . . . . . . . . . . . . . . . . . . . . . . . . . . . . . . . . . . . . . . . . . . . . . . . . . . . . . . . . . . . . . . . . . . . . . . . . . . . . . . . . . . . . . . . . . . . . . . . \n",
            "에포크 6 . . . . . . . . . . . . . . . . . . . . . . . . . . . . . . . . . . . . . . . . . . . . . . . . . . . . . . . . . . . . . . . . . . . . . . . . . . . . . . . . . . . . . . . . . . . . . . . . . . . . . . . . . . . . . . . . . . . . . . . . . . . . . . . . . . . . . . . . . . . . . . . . . . . . . . . . . . . . . . . . . . . . . . . . . . . . . . . . . . . . . . . . . . . . . . . . . . . . . . . . . . . . . . . . . . . . . . . . . . . . . . . . . . . . . . . . . . . . . . . . . . . . . . . . . . . . . . . . . . . . . . . . . . . . . . . . . . . . . . . . . . . . . . . . . . . . . . . . . . . . . . . . . . . . . . . . . . . . . . . . . . . . . . . . . . . . . . . . . . . . . . . . . . . . . . . . . . . . . . . . . . . . . . . . . . . . . . . . . . . . . . . . . . . . . . . . . . . . . . . . . . . . . . . . . . . . . . . . . . . . . . . . . . . . . . . . . . . . . . . . . . . . . . . . . . . . . . . . . . . . . . . . . . . . . . . . . . . . . . . . . . . . . . . . . . . . . . . . . . . . . . . . . . . . . . . . . . . . . . . . . . . . . . . . . . . . . . . . . . . . . . . . . . . . . . . . . . . . . . . . . . . . . . . . . . . . . . . . . . . . . . . . . . . . . . . . . . . . . . . . . . . . . . . . . . . . . . . . . . . . . . . . . \n",
            "에포크 7 . . . . . . . . . . . . . . . . . . . . . . . . . . . . . . . . . . . . . . . . . . . . . . . . . . . . . . . . . . . . . . . . . . . . . . . . . . . . . . . . . . . . . . . . . . . . . . . . . . . . . . . . . . . . . . . . . . . . . . . . . . . . . . . . . . . . . . . . . . . . . . . . . . . . . . . . . . . . . . . . . . . . . . . . . . . . . . . . . . . . . . . . . . . . . . . . . . . . . . . . . . . . . . . . . . . . . . . . . . . . . . . . . . . . . . . . . . . . . . . . . . . . . . . . . . . . . . . . . . . . . . . . . . . . . . . . . . . . . . . . . . . . . . . . . . . . . . . . . . . . . . . . . . . . . . . . . . . . . . . . . . . . . . . . . . . . . . . . . . . . . . . . . . . . . . . . . . . . . . . . . . . . . . . . . . . . . . . . . . . . . . . . . . . . . . . . . . . . . . . . . . . . . . . . . . . . . . . . . . . . . . . . . . . . . . . . . . . . . . . . . . . . . . . . . . . . . . . . . . . . . . . . . . . . . . . . . . . . . . . . . . . . . . . . . . . . . . . . . . . . . . . . . . . . . . . . . . . . . . . . . . . . . . . . . . . . . . . . . . . . . . . . . . . . . . . . . . . . . . . . . . . . . . . . . . . . . . . . . . . . . . . . . . . . . . . . . . . . . . . . . . . . . . . . . . . . . . . . . . . . . . . . . \n",
            "에포크 8 . . . . . . . . . . . . . . . . . . . . . . . . . . . . . . . . . . . . . . . . . . . . . . . . . . . . . . . . . . . . . . . . . . . . . . . . . . . . . . . . . . . . . . . . . . . . . . . . . . . . . . . . . . . . . . . . . . . . . . . . . . . . . . . . . . . . . . . . . . . . . . . . . . . . . . . . . . . . . . . . . . . . . . . . . . . . . . . . . . . . . . . . . . . . . . . . . . . . . . . . . . . . . . . . . . . . . . . . . . . . . . . . . . . . . . . . . . . . . . . . . . . . . . . . . . . . . . . . . . . . . . . . . . . . . . . . . . . . . . . . . . . . . . . . . . . . . . . . . . . . . . . . . . . . . . . . . . . . . . . . . . . . . . . . . . . . . . . . . . . . . . . . . . . . . . . . . . . . . . . . . . . . . . . . . . . . . . . . . . . . . . . . . . . . . . . . . . . . . . . . . . . . . . . . . . . . . . . . . . . . . . . . . . . . . . . . . . . . . . . . . . . . . . . . . . . . . . . . . . . . . . . . . . . . . . . . . . . . . . . . . . . . . . . . . . . . . . . . . . . . . . . . . . . . . . . . . . . . . . . . . . . . . . . . . . . . . . . . . . . . . . . . . . . . . . . . . . . . . . . . . . . . . . . . . . . . . . . . . . . . . . . . . . . . . . . . . . . . . . . . . . . . . . . . . . . . . . . . . . . . . . . . . \n",
            "에포크 9 . . . . . . . . . . . . . . . . . . . . . . . . . . . . . . . . . . . . . . . . . . . . . . . . . . . . . . . . . . . . . . . . . . . . . . . . . . . . . . . . . . . . . . . . . . . . . . . . . . . . . . . . . . . . . . . . . . . . . . . . . . . . . . . . . . . . . . . . . . . . . . . . . . . . . . . . . . . . . . . . . . . . . . . . . . . . . . . . . . . . . . . . . . . . . . . . . . . . . . . . . . . . . . . . . . . . . . . . . . . . . . . . . . . . . . . . . . . . . . . . . . . . . . . . . . . . . . . . . . . . . . . . . . . . . . . . . . . . . . . . . . . . . . . . . . . . . . . . . . . . . . . . . . . . . . . . . . . . . . . . . . . . . . . . . . . . . . . . . . . . . . . . . . . . . . . . . . . . . . . . . . . . . . . . . . . . . . . . . . . . . . . . . . . . . . . . . . . . . . . . . . . . . . . . . . . . . . . . . . . . . . . . . . . . . . . . . . . . . . . . . . . . . . . . . . . . . . . . . . . . . . . . . . . . . . . . . . . . . . . . . . . . . . . . . . . . . . . . . . . . . . . . . . . . . . . . . . . . . . . . . . . . . . . . . . . . . . . . . . . . . . . . . . . . . . . . . . . . . . . . . . . . . . . . . . . . . . . . . . . . . . . . . . . . . . . . . . . . . . . . . . . . . . . . . . . . . . . . . . . . . . . . . \n",
            "에포크 10 . . . . . . . . . . . . . . . . . . . . . . . . . . . . . . . . . . . . . . . . . . . . . . . . . . . . . . . . . . . . . . . . . . . . . . . . . . . . . . . . . . . . . . . . . . . . . . . . . . . . . . . . . . . . . . . . . . . . . . . . . . . . . . . . . . . . . . . . . . . . . . . . . . . . . . . . . . . . . . . . . . . . . . . . . . . . . . . . . . . . . . . . . . . . . . . . . . . . . . . . . . . . . . . . . . . . . . . . . . . . . . . . . . . . . . . . . . . . . . . . . . . . . . . . . . . . . . . . . . . . . . . . . . . . . . . . . . . . . . . . . . . . . . . . . . . . . . . . . . . . . . . . . . . . . . . . . . . . . . . . . . . . . . . . . . . . . . . . . . . . . . . . . . . . . . . . . . . . . . . . . . . . . . . . . . . . . . . . . . . . . . . . . . . . . . . . . . . . . . . . . . . . . . . . . . . . . . . . . . . . . . . . . . . . . . . . . . . . . . . . . . . . . . . . . . . . . . . . . . . . . . . . . . . . . . . . . . . . . . . . . . . . . . . . . . . . . . . . . . . . . . . . . . . . . . . . . . . . . . . . . . . . . . . . . . . . . . . . . . . . . . . . . . . . . . . . . . . . . . . . . . . . . . . . . . . . . . . . . . . . . . . . . . . . . . . . . . . . . . . . . . . . . . . . . . . . . . . . . . . . . . . . . \n",
            "에포크 11 . . . . . . . . . . . . . . . . . . . . . . . . . . . . . . . . . . . . . . . . . . . . . . . . . . . . . . . . . . . . . . . . . . . . . . . . . . . . . . . . . . . . . . . . . . . . . . . . . . . . . . . . . . . . . . . . . . . . . . . . . . . . . . . . . . . . . . . . . . . . . . . . . . . . . . . . . . . . . . . . . . . . . . . . . . . . . . . . . . . . . . . . . . . . . . . . . . . . . . . . . . . . . . . . . . . . . . . . . . . . . . . . . . . . . . . . . . . . . . . . . . . . . . . . . . . . . . . . . . . . . . . . . . . . . . . . . . . . . . . . . . . . . . . . . . . . . . . . . . . . . . . . . . . . . . . . . . . . . . . . . . . . . . . . . . . . . . . . . . . . . . . . . . . . . . . . . . . . . . . . . . . . . . . . . . . . . . . . . . . . . . . . . . . . . . . . . . . . . . . . . . . . . . . . . . . . . . . . . . . . . . . . . . . . . . . . . . . . . . . . . . . . . . . . . . . . . . . . . . . . . . . . . . . . . . . . . . . . . . . . . . . . . . . . . . . . . . . . . . . . . . . . . . . . . . . . . . . . . . . . . . . . . . . . . . . . . . . . . . . . . . . . . . . . . . . . . . . . . . . . . . . . . . . . . . . . . . . . . . . . . . . . . . . . . . . . . . . . . . . . . . . . . . . . . . . . . . . . . . . . . . . . . \n",
            "에포크 12 . . . . . . . . . . . . . . . . . . . . . . . . . . . . . . . . . . . . . . . . . . . . . . . . . . . . . . . . . . . . . . . . . . . . . . . . . . . . . . . . . . . . . . . . . . . . . . . . . . . . . . . . . . . . . . . . . . . . . . . . . . . . . . . . . . . . . . . . . . . . . . . . . . . . . . . . . . . . . . . . . . . . . . . . . . . . . . . . . . . . . . . . . . . . . . . . . . . . . . . . . . . . . . . . . . . . . . . . . . . . . . . . . . . . . . . . . . . . . . . . . . . . . . . . . . . . . . . . . . . . . . . . . . . . . . . . . . . . . . . . . . . . . . . . . . . . . . . . . . . . . . . . . . . . . . . . . . . . . . . . . . . . . . . . . . . . . . . . . . . . . . . . . . . . . . . . . . . . . . . . . . . . . . . . . . . . . . . . . . . . . . . . . . . . . . . . . . . . . . . . . . . . . . . . . . . . . . . . . . . . . . . . . . . . . . . . . . . . . . . . . . . . . . . . . . . . . . . . . . . . . . . . . . . . . . . . . . . . . . . . . . . . . . . . . . . . . . . . . . . . . . . . . . . . . . . . . . . . . . . . . . . . . . . . . . . . . . . . . . . . . . . . . . . . . . . . . . . . . . . . . . . . . . . . . . . . . . . . . . . . . . . . . . . . . . . . . . . . . . . . . . . . . . . . . . . . . . . . . . . . . . . . . \n",
            "에포크 13 . . . . . . . . . . . . . . . . . . . . . . . . . . . . . . . . . . . . . . . . . . . . . . . . . . . . . . . . . . . . . . . . . . . . . . . . . . . . . . . . . . . . . . . . . . . . . . . . . . . . . . . . . . . . . . . . . . . . . . . . . . . . . . . . . . . . . . . . . . . . . . . . . . . . . . . . . . . . . . . . . . . . . . . . . . . . . . . . . . . . . . . . . . . . . . . . . . . . . . . . . . . . . . . . . . . . . . . . . . . . . . . . . . . . . . . . . . . . . . . . . . . . . . . . . . . . . . . . . . . . . . . . . . . . . . . . . . . . . . . . . . . . . . . . . . . . . . . . . . . . . . . . . . . . . . . . . . . . . . . . . . . . . . . . . . . . . . . . . . . . . . . . . . . . . . . . . . . . . . . . . . . . . . . . . . . . . . . . . . . . . . . . . . . . . . . . . . . . . . . . . . . . . . . . . . . . . . . . . . . . . . . . . . . . . . . . . . . . . . . . . . . . . . . . . . . . . . . . . . . . . . . . . . . . . . . . . . . . . . . . . . . . . . . . . . . . . . . . . . . . . . . . . . . . . . . . . . . . . . . . . . . . . . . . . . . . . . . . . . . . . . . . . . . . . . . . . . . . . . . . . . . . . . . . . . . . . . . . . . . . . . . . . . . . . . . . . . . . . . . . . . . . . . . . . . . . . . . . . . . . . . . . . \n",
            "에포크 14 . . . . . . . . . . . . . . . . . . . . . . . . . . . . . . . . . . . . . . . . . . . . . . . . . . . . . . . . . . . . . . . . . . . . . . . . . . . . . . . . . . . . . . . . . . . . . . . . . . . . . . . . . . . . . . . . . . . . . . . . . . . . . . . . . . . . . . . . . . . . . . . . . . . . . . . . . . . . . . . . . . . . . . . . . . . . . . . . . . . . . . . . . . . . . . . . . . . . . . . . . . . . . . . . . . . . . . . . . . . . . . . . . . . . . . . . . . . . . . . . . . . . . . . . . . . . . . . . . . . . . . . . . . . . . . . . . . . . . . . . . . . . . . . . . . . . . . . . . . . . . . . . . . . . . . . . . . . . . . . . . . . . . . . . . . . . . . . . . . . . . . . . . . . . . . . . . . . . . . . . . . . . . . . . . . . . . . . . . . . . . . . . . . . . . . . . . . . . . . . . . . . . . . . . . . . . . . . . . . . . . . . . . . . . . . . . . . . . . . . . . . . . . . . . . . . . . . . . . . . . . . . . . . . . . . . . . . . . . . . . . . . . . . . . . . . . . . . . . . . . . . . . . . . . . . . . . . . . . . . . . . . . . . . . . . . . . . . . . . . . . . . . . . . . . . . . . . . . . . . . . . . . . . . . . . . . . . . . . . . . . . . . . . . . . . . . . . . . . . . . . . . . . . . . . . . . . . . . . . . . . . . . . \n",
            "에포크 15 . . . . . . . . . . . . . . . . . . . . . . . . . . . . . . . . . . . . . . . . . . . . . . . . . . . . . . . . . . . . . . . . . . . . . . . . . . . . . . . . . . . . . . . . . . . . . . . . . . . . . . . . . . . . . . . . . . . . . . . . . . . . . . . . . . . . . . . . . . . . . . . . . . . . . . . . . . . . . . . . . . . . . . . . . . . . . . . . . . . . . . . . . . . . . . . . . . . . . . . . . . . . . . . . . . . . . . . . . . . . . . . . . . . . . . . . . . . . . . . . . . . . . . . . . . . . . . . . . . . . . . . . . . . . . . . . . . . . . . . . . . . . . . . . . . . . . . . . . . . . . . . . . . . . . . . . . . . . . . . . . . . . . . . . . . . . . . . . . . . . . . . . . . . . . . . . . . . . . . . . . . . . . . . . . . . . . . . . . . . . . . . . . . . . . . . . . . . . . . . . . . . . . . . . . . . . . . . . . . . . . . . . . . . . . . . . . . . . . . . . . . . . . . . . . . . . . . . . . . . . . . . . . . . . . . . . . . . . . . . . . . . . . . . . . . . . . . . . . . . . . . . . . . . . . . . . . . . . . . . . . . . . . . . . . . . . . . . . . . . . . . . . . . . . . . . . . . . . . . . . . . . . . . . . . . . . . . . . . . . . . . . . . . . . . . . . . . . . . . . . . . . . . . . . . . . . . . . . . . . . . . . . . \n",
            "에포크 16 . . . . . . . . . . . . . . . . . . . . . . . . . . . . . . . . . . . . . . . . . . . . . . . . . . . . . . . . . . . . . . . . . . . . . . . . . . . . . . . . . . . . . . . . . . . . . . . . . . . . . . . . . . . . . . . . . . . . . . . . . . . . . . . . . . . . . . . . . . . . . . . . . . . . . . . . . . . . . . . . . . . . . . . . . . . . . . . . . . . . . . . . . . . . . . . . . . . . . . . . . . . . . . . . . . . . . . . . . . . . . . . . . . . . . . . . . . . . . . . . . . . . . . . . . . . . . . . . . . . . . . . . . . . . . . . . . . . . . . . . . . . . . . . . . . . . . . . . . . . . . . . . . . . . . . . . . . . . . . . . . . . . . . . . . . . . . . . . . . . . . . . . . . . . . . . . . . . . . . . . . . . . . . . . . . . . . . . . . . . . . . . . . . . . . . . . . . . . . . . . . . . . . . . . . . . . . . . . . . . . . . . . . . . . . . . . . . . . . . . . . . . . . . . . . . . . . . . . . . . . . . . . . . . . . . . . . . . . . . . . . . . . . . . . . . . . . . . . . . . . . . . . . . . . . . . . . . . . . . . . . . . . . . . . . . . . . . . . . . . . . . . . . . . . . . . . . . . . . . . . . . . . . . . . . . . . . . . . . . . . . . . . . . . . . . . . . . . . . . . . . . . . . . . . . . . . . . . . . . . . . . . . . \n",
            "에포크 17 . . . . . . . . . . . . . . . . . . . . . . . . . . . . . . . . . . . . . . . . . . . . . . . . . . . . . . . . . . . . . . . . . . . . . . . . . . . . . . . . . . . . . . . . . . . . . . . . . . . . . . . . . . . . . . . . . . . . . . . . . . . . . . . . . . . . . . . . . . . . . . . . . . . . . . . . . . . . . . . . . . . . . . . . . . . . . . . . . . . . . . . . . . . . . . . . . . . . . . . . . . . . . . . . . . . . . . . . . . . . . . . . . . . . . . . . . . . . . . . . . . . . . . . . . . . . . . . . . . . . . . . . . . . . . . . . . . . . . . . . . . . . . . . . . . . . . . . . . . . . . . . . . . . . . . . . . . . . . . . . . . . . . . . . . . . . . . . . . . . . . . . . . . . . . . . . . . . . . . . . . . . . . . . . . . . . . . . . . . . . . . . . . . . . . . . . . . . . . . . . . . . . . . . . . . . . . . . . . . . . . . . . . . . . . . . . . . . . . . . . . . . . . . . . . . . . . . . . . . . . . . . . . . . . . . . . . . . . . . . . . . . . . . . . . . . . . . . . . . . . . . . . . . . . . . . . . . . . . . . . . . . . . . . . . . . . . . . . . . . . . . . . . . . . . . . . . . . . . . . . . . . . . . . . . . . . . . . . . . . . . . . . . . . . . . . . . . . . . . . . . . . . . . . . . . . . . . . . . . . . . . . . . \n",
            "에포크 18 . . . . . . . . . . . . . . . . . . . . . . . . . . . . . . . . . . . . . . . . . . . . . . . . . . . . . . . . . . . . . . . . . . . . . . . . . . . . . . . . . . . . . . . . . . . . . . . . . . . . . . . . . . . . . . . . . . . . . . . . . . . . . . . . . . . . . . . . . . . . . . . . . . . . . . . . . . . . . . . . . . . . . . . . . . . . . . . . . . . . . . . . . . . . . . . . . . . . . . . . . . . . . . . . . . . . . . . . . . . . . . . . . . . . . . . . . . . . . . . . . . . . . . . . . . . . . . . . . . . . . . . . . . . . . . . . . . . . . . . . . . . . . . . . . . . . . . . . . . . . . . . . . . . . . . . . . . . . . . . . . . . . . . . . . . . . . . . . . . . . . . . . . . . . . . . . . . . . . . . . . . . . . . . . . . . . . . . . . . . . . . . . . . . . . . . . . . . . . . . . . . . . . . . . . . . . . . . . . . . . . . . . . . . . . . . . . . . . . . . . . . . . . . . . . . . . . . . . . . . . . . . . . . . . . . . . . . . . . . . . . . . . . . . . . . . . . . . . . . . . . . . . . . . . . . . . . . . . . . . . . . . . . . . . . . . . . . . . . . . . . . . . . . . . . . . . . . . . . . . . . . . . . . . . . . . . . . . . . . . . . . . . . . . . . . . . . . . . . . . . . . . . . . . . . . . . . . . . . . . . . . . . . \n",
            "에포크 19 . . . . . . . . . . . . . . . . . . . . . . . . . . . . . . . . . . . . . . . . . . . . . . . . . . . . . . . . . . . . . . . . . . . . . . . . . . . . . . . . . . . . . . . . . . . . . . . . . . . . . . . . . . . . . . . . . . . . . . . . . . . . . . . . . . . . . . . . . . . . . . . . . . . . . . . . . . . . . . . . . . . . . . . . . . . . . . . . . . . . . . . . . . . . . . . . . . . . . . . . . . . . . . . . . . . . . . . . . . . . . . . . . . . . . . . . . . . . . . . . . . . . . . . . . . . . . . . . . . . . . . . . . . . . . . . . . . . . . . . . . . . . . . . . . . . . . . . . . . . . . . . . . . . . . . . . . . . . . . . . . . . . . . . . . . . . . . . . . . . . . . . . . . . . . . . . . . . . . . . . . . . . . . . . . . . . . . . . . . . . . . . . . . . . . . . . . . . . . . . . . . . . . . . . . . . . . . . . . . . . . . . . . . . . . . . . . . . . . . . . . . . . . . . . . . . . . . . . . . . . . . . . . . . . . . . . . . . . . . . . . . . . . . . . . . . . . . . . . . . . . . . . . . . . . . . . . . . . . . . . . . . . . . . . . . . . . . . . . . . . . . . . . . . . . . . . . . . . . . . . . . . . . . . . . . . . . . . . . . . . . . . . . . . . . . . . . . . . . . . . . . . . . . . . . . . . . . . . . . . . . . . . . \n"
          ],
          "name": "stdout"
        }
      ]
    },
    {
      "cell_type": "code",
      "metadata": {
        "colab": {
          "base_uri": "https://localhost:8080/",
          "height": 279
        },
        "id": "JqPzkZMhyXP6",
        "outputId": "3df5e5f7-84ec-4949-f962-4324d53410f4"
      },
      "source": [
        "plt.plot(rn.losses)\r\n",
        "plt.plot(rn.val_losses)\r\n",
        "plt.ylabel(\"loss\")\r\n",
        "plt.xlabel(\"iteration\")\r\n",
        "plt.legend(['train_loss', 'val_loss'])\r\n",
        "plt.show()"
      ],
      "execution_count": 44,
      "outputs": [
        {
          "output_type": "display_data",
          "data": {
            "image/png": "[encoded data removed]",
            "text/plain": [
              "<Figure size 432x288 with 1 Axes>"
            ]
          },
          "metadata": {
            "tags": [],
            "needs_background": "light"
          }
        }
      ]
    },
    {
      "cell_type": "code",
      "metadata": {
        "colab": {
          "base_uri": "https://localhost:8080/"
        },
        "id": "eO1dF93FymxU",
        "outputId": "15a3febb-1a53-4200-8b1d-0363ff90482b"
      },
      "source": [
        "rn.score(x_val_onehot, y_val)"
      ],
      "execution_count": 42,
      "outputs": [
        {
          "output_type": "execute_result",
          "data": {
            "text/plain": [
              "0.686"
            ]
          },
          "metadata": {
            "tags": []
          },
          "execution_count": 42
        }
      ]
    }
  ]
}