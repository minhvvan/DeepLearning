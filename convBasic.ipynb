{
  "nbformat": 4,
  "nbformat_minor": 0,
  "metadata": {
    "colab": {
      "name": "convBasic.ipynb",
      "provenance": [],
      "collapsed_sections": [],
      "authorship_tag": "ABX9TyMZN2IskQSpwbEsxPYnGhcf",
      "include_colab_link": true
    },
    "kernelspec": {
      "name": "python3",
      "display_name": "Python 3"
    }
  },
  "cells": [
    {
      "cell_type": "markdown",
      "metadata": {
        "id": "view-in-github",
        "colab_type": "text"
      },
      "source": [
        "<a href=\"https://colab.research.google.com/github/minhvvan/DeepLearning/blob/main/convBasic.ipynb\" target=\"_parent\"><img src=\"https://colab.research.google.com/assets/colab-badge.svg\" alt=\"Open In Colab\"/></a>"
      ]
    },
    {
      "cell_type": "code",
      "metadata": {
        "colab": {
          "base_uri": "https://localhost:8080/"
        },
        "id": "RjThklWM-kX7",
        "outputId": "af717670-a90a-411f-b4c6-dfb5bb18e8e3"
      },
      "source": [
        "import numpy as np\r\n",
        "w = np.array([2, 1, 5, 3])\r\n",
        "x = np.array([2, 8, 3, 7, 1, 2, 0, 4, 5])\r\n",
        "\r\n",
        "w_r = np.flip(w)\r\n",
        "print(w_r)"
      ],
      "execution_count": 5,
      "outputs": [
        {
          "output_type": "stream",
          "text": [
            "[3 5 1 2]\n"
          ],
          "name": "stdout"
        }
      ]
    },
    {
      "cell_type": "code",
      "metadata": {
        "colab": {
          "base_uri": "https://localhost:8080/"
        },
        "id": "FSv9Yx9M_L2t",
        "outputId": "4e7917a5-84f9-4701-8b91-7661ea5424a2"
      },
      "source": [
        "for i in range(6):\r\n",
        "  print(np.dot(x[i:i+4], w_r))"
      ],
      "execution_count": 6,
      "outputs": [
        {
          "output_type": "stream",
          "text": [
            "63\n",
            "48\n",
            "49\n",
            "28\n",
            "21\n",
            "20\n"
          ],
          "name": "stdout"
        }
      ]
    },
    {
      "cell_type": "code",
      "metadata": {
        "colab": {
          "base_uri": "https://localhost:8080/"
        },
        "id": "q5pnPBkE_yDW",
        "outputId": "4cc15132-fefd-404b-97ad-a7b65a1f3dab"
      },
      "source": [
        "from scipy.signal import convolve\r\n",
        "convolve(x, w, mode='valid')"
      ],
      "execution_count": 7,
      "outputs": [
        {
          "output_type": "execute_result",
          "data": {
            "text/plain": [
              "array([63, 48, 49, 28, 21, 20])"
            ]
          },
          "metadata": {
            "tags": []
          },
          "execution_count": 7
        }
      ]
    },
    {
      "cell_type": "code",
      "metadata": {
        "colab": {
          "base_uri": "https://localhost:8080/"
        },
        "id": "WWHS2wP5AhHW",
        "outputId": "3b4de30c-22ae-4b3c-d61a-ae62255b4f65"
      },
      "source": [
        "from scipy.signal import correlate\r\n",
        "correlate(x, w, mode='valid')"
      ],
      "execution_count": 8,
      "outputs": [
        {
          "output_type": "execute_result",
          "data": {
            "text/plain": [
              "array([48, 57, 24, 25, 16, 39])"
            ]
          },
          "metadata": {
            "tags": []
          },
          "execution_count": 8
        }
      ]
    },
    {
      "cell_type": "code",
      "metadata": {
        "colab": {
          "base_uri": "https://localhost:8080/"
        },
        "id": "a-SGdmPAF1zy",
        "outputId": "8ddf6a41-9e99-4182-e762-e57d12c9bc1a"
      },
      "source": [
        "correlate(x, w, mode='full')"
      ],
      "execution_count": 9,
      "outputs": [
        {
          "output_type": "execute_result",
          "data": {
            "text/plain": [
              "array([ 6, 34, 51, 48, 57, 24, 25, 16, 39, 29, 13, 10])"
            ]
          },
          "metadata": {
            "tags": []
          },
          "execution_count": 9
        }
      ]
    },
    {
      "cell_type": "code",
      "metadata": {
        "colab": {
          "base_uri": "https://localhost:8080/"
        },
        "id": "Oo0NS_sdGcz7",
        "outputId": "4aca2478-78e8-4de6-c798-a9d29a3e7bda"
      },
      "source": [
        "correlate(x, w, mode='same')"
      ],
      "execution_count": 10,
      "outputs": [
        {
          "output_type": "execute_result",
          "data": {
            "text/plain": [
              "array([34, 51, 48, 57, 24, 25, 16, 39, 29])"
            ]
          },
          "metadata": {
            "tags": []
          },
          "execution_count": 10
        }
      ]
    },
    {
      "cell_type": "code",
      "metadata": {
        "colab": {
          "base_uri": "https://localhost:8080/"
        },
        "id": "w62_Ee4jHima",
        "outputId": "9f224aec-8866-42c9-b9b8-d68513444dcf"
      },
      "source": [
        "x = np.arange(1,10,dtype=int)\r\n",
        "x = x.reshape((3,3))\r\n",
        "print(x)\r\n",
        "w = np.array([[2, 0], [0, 0]])\r\n",
        "print(w)\r\n",
        "\r\n",
        "from scipy.signal import correlate2d\r\n",
        "correlate2d(x, w, mode='valid')"
      ],
      "execution_count": 23,
      "outputs": [
        {
          "output_type": "stream",
          "text": [
            "[[1 2 3]\n",
            " [4 5 6]\n",
            " [7 8 9]]\n",
            "[[2 0]\n",
            " [0 0]]\n"
          ],
          "name": "stdout"
        },
        {
          "output_type": "execute_result",
          "data": {
            "text/plain": [
              "array([[ 2,  4],\n",
              "       [ 8, 10]])"
            ]
          },
          "metadata": {
            "tags": []
          },
          "execution_count": 23
        }
      ]
    },
    {
      "cell_type": "code",
      "metadata": {
        "colab": {
          "base_uri": "https://localhost:8080/"
        },
        "id": "6a-5nhSvIyrZ",
        "outputId": "707df075-71e8-4fd5-899a-c19cfbcea4fd"
      },
      "source": [
        "from scipy.signal import correlate2d\r\n",
        "correlate2d(x, w, mode='same')"
      ],
      "execution_count": 24,
      "outputs": [
        {
          "output_type": "execute_result",
          "data": {
            "text/plain": [
              "array([[ 2,  4,  6],\n",
              "       [ 8, 10, 12],\n",
              "       [14, 16, 18]])"
            ]
          },
          "metadata": {
            "tags": []
          },
          "execution_count": 24
        }
      ]
    },
    {
      "cell_type": "code",
      "metadata": {
        "colab": {
          "base_uri": "https://localhost:8080/"
        },
        "id": "_NpPQIbtMQbd",
        "outputId": "51df639b-4493-4bca-950f-2b9db1fd2bab"
      },
      "source": [
        "import tensorflow as tf\r\n",
        "x_4d = x.astype(np.float).reshape(1, 3, 3, 1)\r\n",
        "w_4d = w.reshape(2, 2, 1, 1)\r\n",
        "\r\n",
        "print(x_4d)\r\n",
        "print(w_4d)"
      ],
      "execution_count": 25,
      "outputs": [
        {
          "output_type": "stream",
          "text": [
            "[[[[1.]\n",
            "   [2.]\n",
            "   [3.]]\n",
            "\n",
            "  [[4.]\n",
            "   [5.]\n",
            "   [6.]]\n",
            "\n",
            "  [[7.]\n",
            "   [8.]\n",
            "   [9.]]]]\n",
            "[[[[2]]\n",
            "\n",
            "  [[0]]]\n",
            "\n",
            "\n",
            " [[[0]]\n",
            "\n",
            "  [[0]]]]\n"
          ],
          "name": "stdout"
        }
      ]
    },
    {
      "cell_type": "code",
      "metadata": {
        "colab": {
          "base_uri": "https://localhost:8080/"
        },
        "id": "-2JhxpMfMoVi",
        "outputId": "f241b63c-30db-4db2-9dee-c68c4f64ba38"
      },
      "source": [
        "c_out = tf.nn.conv2d(x_4d, w_4d, strides=1, padding='SAME')\r\n",
        "c_out.numpy().reshape(3, 3)"
      ],
      "execution_count": 27,
      "outputs": [
        {
          "output_type": "execute_result",
          "data": {
            "text/plain": [
              "array([[ 2.,  4.,  6.],\n",
              "       [ 8., 10., 12.],\n",
              "       [14., 16., 18.]])"
            ]
          },
          "metadata": {
            "tags": []
          },
          "execution_count": 27
        }
      ]
    }
  ]
}