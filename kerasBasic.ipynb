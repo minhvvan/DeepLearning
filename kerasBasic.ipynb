{
  "nbformat": 4,
  "nbformat_minor": 0,
  "metadata": {
    "colab": {
      "name": "kerasBasic.ipynb",
      "provenance": [],
      "collapsed_sections": [],
      "authorship_tag": "ABX9TyOFBX6NwPyYHPYtC6YecSqz",
      "include_colab_link": true
    },
    "kernelspec": {
      "name": "python3",
      "display_name": "Python 3"
    }
  },
  "cells": [
    {
      "cell_type": "markdown",
      "metadata": {
        "id": "view-in-github",
        "colab_type": "text"
      },
      "source": [
        "<a href=\"https://colab.research.google.com/github/minhvvan/DeepLearning/blob/main/kerasBasic.ipynb\" target=\"_parent\"><img src=\"https://colab.research.google.com/assets/colab-badge.svg\" alt=\"Open In Colab\"/></a>"
      ]
    },
    {
      "cell_type": "code",
      "metadata": {
        "id": "I4TRkNdskEvz"
      },
      "source": [
        "import tensorflow as tf"
      ],
      "execution_count": 1,
      "outputs": []
    },
    {
      "cell_type": "code",
      "metadata": {
        "colab": {
          "base_uri": "https://localhost:8080/"
        },
        "id": "Gxp-6MWClYEo",
        "outputId": "6f7382ab-3a83-4ac3-9861-ea7f1b292396"
      },
      "source": [
        "import numpy as np\r\n",
        "import matplotlib.pyplot as plt\r\n",
        "from sklearn.datasets import load_breast_cancer\r\n",
        "from sklearn.model_selection import train_test_split\r\n",
        "\r\n",
        "(x_train_all, y_train_all), (x_test, y_test) = tf.keras.datasets.fashion_mnist.load_data()\r\n",
        "\r\n",
        "x_train, x_val, y_train, y_val = train_test_split(x_train_all, y_train_all, stratify=y_train_all, test_size=0.2, random_state=42)\r\n",
        "print(np.bincount(y_train))\r\n",
        "print(np.bincount(y_val))\r\n",
        "\r\n",
        "x_train = x_train / 255\r\n",
        "x_val = x_val /255\r\n",
        "\r\n",
        "x_train = x_train.reshape(-1,784)\r\n",
        "x_val = x_val.reshape(-1,784)\r\n",
        "\r\n",
        "\r\n",
        "y_train_encoded = tf.keras.utils.to_categorical(y_train)\r\n",
        "y_val_encoded = tf.keras.utils.to_categorical(y_val)\r\n",
        "\r\n",
        "print(y_train[0], y_train_encoded[0])\r\n"
      ],
      "execution_count": 9,
      "outputs": [
        {
          "output_type": "stream",
          "text": [
            "Downloading data from https://storage.googleapis.com/tensorflow/tf-keras-datasets/train-labels-idx1-ubyte.gz\n",
            "32768/29515 [=================================] - 0s 0us/step\n",
            "Downloading data from https://storage.googleapis.com/tensorflow/tf-keras-datasets/train-images-idx3-ubyte.gz\n",
            "26427392/26421880 [==============================] - 0s 0us/step\n",
            "Downloading data from https://storage.googleapis.com/tensorflow/tf-keras-datasets/t10k-labels-idx1-ubyte.gz\n",
            "8192/5148 [===============================================] - 0s 0us/step\n",
            "Downloading data from https://storage.googleapis.com/tensorflow/tf-keras-datasets/t10k-images-idx3-ubyte.gz\n",
            "4423680/4422102 [==============================] - 0s 0us/step\n",
            "[4800 4800 4800 4800 4800 4800 4800 4800 4800 4800]\n",
            "[1200 1200 1200 1200 1200 1200 1200 1200 1200 1200]\n",
            "6 [0. 0. 0. 0. 0. 0. 1. 0. 0. 0.]\n"
          ],
          "name": "stdout"
        }
      ]
    },
    {
      "cell_type": "code",
      "metadata": {
        "colab": {
          "base_uri": "https://localhost:8080/"
        },
        "id": "w8IMPd6hj0u-",
        "outputId": "f4d3b261-dfd8-4b3a-fa0a-1e5a226e157a"
      },
      "source": [
        "#훈련할 가중치 변수 선언\r\n",
        "w = tf.Variable(tf.zeros(shape=(1)))\r\n",
        "b = tf.Variable(tf.zeros(shape=(1)))\r\n",
        "\r\n",
        "#경사 하강법 옵티마이저 설정\r\n",
        "optimizer = tf.optimizers.SGD(lr = 0.05)\r\n",
        "\r\n",
        "#에포크만큼 훈련\r\n",
        "num_epochs = 10\r\n",
        "for step in range(num_epochs):\r\n",
        "  #미분 연산 과정 기록\r\n",
        "  with tf.GradientTape() as tape:\r\n",
        "    z_net = w * x_train + b\r\n",
        "    z_net = tf.reshape(z_net, [-1])\r\n",
        "    sqr_errors = tf.square(y_train - z_net)\r\n",
        "    mean_cost = tf.reduce_mean(sqr_errors)\r\n",
        "    #손설 함수 가중치 그레이디언트 계산\r\n",
        "    grads = tape.gradient(mean_cost, [w, b])\r\n",
        "    #옵티마이저 그레이디언트 계산\r\n",
        "    optimizer.apply_gradients(zip(grads, [w, b]))"
      ],
      "execution_count": 7,
      "outputs": [
        {
          "output_type": "stream",
          "text": [
            "(10920,)\n",
            "(10920,)\n",
            "(10920,)\n",
            "(10920,)\n",
            "(10920,)\n",
            "(10920,)\n",
            "(10920,)\n",
            "(10920,)\n",
            "(10920,)\n",
            "(10920,)\n"
          ],
          "name": "stdout"
        }
      ]
    },
    {
      "cell_type": "code",
      "metadata": {
        "colab": {
          "base_uri": "https://localhost:8080/"
        },
        "id": "LzFltEP0lcql",
        "outputId": "7c0c5ea3-73d6-4b9d-8190-c027a8f57db7"
      },
      "source": [
        "#모델 생성\r\n",
        "model = tf.keras.models.Sequential()\r\n",
        "#완전 연결층 추가\r\n",
        "model.add(tf.keras.layers.Dense(1))\r\n",
        "#옵티마이저와 손실함수 지정\r\n",
        "model.compile(optimizer='sgd', loss='mse')\r\n",
        "#훈련\r\n",
        "model.fit(x_train, y_train, epochs=10)"
      ],
      "execution_count": 8,
      "outputs": [
        {
          "output_type": "stream",
          "text": [
            "Epoch 1/10\n",
            "12/12 [==============================] - 0s 1ms/step - loss: nan    \n",
            "Epoch 2/10\n",
            "12/12 [==============================] - 0s 1ms/step - loss: nan\n",
            "Epoch 3/10\n",
            "12/12 [==============================] - 0s 2ms/step - loss: nan\n",
            "Epoch 4/10\n",
            "12/12 [==============================] - 0s 1ms/step - loss: nan\n",
            "Epoch 5/10\n",
            "12/12 [==============================] - 0s 1ms/step - loss: nan\n",
            "Epoch 6/10\n",
            "12/12 [==============================] - 0s 1ms/step - loss: nan\n",
            "Epoch 7/10\n",
            "12/12 [==============================] - 0s 1ms/step - loss: nan\n",
            "Epoch 8/10\n",
            "12/12 [==============================] - 0s 1ms/step - loss: nan\n",
            "Epoch 9/10\n",
            "12/12 [==============================] - 0s 1ms/step - loss: nan\n",
            "Epoch 10/10\n",
            "12/12 [==============================] - 0s 1ms/step - loss: nan\n"
          ],
          "name": "stdout"
        },
        {
          "output_type": "execute_result",
          "data": {
            "text/plain": [
              "<tensorflow.python.keras.callbacks.History at 0x7f09ee469518>"
            ]
          },
          "metadata": {
            "tags": []
          },
          "execution_count": 8
        }
      ]
    },
    {
      "cell_type": "code",
      "metadata": {
        "colab": {
          "base_uri": "https://localhost:8080/"
        },
        "id": "DmAlDpFetw_b",
        "outputId": "d2c4cebf-e7c8-4101-d350-703f9ca8cd84"
      },
      "source": [
        "from tensorflow.keras import Sequential\r\n",
        "from tensorflow.keras.layers import Dense\r\n",
        "\r\n",
        "#모델 생성\r\n",
        "model = Sequential()\r\n",
        "\r\n",
        "#은닉층과 출력층 추가\r\n",
        "model.add(Dense(100, activation='sigmoid', input_shape=(784,)))\r\n",
        "model.add(Dense(10, activation='softmax'))\r\n",
        "\r\n",
        "#최적화 알고리즘과 손실 함수 지정\r\n",
        "model.compile(optimizer='sgd', loss='categorical_crossentropy', metrics=['accuracy'])\r\n",
        "\r\n",
        "#훈련\r\n",
        "history = model.fit(x_train, y_train_encoded, epochs=40, validation_data=(x_val, y_val_encoded))"
      ],
      "execution_count": 10,
      "outputs": [
        {
          "output_type": "stream",
          "text": [
            "Epoch 1/40\n",
            "1500/1500 [==============================] - 3s 2ms/step - loss: 1.7345 - accuracy: 0.5244 - val_loss: 0.9653 - val_accuracy: 0.7267\n",
            "Epoch 2/40\n",
            "1500/1500 [==============================] - 3s 2ms/step - loss: 0.8985 - accuracy: 0.7316 - val_loss: 0.7561 - val_accuracy: 0.7553\n",
            "Epoch 3/40\n",
            "1500/1500 [==============================] - 3s 2ms/step - loss: 0.7379 - accuracy: 0.7565 - val_loss: 0.6719 - val_accuracy: 0.7738\n",
            "Epoch 4/40\n",
            "1500/1500 [==============================] - 3s 2ms/step - loss: 0.6675 - accuracy: 0.7717 - val_loss: 0.6167 - val_accuracy: 0.7897\n",
            "Epoch 5/40\n",
            "1500/1500 [==============================] - 3s 2ms/step - loss: 0.6221 - accuracy: 0.7855 - val_loss: 0.5808 - val_accuracy: 0.8002\n",
            "Epoch 6/40\n",
            "1500/1500 [==============================] - 3s 2ms/step - loss: 0.5863 - accuracy: 0.7985 - val_loss: 0.5534 - val_accuracy: 0.8110\n",
            "Epoch 7/40\n",
            "1500/1500 [==============================] - 3s 2ms/step - loss: 0.5566 - accuracy: 0.8094 - val_loss: 0.5333 - val_accuracy: 0.8167\n",
            "Epoch 8/40\n",
            "1500/1500 [==============================] - 3s 2ms/step - loss: 0.5409 - accuracy: 0.8154 - val_loss: 0.5179 - val_accuracy: 0.8183\n",
            "Epoch 9/40\n",
            "1500/1500 [==============================] - 3s 2ms/step - loss: 0.5289 - accuracy: 0.8195 - val_loss: 0.5028 - val_accuracy: 0.8253\n",
            "Epoch 10/40\n",
            "1500/1500 [==============================] - 3s 2ms/step - loss: 0.5181 - accuracy: 0.8207 - val_loss: 0.4923 - val_accuracy: 0.8299\n",
            "Epoch 11/40\n",
            "1500/1500 [==============================] - 3s 2ms/step - loss: 0.4967 - accuracy: 0.8270 - val_loss: 0.4819 - val_accuracy: 0.8326\n",
            "Epoch 12/40\n",
            "1500/1500 [==============================] - 3s 2ms/step - loss: 0.4958 - accuracy: 0.8296 - val_loss: 0.4730 - val_accuracy: 0.8342\n",
            "Epoch 13/40\n",
            "1500/1500 [==============================] - 3s 2ms/step - loss: 0.4816 - accuracy: 0.8318 - val_loss: 0.4661 - val_accuracy: 0.8372\n",
            "Epoch 14/40\n",
            "1500/1500 [==============================] - 3s 2ms/step - loss: 0.4731 - accuracy: 0.8360 - val_loss: 0.4614 - val_accuracy: 0.8392\n",
            "Epoch 15/40\n",
            "1500/1500 [==============================] - 3s 2ms/step - loss: 0.4717 - accuracy: 0.8354 - val_loss: 0.4556 - val_accuracy: 0.8412\n",
            "Epoch 16/40\n",
            "1500/1500 [==============================] - 3s 2ms/step - loss: 0.4610 - accuracy: 0.8381 - val_loss: 0.4494 - val_accuracy: 0.8422\n",
            "Epoch 17/40\n",
            "1500/1500 [==============================] - 3s 2ms/step - loss: 0.4617 - accuracy: 0.8382 - val_loss: 0.4438 - val_accuracy: 0.8447\n",
            "Epoch 18/40\n",
            "1500/1500 [==============================] - 3s 2ms/step - loss: 0.4517 - accuracy: 0.8409 - val_loss: 0.4395 - val_accuracy: 0.8454\n",
            "Epoch 19/40\n",
            "1500/1500 [==============================] - 3s 2ms/step - loss: 0.4490 - accuracy: 0.8451 - val_loss: 0.4363 - val_accuracy: 0.8481\n",
            "Epoch 20/40\n",
            "1500/1500 [==============================] - 3s 2ms/step - loss: 0.4437 - accuracy: 0.8454 - val_loss: 0.4343 - val_accuracy: 0.8462\n",
            "Epoch 21/40\n",
            "1500/1500 [==============================] - 3s 2ms/step - loss: 0.4331 - accuracy: 0.8481 - val_loss: 0.4297 - val_accuracy: 0.8490\n",
            "Epoch 22/40\n",
            "1500/1500 [==============================] - 3s 2ms/step - loss: 0.4416 - accuracy: 0.8447 - val_loss: 0.4264 - val_accuracy: 0.8497\n",
            "Epoch 23/40\n",
            "1500/1500 [==============================] - 3s 2ms/step - loss: 0.4333 - accuracy: 0.8487 - val_loss: 0.4227 - val_accuracy: 0.8512\n",
            "Epoch 24/40\n",
            "1500/1500 [==============================] - 3s 2ms/step - loss: 0.4275 - accuracy: 0.8495 - val_loss: 0.4216 - val_accuracy: 0.8506\n",
            "Epoch 25/40\n",
            "1500/1500 [==============================] - 3s 2ms/step - loss: 0.4272 - accuracy: 0.8494 - val_loss: 0.4173 - val_accuracy: 0.8533\n",
            "Epoch 26/40\n",
            "1500/1500 [==============================] - 3s 2ms/step - loss: 0.4180 - accuracy: 0.8525 - val_loss: 0.4163 - val_accuracy: 0.8545\n",
            "Epoch 27/40\n",
            "1500/1500 [==============================] - 3s 2ms/step - loss: 0.4198 - accuracy: 0.8550 - val_loss: 0.4136 - val_accuracy: 0.8562\n",
            "Epoch 28/40\n",
            "1500/1500 [==============================] - 3s 2ms/step - loss: 0.4175 - accuracy: 0.8542 - val_loss: 0.4112 - val_accuracy: 0.8568\n",
            "Epoch 29/40\n",
            "1500/1500 [==============================] - 3s 2ms/step - loss: 0.4169 - accuracy: 0.8540 - val_loss: 0.4076 - val_accuracy: 0.8567\n",
            "Epoch 30/40\n",
            "1500/1500 [==============================] - 3s 2ms/step - loss: 0.4104 - accuracy: 0.8559 - val_loss: 0.4068 - val_accuracy: 0.8567\n",
            "Epoch 31/40\n",
            "1500/1500 [==============================] - 3s 2ms/step - loss: 0.4085 - accuracy: 0.8548 - val_loss: 0.4046 - val_accuracy: 0.8577\n",
            "Epoch 32/40\n",
            "1500/1500 [==============================] - 3s 2ms/step - loss: 0.4072 - accuracy: 0.8553 - val_loss: 0.4041 - val_accuracy: 0.8600\n",
            "Epoch 33/40\n",
            "1500/1500 [==============================] - 3s 2ms/step - loss: 0.4024 - accuracy: 0.8593 - val_loss: 0.4006 - val_accuracy: 0.8592\n",
            "Epoch 34/40\n",
            "1500/1500 [==============================] - 3s 2ms/step - loss: 0.4096 - accuracy: 0.8556 - val_loss: 0.3988 - val_accuracy: 0.8595\n",
            "Epoch 35/40\n",
            "1500/1500 [==============================] - 3s 2ms/step - loss: 0.3996 - accuracy: 0.8608 - val_loss: 0.3969 - val_accuracy: 0.8601\n",
            "Epoch 36/40\n",
            "1500/1500 [==============================] - 3s 2ms/step - loss: 0.3986 - accuracy: 0.8586 - val_loss: 0.3956 - val_accuracy: 0.8608\n",
            "Epoch 37/40\n",
            "1500/1500 [==============================] - 3s 2ms/step - loss: 0.3990 - accuracy: 0.8602 - val_loss: 0.3954 - val_accuracy: 0.8608\n",
            "Epoch 38/40\n",
            "1500/1500 [==============================] - 3s 2ms/step - loss: 0.3952 - accuracy: 0.8613 - val_loss: 0.3934 - val_accuracy: 0.8614\n",
            "Epoch 39/40\n",
            "1500/1500 [==============================] - 3s 2ms/step - loss: 0.3969 - accuracy: 0.8595 - val_loss: 0.3924 - val_accuracy: 0.8618\n",
            "Epoch 40/40\n",
            "1500/1500 [==============================] - 3s 2ms/step - loss: 0.3888 - accuracy: 0.8623 - val_loss: 0.3893 - val_accuracy: 0.8632\n"
          ],
          "name": "stdout"
        }
      ]
    },
    {
      "cell_type": "code",
      "metadata": {
        "colab": {
          "base_uri": "https://localhost:8080/"
        },
        "id": "ShhSj2LF29ez",
        "outputId": "2625fef4-0ce1-4679-a751-d18529001874"
      },
      "source": [
        "print(history.history.keys())"
      ],
      "execution_count": 11,
      "outputs": [
        {
          "output_type": "stream",
          "text": [
            "dict_keys(['loss', 'accuracy', 'val_loss', 'val_accuracy'])\n"
          ],
          "name": "stdout"
        }
      ]
    },
    {
      "cell_type": "code",
      "metadata": {
        "colab": {
          "base_uri": "https://localhost:8080/",
          "height": 279
        },
        "id": "7h2iUJ8O3ZR1",
        "outputId": "d46138eb-6cde-4ae7-819d-ee010b7bcfc2"
      },
      "source": [
        "import matplotlib.pyplot as plt\r\n",
        "\r\n",
        "plt.plot(history.history['loss'])\r\n",
        "plt.plot(history.history['val_loss'])\r\n",
        "plt.ylabel('loss')\r\n",
        "plt.xlabel('epoch')\r\n",
        "plt.legend(['train_loss', 'val_loss'])\r\n",
        "plt.show()"
      ],
      "execution_count": 12,
      "outputs": [
        {
          "output_type": "display_data",
          "data": {
            "image/png": "[encoded data removed]",
            "text/plain": [
              "<Figure size 432x288 with 1 Axes>"
            ]
          },
          "metadata": {
            "tags": [],
            "needs_background": "light"
          }
        }
      ]
    },
    {
      "cell_type": "code",
      "metadata": {
        "colab": {
          "base_uri": "https://localhost:8080/",
          "height": 279
        },
        "id": "eT-suJjd39J3",
        "outputId": "2c1f7aa3-0f39-463e-c0c3-526bccea1ef3"
      },
      "source": [
        "import matplotlib.pyplot as plt\r\n",
        "\r\n",
        "plt.plot(history.history['accuracy'])\r\n",
        "plt.plot(history.history['val_accuracy'])\r\n",
        "plt.ylabel('accuracy')\r\n",
        "plt.xlabel('epoch')\r\n",
        "plt.legend(['train_accuracy', 'val_accuracy'])\r\n",
        "plt.show()"
      ],
      "execution_count": 13,
      "outputs": [
        {
          "output_type": "display_data",
          "data": {
            "image/png": "[encoded data removed]",
            "text/plain": [
              "<Figure size 432x288 with 1 Axes>"
            ]
          },
          "metadata": {
            "tags": [],
            "needs_background": "light"
          }
        }
      ]
    },
    {
      "cell_type": "code",
      "metadata": {
        "colab": {
          "base_uri": "https://localhost:8080/"
        },
        "id": "sE7opkAa4_hh",
        "outputId": "81f219d8-e51a-44a7-93f9-8300dc7b5693"
      },
      "source": [
        "loss, acccuracy = model.evaluate(x_val, y_val_encoded, verbose=0)\r\n",
        "print(acccuracy)"
      ],
      "execution_count": 14,
      "outputs": [
        {
          "output_type": "stream",
          "text": [
            "0.8631666898727417\n"
          ],
          "name": "stdout"
        }
      ]
    }
  ]
}