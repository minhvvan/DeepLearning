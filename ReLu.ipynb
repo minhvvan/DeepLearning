{
  "nbformat": 4,
  "nbformat_minor": 0,
  "metadata": {
    "colab": {
      "name": "ReLu.ipynb",
      "provenance": [],
      "collapsed_sections": [],
      "authorship_tag": "ABX9TyOJt6AskOR6ZXvSC/EbMUBF",
      "include_colab_link": true
    },
    "kernelspec": {
      "name": "python3",
      "display_name": "Python 3"
    }
  },
  "cells": [
    {
      "cell_type": "markdown",
      "metadata": {
        "id": "view-in-github",
        "colab_type": "text"
      },
      "source": [
        "<a href=\"https://colab.research.google.com/github/minhvvan/DeepLearning/blob/main/ReLu.ipynb\" target=\"_parent\"><img src=\"https://colab.research.google.com/assets/colab-badge.svg\" alt=\"Open In Colab\"/></a>"
      ]
    },
    {
      "cell_type": "code",
      "metadata": {
        "colab": {
          "base_uri": "https://localhost:8080/"
        },
        "id": "njiqr5E3kWFw",
        "outputId": "1fddb1ac-e36f-48d8-9955-162d4891849f"
      },
      "source": [
        "import numpy as np\r\n",
        "\r\n",
        "def relu(x):\r\n",
        "  return np.maximum(x, 0)\r\n",
        "\r\n",
        "x = np.array([-1, 2, -3, 4, -5])\r\n",
        "relu(x)"
      ],
      "execution_count": 4,
      "outputs": [
        {
          "output_type": "execute_result",
          "data": {
            "text/plain": [
              "array([0, 2, 0, 4, 0])"
            ]
          },
          "metadata": {
            "tags": []
          },
          "execution_count": 4
        }
      ]
    },
    {
      "cell_type": "code",
      "metadata": {
        "colab": {
          "base_uri": "https://localhost:8080/"
        },
        "id": "SyIpfO2zlGVw",
        "outputId": "24f8d36e-4e3f-416b-8a1e-66a1d457bd42"
      },
      "source": [
        "import tensorflow as tf\r\n",
        "\r\n",
        "r_out = tf.nn.relu(x)\r\n",
        "r_out.numpy()"
      ],
      "execution_count": 5,
      "outputs": [
        {
          "output_type": "execute_result",
          "data": {
            "text/plain": [
              "array([0, 2, 0, 4, 0])"
            ]
          },
          "metadata": {
            "tags": []
          },
          "execution_count": 5
        }
      ]
    }
  ]
}