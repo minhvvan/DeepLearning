{
  "nbformat": 4,
  "nbformat_minor": 0,
  "metadata": {
    "colab": {
      "name": "cross_validate.ipynb",
      "provenance": [],
      "collapsed_sections": [],
      "authorship_tag": "ABX9TyMfVgtj1HI/nt7oQyXbIjqW",
      "include_colab_link": true
    },
    "kernelspec": {
      "name": "python3",
      "display_name": "Python 3"
    }
  },
  "cells": [
    {
      "cell_type": "markdown",
      "metadata": {
        "id": "view-in-github",
        "colab_type": "text"
      },
      "source": [
        "<a href=\"https://colab.research.google.com/github/minhvvan/DeepLearning/blob/main/cross_validate.ipynb\" target=\"_parent\"><img src=\"https://colab.research.google.com/assets/colab-badge.svg\" alt=\"Open In Colab\"/></a>"
      ]
    },
    {
      "cell_type": "code",
      "metadata": {
        "colab": {
          "base_uri": "https://localhost:8080/"
        },
        "id": "QW70LRBa93G9",
        "outputId": "e55bda67-c047-4c08-8335-58752b9b45cc"
      },
      "source": [
        "from sklearn.model_selection import cross_validate\r\n",
        "from sklearn.pipeline import make_pipeline\r\n",
        "from sklearn.preprocessing import StandardScaler\r\n",
        "from sklearn.linear_model import SGDClassifier\r\n",
        "from sklearn.datasets import load_breast_cancer\r\n",
        "import numpy as np\r\n",
        "\r\n",
        "data  = load_breast_cancer()\r\n",
        "\r\n",
        "\r\n",
        "x_train_all = data.data\r\n",
        "y_train_all = data.target\r\n",
        "\r\n",
        "# print(x_train_all)\r\n",
        "# print(y_train_all)\r\n",
        "\r\n",
        "sgd = SGDClassifier(loss='log', penalty='l2', alpha=0.001, random_state=42)\r\n",
        "pipe = make_pipeline(StandardScaler(), sgd)\r\n",
        "score = cross_validate(pipe, x_train_all, y_train_all, cv=10, return_train_score=True)\r\n",
        "print(np.mean(score['test_score']))\r\n"
      ],
      "execution_count": 23,
      "outputs": [
        {
          "output_type": "stream",
          "text": [
            "0.9841791979949874\n"
          ],
          "name": "stdout"
        }
      ]
    }
  ]
}