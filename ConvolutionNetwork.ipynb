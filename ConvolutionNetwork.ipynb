{
  "nbformat": 4,
  "nbformat_minor": 0,
  "metadata": {
    "colab": {
      "name": "ConvolutionNetwork.ipynb",
      "provenance": [],
      "collapsed_sections": [],
      "authorship_tag": "ABX9TyOQPBikTrVd04u28raTj+Ex",
      "include_colab_link": true
    },
    "kernelspec": {
      "name": "python3",
      "display_name": "Python 3"
    },
    "accelerator": "GPU"
  },
  "cells": [
    {
      "cell_type": "markdown",
      "metadata": {
        "id": "view-in-github",
        "colab_type": "text"
      },
      "source": [
        "<a href=\"https://colab.research.google.com/github/minhvvan/DeepLearning/blob/main/ConvolutionNetwork.ipynb\" target=\"_parent\"><img src=\"https://colab.research.google.com/assets/colab-badge.svg\" alt=\"Open In Colab\"/></a>"
      ]
    },
    {
      "cell_type": "code",
      "metadata": {
        "colab": {
          "base_uri": "https://localhost:8080/"
        },
        "id": "iUNHEfyW9tSZ",
        "outputId": "9cd227be-a670-480d-af21-8d385703242a"
      },
      "source": [
        "import numpy as np\r\n",
        "import matplotlib.pyplot as plt\r\n",
        "from sklearn.datasets import load_breast_cancer\r\n",
        "from sklearn.model_selection import train_test_split\r\n",
        "\r\n",
        "cancer = load_breast_cancer()\r\n",
        "x = cancer.data\r\n",
        "y = cancer.target\r\n",
        "x_train_all, x_test, y_train_all, y_test = train_test_split(x, y, stratify = y, test_size=0.2, random_state=42)\r\n",
        "x_train, x_val, y_train, y_val = train_test_split(x_train_all, y_train_all, stratify = y_train_all, test_size=0.2, random_state=42)\r\n",
        "\r\n",
        "print(x_train.shape, x_val.shape)"
      ],
      "execution_count": 1,
      "outputs": [
        {
          "output_type": "stream",
          "text": [
            "(364, 30) (91, 30)\n"
          ],
          "name": "stdout"
        }
      ]
    },
    {
      "cell_type": "code",
      "metadata": {
        "id": "rkNgBTeR_juJ"
      },
      "source": [
        "class SingleLayer:\r\n",
        "\r\n",
        "  def __init__(self, learning_rate=0.1, l1=2, l2=0):\r\n",
        "    self.w = None\r\n",
        "    self.b = None\r\n",
        "    self.losses = []\r\n",
        "    self.val_losses = []\r\n",
        "    self.w_history = []\r\n",
        "    self.lr = learning_rate\r\n",
        "    self.l1 = l1\r\n",
        "    self.l2 = l2\r\n",
        "\r\n",
        "  def forpass(self,x):\r\n",
        "    z = np.dot(x, self.w) + self.b\r\n",
        "    return z\r\n",
        "\r\n",
        "  def backprop(self, x, err):\r\n",
        "    m = len(x)\r\n",
        "    w_grad = np.dot(x.T, err) / m   #가중치에 대한 평균 그레이디언트 계산\r\n",
        "    b_grad = np.sum(err) / m    #절편에 대한 평균 그레이디언트 계산\r\n",
        "    return w_grad, b_grad\r\n",
        "\r\n",
        "  def activation(self, z):\r\n",
        "    a = 1 / (1 + np.exp(-z))\r\n",
        "    return a\r\n",
        "\r\n",
        "  def fit(self, x, y, epochs=100, x_val=None, y_val=None):\r\n",
        "    y = y.reshape(-1,1) #타겟을 열벡터로 변환\r\n",
        "    y_val = y_val.reshape(-1,1) #val타겟을 열벡터로 변환\r\n",
        "    m = len(x)\r\n",
        "    self.w = np.ones((x.shape[1],1))  #가중치 초기화\r\n",
        "    self.b = 0\r\n",
        "    self.w_history.append(self.w.copy())  #가중치 기록\r\n",
        "\r\n",
        "    for i in range(epochs):\r\n",
        "      z = self.forpass(x) #정방향 계산\r\n",
        "      a = self.activation(z) #활성화 함수\r\n",
        "      err = -(y - a)\r\n",
        "      w_grad, b_grad = self.backprop(x,err)  #역방향 계산\r\n",
        "      w_grad += (self.l1 * np.sign(self.w) + self.l2 * self.w) / m  #그레이디언트 패널티적용\r\n",
        "      self.w -= self.lr * w_grad  #가중치 업데이트\r\n",
        "      self.b -= self.lr * b_grad  #절편 업데이트\r\n",
        "      self.w_history.append(self.w.copy()) #가중치 기록\r\n",
        "      a = np.clip(a, 1e-10,1-1e-10) #클리핑\r\n",
        "      loss = np.sum(-(y*np.log(a) + (1-y)*np.log(1-a))) #로그 손실과 규제 손실 적용\r\n",
        "      self.losses.append((loss + self.reg_loss()) / m)\r\n",
        "      self.update_val_loss(x_val, y_val)  #검증\r\n",
        "\r\n",
        "  \r\n",
        "  def predict(self, x):\r\n",
        "    z = self.forpass(x)\r\n",
        "    return z > 0\r\n",
        "\r\n",
        "  def update_val_loss(self, x_val, y_val):\r\n",
        "    z = self.forpass(x_val)\r\n",
        "    a = self.activation(z)\r\n",
        "    a = np.clip(a, 1e-10,1-1e-10) #클리핑\r\n",
        "    val_loss = np.sum(-(y_val*np.log(a) + (1-y_val)*np.log(1-a)))\r\n",
        "    self.val_losses.append((val_loss + self.reg_loss()) / len(y_val))\r\n",
        "\r\n",
        "  def score(self, x, y):\r\n",
        "    return np.mean(self.predict(x) == y.reshape(-1,1))\r\n",
        "\r\n",
        "  def reg_loss(self):\r\n",
        "    return self.l1 * np.sum(np.abs(self.w)) + self.l2 / 2 * np.sum(self.w**2)\r\n",
        "  \r\n",
        "  def update_val_loss(self, x_val, y_val):\r\n",
        "    z = self.forpass(x_val)   #정방향 계산\r\n",
        "    a = self.activation(z)  #활성화 함수\r\n",
        "    a = np.clip(a, 1e-10,1-1e-10) #클리핑\r\n",
        "    val_loss = np.sum(-(y_val*np.log(a) + (1-y_val)*np.log(1-a)))\r\n",
        "    self.val_losses.append((val_loss + self.reg_loss()) / len(y_val)) #로그 손실, 규제 손실 더하여 기록\r\n"
      ],
      "execution_count": 2,
      "outputs": []
    },
    {
      "cell_type": "code",
      "metadata": {
        "id": "IX_qkL5grdNq"
      },
      "source": [
        "class DualLayer(SingleLayer):\r\n",
        "\r\n",
        "  def __init__(self, units=10, learning_rate=0.1, l1=0, l2=0):\r\n",
        "    self.units = units  #은닉층 뉴런 개수\r\n",
        "    self.w1 = None  #은닉층 가중치\r\n",
        "    self.b1 = None  #은닉층 절편\r\n",
        "    self.w2 = None  #출력층 가중치\r\n",
        "    self.b2 = None  #출력층 절편\r\n",
        "    self.a1 = None  #은닉층 활성화 출력\r\n",
        "    self.losses = []  #훈련 손실\r\n",
        "    self.val_losses = []  #검승 손실\r\n",
        "    self.lr = learning_rate #학습률\r\n",
        "    self.l1 = l1  #l1 규제\r\n",
        "    self.l2 = l2  #l2 규제\r\n",
        "\r\n",
        "  def forpass(self, x):\r\n",
        "    z1 = np.dot(x, self.w1) + self.b1 #첫 번쨰 층 선형식 계산\r\n",
        "    self.a1 = self.activation(z1) #활성화 함수\r\n",
        "    z2 = np.dot(self.a1, self.w2) + self.b2 #두번째 선형식 계산\r\n",
        "\r\n",
        "    return z2\r\n",
        "\r\n",
        "  def backprop(self, x, err):\r\n",
        "    m = len(x)  #샘플 개수\r\n",
        "    w2_grad = np.dot(self.a1.T, err) / m  #출력층 그레이디언트\r\n",
        "    b2_grad = np.sum(err) / m\r\n",
        "    err_to_hidden = np.dot(err, self.w2.T) * self.a1 * (1 - self.a1)  #시그모이드 그레이디언트 계산\r\n",
        "    w1_grad = np.dot(x.T, err_to_hidden) / m  #은닉층 그레이디언트\r\n",
        "    b1_grad = np.sum(err_to_hidden) / m\r\n",
        "    return w1_grad, b1_grad, w2_grad, b2_grad\r\n",
        "\r\n",
        "  def init_weights(self, n_featuers):\r\n",
        "    self.w1 = np.ones((n_featuers, self.units)) #(특성 개수, 은닉층 크기)\r\n",
        "    self.b1 = np.zeros(self.units)  #은닉층 크기\r\n",
        "    self.w2 = np.ones((self.units, 1)) #(은닉층 크기,1)\r\n",
        "    self.b2 = 0\r\n",
        "\r\n",
        "  def fit(self, x, y, epochs=100, x_val=None, y_val=None):\r\n",
        "    y = y.reshape(-1, 1)\r\n",
        "    y_val = y_val.reshape(-1, 1)\r\n",
        "    m = len(x)\r\n",
        "    self.init_weights(x.shape[1]) #가중치 초기화\r\n",
        "    for i in range(epochs):\r\n",
        "      a = self.training(x, y, m)\r\n",
        "      a = np.clip(a, 1e-10,1-1e-10) #클리핑\r\n",
        "      loss = np.sum(-(y*np.log(a) + (1-y)*np.log(1-a))) #로그 손실 추가\r\n",
        "      self.losses.append((loss + self.reg_loss()) / m)\r\n",
        "      self.update_val_loss(x_val, y_val)\r\n",
        "\r\n",
        "  def training(self, x, y, m):\r\n",
        "    z = self.forpass(x) #정방향 계산\r\n",
        "    a = self.activation(z)  #활성화 함수\r\n",
        "    err = -(y - a)  #오차 계산\r\n",
        "    w1_grad, b1_grad, w2_grad, b2_grad = self.backprop(x, err)\r\n",
        "    #그레이디언트 규제\r\n",
        "    w1_grad += (self.l1 * np.sign(self.w1) + self.l2 * self.w1) / m\r\n",
        "    w2_grad += (self.l1 * np.sign(self.w2) + self.l2 * self.w2) / m\r\n",
        "    #은닉층 가중치 절편 업데이트\r\n",
        "    self.w1 -= self.lr * w1_grad\r\n",
        "    self.b1 -= self.lr * b1_grad\r\n",
        "    #출력층 가중치 절편 업데이트\r\n",
        "    self.w2 -= self.lr * w2_grad\r\n",
        "    self.b2 -= self.lr * b2_grad\r\n",
        "\r\n",
        "    return a\r\n",
        "\r\n",
        "  def reg_loss(self):\r\n",
        "    #은닉층과 출력층의 가중치에 규제 적용\r\n",
        "    return self.l1 * (np.sum(np.abs(self.w1)) + np.sum(np.abs(self.w2))) + self.l2 / 2 * (np.sum(self.w1**2) + np.sum(self.w2**2))"
      ],
      "execution_count": 3,
      "outputs": []
    },
    {
      "cell_type": "code",
      "metadata": {
        "id": "iOFTQxj1zs8_"
      },
      "source": [
        "class RandomInitNetwork(DualLayer):\r\n",
        "  def init_weights(self, n_featuers):\r\n",
        "    np.random.seed(42)\r\n",
        "    self.w1 = np.random.normal(0, 1, (n_featuers,self.units))  #(특성 개수, 은닉층 크기)\r\n",
        "    self.b1 = np.zeros(self.units)  #은닉층 크기\r\n",
        "    self.w2 = np.random.normal(0, 1, (self.units, 1))  #(은닉층 크기, 1)\r\n",
        "    self.b2 = 0"
      ],
      "execution_count": 4,
      "outputs": []
    },
    {
      "cell_type": "code",
      "metadata": {
        "id": "HP119PGTGXrv"
      },
      "source": [
        "class MinibatchNetwork(RandomInitNetwork):\r\n",
        "\r\n",
        "  def __init__(self, units=10, batch_size=32, learning_rate=0.1, l1=0, l2=0):\r\n",
        "    super().__init__(units, learning_rate, l1, l2)\r\n",
        "    self.batch_size = batch_size  #배치 크기\r\n",
        "\r\n",
        "  def fit(self, x, y, epochs=100, x_val=None, y_val=None):\r\n",
        "    y_val = y_val.reshape(-1,1) #타깃 열 벡터로 변환\r\n",
        "    self.init_weights(x.shape[1]) #은닉층과 출력층 가중치 초기화\r\n",
        "    np.random.seed(42)\r\n",
        "    for i in range(epochs):\r\n",
        "      loss = 0\r\n",
        "      for x_batch, y_batch in self.gen_batch(x, y):\r\n",
        "        y_batch = y_batch.reshape(-1, 1)  #타깃 열 벡터로 변환\r\n",
        "        m = len(x_batch)\r\n",
        "        a = self.training(x_batch, y_batch, m)\r\n",
        "        a = np.clip(a, 1e-10,1-1e-10) #클리핑\r\n",
        "        loss += np.sum(-(y_batch*np.log(a) + (1-y_batch)*np.log(1-a)))\r\n",
        "      self.losses.append((loss + self.reg_loss()) / len(x))\r\n",
        "      self.update_val_loss(x_val, y_val)  #검증 손실 계산\r\n",
        "\r\n",
        "  def gen_batch(self, x, y):\r\n",
        "    length = len(x)\r\n",
        "    bins = length // self.batch_size  #미니 배치 횟수\r\n",
        "    if length % self.batch_size:  #나누어 떨어지지 않으면 1추가\r\n",
        "      bins += 1\r\n",
        "    indexes = np.random.permutation(np.arange(len(x)))  #인덱스 셔플\r\n",
        "    x = x[indexes]\r\n",
        "    y = y[indexes]\r\n",
        "    for i in range(bins):\r\n",
        "      start = self.batch_size * i\r\n",
        "      end = self.batch_size * (i + 1)\r\n",
        "      yield x[start:end], y[start:end]  #batch_size만큼 슬라이싱하여 반환"
      ],
      "execution_count": 5,
      "outputs": []
    },
    {
      "cell_type": "code",
      "metadata": {
        "id": "4thZu8U_NsuR"
      },
      "source": [
        "class MultiClassNetwork(MinibatchNetwork):\r\n",
        "\r\n",
        "  def sigmoid(self, z):\r\n",
        "    a = 1 / (1 + np.exp(-z))  #시그모이드 계산\r\n",
        "    return a\r\n",
        "\r\n",
        "  def softmax(self, z):\r\n",
        "    #소프트맥스 함수\r\n",
        "    exp_z = np.exp(z)\r\n",
        "    return exp_z / np.sum(exp_z, axis=1).reshape(-1,1)\r\n",
        "\r\n",
        "  def forpass(self, x):\r\n",
        "    z1 = np.dot(x, self.w1) + self.b1 #첫 번쨰 층 선형식 계산\r\n",
        "    self.a1 = self.sigmoid(z1) #활성화 함수\r\n",
        "    z2 = np.dot(self.a1, self.w2) + self.b2 #두번째 선형식 계산\r\n",
        "\r\n",
        "    return z2\r\n",
        "\r\n",
        "  def init_weights(self, n_featuers, n_classes):\r\n",
        "    np.random.seed(42)\r\n",
        "    self.w1 = np.random.normal(0, 1, (n_featuers,self.units))  #(특성 개수, 은닉층 크기)\r\n",
        "    self.b1 = np.zeros(self.units)  #은닉층 크기\r\n",
        "    self.w2 = np.random.normal(0, 1, (self.units, n_classes))  #(은닉층 크기, 클래스 개수)\r\n",
        "    self.b2 = np.zeros(n_classes)\r\n",
        "\r\n",
        "  def fit(self, x, y, epochs=100, x_val=None, y_val=None):\r\n",
        "    self.init_weights(x.shape[1], y.shape[1]) #은닉층과 출력층 가중치 초기화\r\n",
        "    np.random.seed(42)\r\n",
        "    for i in range(epochs):\r\n",
        "      loss = 0\r\n",
        "      print('.', end='')\r\n",
        "      for x_batch, y_batch in self.gen_batch(x, y):\r\n",
        "        a = self.training(x_batch, y_batch)\r\n",
        "        a = np.clip(a, 1e-10,1-1e-10) #클리핑\r\n",
        "        loss += np.sum(-y_batch*np.log(a))\r\n",
        "      self.losses.append((loss + self.reg_loss()) / len(x))\r\n",
        "      self.update_val_loss(x_val, y_val)  #검증 손실 계산\r\n",
        "\r\n",
        "  def training(self, x, y):\r\n",
        "    m = len(x)  #샘플 개수\r\n",
        "    z = self.forpass(x) #정방향 계산\r\n",
        "    a = self.sigmoid(z)  #활성화 함수\r\n",
        "    err = -(y - a)  #오차 계산\r\n",
        "    w1_grad, b1_grad, w2_grad, b2_grad = self.backprop(x, err)\r\n",
        "    #그레이디언트 규제\r\n",
        "    w1_grad += (self.l1 * np.sign(self.w1) + self.l2 * self.w1) / m\r\n",
        "    w2_grad += (self.l1 * np.sign(self.w2) + self.l2 * self.w2) / m\r\n",
        "    #은닉층 가중치 절편 업데이트\r\n",
        "    self.w1 -= self.lr * w1_grad\r\n",
        "    self.b1 -= self.lr * b1_grad\r\n",
        "    #출력층 가중치 절편 업데이트\r\n",
        "    self.w2 -= self.lr * w2_grad\r\n",
        "    self.b2 -= self.lr * b2_grad\r\n",
        "\r\n",
        "    return a\r\n",
        "  \r\n",
        "  def predict(self, x):\r\n",
        "    z = self.forpass(x) #정방향 계산을 수행\r\n",
        "    return np.argmax(z, axis=1)  #가장 큰 값의 인덱스를 반환\r\n",
        "\r\n",
        "  def score(self, x, y):\r\n",
        "    #예측과 타깃 열 벡터를 비교하여 True의 비율을 반환\r\n",
        "    return np.mean(self.predict(x) == np.argmax(y, axis=1))\r\n",
        "\r\n",
        "  def update_val_loss(self, x_val, y_val):\r\n",
        "    z = self.forpass(x_val)   #정방향 계산\r\n",
        "    a = self.softmax(z)  #활성화 함수\r\n",
        "    a = np.clip(a, 1e-10,1-1e-10) #클리핑\r\n",
        "    val_loss = np.sum(-y_val*np.log(a))\r\n",
        "    self.val_losses.append((val_loss + self.reg_loss()) / len(y_val)) #로그 손실, 규제 손실 더하여 기록"
      ],
      "execution_count": 6,
      "outputs": []
    },
    {
      "cell_type": "code",
      "metadata": {
        "id": "1G3n2hvSHMTP"
      },
      "source": [
        "class ConvolutionNetwork(MultiClassNetwork):\r\n",
        "\r\n",
        "  def __init__(self, n_kernels=10, units=10, batch_size=32, learning_rate=0.1):\r\n",
        "    self.n_kernels = n_kernels  #합성곱 커널 개수\r\n",
        "    self.kernel_size = 3  #커널 크기\r\n",
        "    self.optimizer = None #옵티마이저\r\n",
        "    self.conv_w = None  #합성곱층의 가중치\r\n",
        "    self.conv_b = None #합성곱층의 절편\r\n",
        "    self.units = units  #은닉층 뉴런 개수\r\n",
        "    self.batch_size = batch_size  #배치 크기\r\n",
        "    self.w1 = None  #은닉층 가중치\r\n",
        "    self.b1 = None  #은닉층 절편\r\n",
        "    self.w2 = None  #출력층 가중치\r\n",
        "    self.b2 = None  #출력층 절편\r\n",
        "    self.a1 = None  #은닉층 활성화 출력\r\n",
        "    self.losses = []  #훈련 손실\r\n",
        "    self.val_losses = []  #검승 손실\r\n",
        "    self.lr = learning_rate #학습률\r\n",
        "\r\n",
        "  def forpass(self, x):\r\n",
        "    c_out = tf.nn.conv2d(x, self.conv_w, strides=1, padding='SAME') + self.conv_b\r\n",
        "    r_out = tf.nn.relu(c_out)\r\n",
        "    #2 x 2 최대 풀링 적용\r\n",
        "    p_out = tf.nn.max_pool2d(r_out, ksize=2, strides=2, padding='VALID')\r\n",
        "    #첫 밴째 배치 차원 제외하고 일렬로\r\n",
        "    f_out = tf.reshape(p_out, [x.shape[0], -1])\r\n",
        "    z1 = tf.matmul(f_out, self.w1) + self.b1\r\n",
        "    a1 = tf.nn.relu(z1)\r\n",
        "    z2 = tf.matmul(a1, self.w2) + self.b2\r\n",
        "    return z2\r\n",
        "\r\n",
        "  def init_weights(self, input_shape, n_classes):\r\n",
        "    g = tf.initializers.glorot_uniform()\r\n",
        "    self.conv_w = tf.Variable(g((3, 3, 1, self.n_kernels)))\r\n",
        "    self.conv_b = tf.Variable(np.zeros(self.n_kernels), dtype=float)\r\n",
        "    n_features = 14 * 14 * self.n_kernels\r\n",
        "    self.w1 = tf.Variable(g((n_features, self.units)))  #특성 개수, 은닉층의 크기\r\n",
        "    self.b1 = tf.Variable(np.zeros(self.units), dtype=float)  #은닉층 크기\r\n",
        "    self.w2 = tf.Variable(g((self.units, n_classes))) #(은닉층 크기, 클래스 개수)\r\n",
        "    self.b2 = tf.Variable(np.zeros(n_classes), dtype=float) #클래스 개수\r\n",
        "\r\n",
        "  def training(self, x, y):\r\n",
        "    m = len(x)\r\n",
        "    with tf.GradientTape() as tape:\r\n",
        "      z = self.forpass(x) #정방향 계산\r\n",
        "      loss = tf.nn.softmax_cross_entropy_with_logits(y, z)\r\n",
        "      loss = tf.reduce_mean(loss)\r\n",
        "    weights_list = [self.conv_w, self.conv_b, self.w1, self.b1, self.w2, self.b2]\r\n",
        "    #가중치 그레이디언트 계산\r\n",
        "    grads = tape.gradient(loss, weights_list)\r\n",
        "    #가중치 업데이트\r\n",
        "    self.optimizer.apply_gradients(zip(grads, weights_list))\r\n",
        "\r\n",
        "\r\n",
        "  def fit(self, x, y, epochs=100, x_val=None, y_val=None):\r\n",
        "    self.init_weights(x.shape, y.shape[1])  #은닉층과 출력층의 가중치 초기화\r\n",
        "    self.optimizer = tf.optimizers.SGD(learning_rate=self.lr)\r\n",
        "\r\n",
        "    for i in range(epochs):\r\n",
        "      print('에포크', i, end=' ')\r\n",
        "      batch_losses = []\r\n",
        "      for x_batch, y_batch in self.gen_batch(x, y):\r\n",
        "        print('.', end=' ')\r\n",
        "        self.training(x_batch, y_batch)\r\n",
        "        batch_losses.append(self.get_loss(x_batch, y_batch))\r\n",
        "      print()\r\n",
        "      #배치 손실 평균 내어 훈련 손실값으로 지정\r\n",
        "      self.losses.append(np.mean(batch_losses))\r\n",
        "      #검증 세트에 대한 손실 계산\r\n",
        "      self.val_losses.append(self.get_loss(x_val, y_val))\r\n",
        "\r\n",
        "\r\n",
        "  def gen_batch(self, x, y):\r\n",
        "    bins = len(x) // self.batch_size  #미니배치 횟수\r\n",
        "    indexes = np.random.permutation(np.arange(len(x)))\r\n",
        "    x = x[indexes]\r\n",
        "    y = y[indexes]\r\n",
        "    for i in range(bins):\r\n",
        "      start = self.batch_size * i\r\n",
        "      end = self.batch_size * (i + 1)\r\n",
        "      yield x[start:end], y[start:end]\r\n",
        "\r\n",
        "\r\n",
        "  def get_loss(self, x, y):\r\n",
        "    z = self.forpass(x)\r\n",
        "    #손실 계산\r\n",
        "    loss = tf.reduce_mean(tf.nn.softmax_cross_entropy_with_logits(y, z))\r\n",
        "    return loss.numpy()  "
      ],
      "execution_count": 7,
      "outputs": []
    },
    {
      "cell_type": "code",
      "metadata": {
        "colab": {
          "base_uri": "https://localhost:8080/"
        },
        "id": "7M3MyaX5UUmF",
        "outputId": "0acc5790-105a-4ae0-d042-7da4d2ff90bb"
      },
      "source": [
        "!pip install tensorflow_gpu==2.0.0"
      ],
      "execution_count": 8,
      "outputs": [
        {
          "output_type": "stream",
          "text": [
            "Requirement already satisfied: tensorflow_gpu==2.0.0 in /usr/local/lib/python3.6/dist-packages (2.0.0)\n",
            "Requirement already satisfied: absl-py>=0.7.0 in /usr/local/lib/python3.6/dist-packages (from tensorflow_gpu==2.0.0) (0.10.0)\n",
            "Requirement already satisfied: grpcio>=1.8.6 in /usr/local/lib/python3.6/dist-packages (from tensorflow_gpu==2.0.0) (1.32.0)\n",
            "Requirement already satisfied: wheel>=0.26 in /usr/local/lib/python3.6/dist-packages (from tensorflow_gpu==2.0.0) (0.36.2)\n",
            "Requirement already satisfied: opt-einsum>=2.3.2 in /usr/local/lib/python3.6/dist-packages (from tensorflow_gpu==2.0.0) (3.3.0)\n",
            "Requirement already satisfied: google-pasta>=0.1.6 in /usr/local/lib/python3.6/dist-packages (from tensorflow_gpu==2.0.0) (0.2.0)\n",
            "Requirement already satisfied: keras-preprocessing>=1.0.5 in /usr/local/lib/python3.6/dist-packages (from tensorflow_gpu==2.0.0) (1.1.2)\n",
            "Requirement already satisfied: wrapt>=1.11.1 in /usr/local/lib/python3.6/dist-packages (from tensorflow_gpu==2.0.0) (1.12.1)\n",
            "Requirement already satisfied: tensorflow-estimator<2.1.0,>=2.0.0 in /usr/local/lib/python3.6/dist-packages (from tensorflow_gpu==2.0.0) (2.0.1)\n",
            "Requirement already satisfied: tensorboard<2.1.0,>=2.0.0 in /usr/local/lib/python3.6/dist-packages (from tensorflow_gpu==2.0.0) (2.0.2)\n",
            "Requirement already satisfied: six>=1.10.0 in /usr/local/lib/python3.6/dist-packages (from tensorflow_gpu==2.0.0) (1.15.0)\n",
            "Requirement already satisfied: keras-applications>=1.0.8 in /usr/local/lib/python3.6/dist-packages (from tensorflow_gpu==2.0.0) (1.0.8)\n",
            "Requirement already satisfied: gast==0.2.2 in /usr/local/lib/python3.6/dist-packages (from tensorflow_gpu==2.0.0) (0.2.2)\n",
            "Requirement already satisfied: protobuf>=3.6.1 in /usr/local/lib/python3.6/dist-packages (from tensorflow_gpu==2.0.0) (3.12.4)\n",
            "Requirement already satisfied: numpy<2.0,>=1.16.0 in /usr/local/lib/python3.6/dist-packages (from tensorflow_gpu==2.0.0) (1.19.4)\n",
            "Requirement already satisfied: astor>=0.6.0 in /usr/local/lib/python3.6/dist-packages (from tensorflow_gpu==2.0.0) (0.8.1)\n",
            "Requirement already satisfied: termcolor>=1.1.0 in /usr/local/lib/python3.6/dist-packages (from tensorflow_gpu==2.0.0) (1.1.0)\n",
            "Requirement already satisfied: google-auth<2,>=1.6.3 in /usr/local/lib/python3.6/dist-packages (from tensorboard<2.1.0,>=2.0.0->tensorflow_gpu==2.0.0) (1.17.2)\n",
            "Requirement already satisfied: setuptools>=41.0.0 in /usr/local/lib/python3.6/dist-packages (from tensorboard<2.1.0,>=2.0.0->tensorflow_gpu==2.0.0) (51.0.0)\n",
            "Requirement already satisfied: markdown>=2.6.8 in /usr/local/lib/python3.6/dist-packages (from tensorboard<2.1.0,>=2.0.0->tensorflow_gpu==2.0.0) (3.3.3)\n",
            "Requirement already satisfied: werkzeug>=0.11.15 in /usr/local/lib/python3.6/dist-packages (from tensorboard<2.1.0,>=2.0.0->tensorflow_gpu==2.0.0) (1.0.1)\n",
            "Requirement already satisfied: google-auth-oauthlib<0.5,>=0.4.1 in /usr/local/lib/python3.6/dist-packages (from tensorboard<2.1.0,>=2.0.0->tensorflow_gpu==2.0.0) (0.4.2)\n",
            "Requirement already satisfied: requests<3,>=2.21.0 in /usr/local/lib/python3.6/dist-packages (from tensorboard<2.1.0,>=2.0.0->tensorflow_gpu==2.0.0) (2.23.0)\n",
            "Requirement already satisfied: h5py in /usr/local/lib/python3.6/dist-packages (from keras-applications>=1.0.8->tensorflow_gpu==2.0.0) (2.10.0)\n",
            "Requirement already satisfied: cachetools<5.0,>=2.0.0 in /usr/local/lib/python3.6/dist-packages (from google-auth<2,>=1.6.3->tensorboard<2.1.0,>=2.0.0->tensorflow_gpu==2.0.0) (4.2.0)\n",
            "Requirement already satisfied: pyasn1-modules>=0.2.1 in /usr/local/lib/python3.6/dist-packages (from google-auth<2,>=1.6.3->tensorboard<2.1.0,>=2.0.0->tensorflow_gpu==2.0.0) (0.2.8)\n",
            "Requirement already satisfied: rsa<5,>=3.1.4; python_version >= \"3\" in /usr/local/lib/python3.6/dist-packages (from google-auth<2,>=1.6.3->tensorboard<2.1.0,>=2.0.0->tensorflow_gpu==2.0.0) (4.6)\n",
            "Requirement already satisfied: importlib-metadata; python_version < \"3.8\" in /usr/local/lib/python3.6/dist-packages (from markdown>=2.6.8->tensorboard<2.1.0,>=2.0.0->tensorflow_gpu==2.0.0) (3.3.0)\n",
            "Requirement already satisfied: requests-oauthlib>=0.7.0 in /usr/local/lib/python3.6/dist-packages (from google-auth-oauthlib<0.5,>=0.4.1->tensorboard<2.1.0,>=2.0.0->tensorflow_gpu==2.0.0) (1.3.0)\n",
            "Requirement already satisfied: chardet<4,>=3.0.2 in /usr/local/lib/python3.6/dist-packages (from requests<3,>=2.21.0->tensorboard<2.1.0,>=2.0.0->tensorflow_gpu==2.0.0) (3.0.4)\n",
            "Requirement already satisfied: certifi>=2017.4.17 in /usr/local/lib/python3.6/dist-packages (from requests<3,>=2.21.0->tensorboard<2.1.0,>=2.0.0->tensorflow_gpu==2.0.0) (2020.12.5)\n",
            "Requirement already satisfied: idna<3,>=2.5 in /usr/local/lib/python3.6/dist-packages (from requests<3,>=2.21.0->tensorboard<2.1.0,>=2.0.0->tensorflow_gpu==2.0.0) (2.10)\n",
            "Requirement already satisfied: urllib3!=1.25.0,!=1.25.1,<1.26,>=1.21.1 in /usr/local/lib/python3.6/dist-packages (from requests<3,>=2.21.0->tensorboard<2.1.0,>=2.0.0->tensorflow_gpu==2.0.0) (1.24.3)\n",
            "Requirement already satisfied: pyasn1<0.5.0,>=0.4.6 in /usr/local/lib/python3.6/dist-packages (from pyasn1-modules>=0.2.1->google-auth<2,>=1.6.3->tensorboard<2.1.0,>=2.0.0->tensorflow_gpu==2.0.0) (0.4.8)\n",
            "Requirement already satisfied: typing-extensions>=3.6.4; python_version < \"3.8\" in /usr/local/lib/python3.6/dist-packages (from importlib-metadata; python_version < \"3.8\"->markdown>=2.6.8->tensorboard<2.1.0,>=2.0.0->tensorflow_gpu==2.0.0) (3.7.4.3)\n",
            "Requirement already satisfied: zipp>=0.5 in /usr/local/lib/python3.6/dist-packages (from importlib-metadata; python_version < \"3.8\"->markdown>=2.6.8->tensorboard<2.1.0,>=2.0.0->tensorflow_gpu==2.0.0) (3.4.0)\n",
            "Requirement already satisfied: oauthlib>=3.0.0 in /usr/local/lib/python3.6/dist-packages (from requests-oauthlib>=0.7.0->google-auth-oauthlib<0.5,>=0.4.1->tensorboard<2.1.0,>=2.0.0->tensorflow_gpu==2.0.0) (3.1.0)\n"
          ],
          "name": "stdout"
        }
      ]
    },
    {
      "cell_type": "code",
      "metadata": {
        "colab": {
          "base_uri": "https://localhost:8080/",
          "height": 35
        },
        "id": "zeuJcT6OUiJ6",
        "outputId": "ff8afebb-03e7-4ab2-a14d-b3e73bc860a3"
      },
      "source": [
        "import tensorflow as tf\r\n",
        "\r\n",
        "tf.__version__"
      ],
      "execution_count": 9,
      "outputs": [
        {
          "output_type": "execute_result",
          "data": {
            "application/vnd.google.colaboratory.intrinsic+json": {
              "type": "string"
            },
            "text/plain": [
              "'2.0.0'"
            ]
          },
          "metadata": {
            "tags": []
          },
          "execution_count": 9
        }
      ]
    },
    {
      "cell_type": "code",
      "metadata": {
        "colab": {
          "base_uri": "https://localhost:8080/"
        },
        "id": "-rDzGEyUUyTF",
        "outputId": "9df2bdc4-1ef8-4200-eb16-696d8047037c"
      },
      "source": [
        "(x_train_all, y_train_all), (x_test, y_test) = tf.keras.datasets.fashion_mnist.load_data()\r\n",
        "\r\n",
        "print(x_train_all.shape, y_train_all.shape)"
      ],
      "execution_count": 10,
      "outputs": [
        {
          "output_type": "stream",
          "text": [
            "(60000, 28, 28) (60000,)\n"
          ],
          "name": "stdout"
        }
      ]
    },
    {
      "cell_type": "code",
      "metadata": {
        "colab": {
          "base_uri": "https://localhost:8080/",
          "height": 265
        },
        "id": "ThAoqGseVja_",
        "outputId": "96bf37db-6347-4024-f371-a43641758b6b"
      },
      "source": [
        "import matplotlib.pyplot as plt\r\n",
        "\r\n",
        "plt.imshow(x_train_all[0], cmap='gray')\r\n",
        "plt.show()"
      ],
      "execution_count": 11,
      "outputs": [
        {
          "output_type": "display_data",
          "data": {
            "image/png": "[encoded data removed]",
            "text/plain": [
              "<Figure size 432x288 with 1 Axes>"
            ]
          },
          "metadata": {
            "tags": [],
            "needs_background": "light"
          }
        }
      ]
    },
    {
      "cell_type": "code",
      "metadata": {
        "colab": {
          "base_uri": "https://localhost:8080/"
        },
        "id": "GoLeSvoPV11F",
        "outputId": "8a1b1778-30a9-44d3-9b7e-0e544c9a2516"
      },
      "source": [
        "print(y_train_all[:10])\r\n",
        "\r\n",
        "class_names = ['티셔츠/윗도리', '바지', '스웨터', '드레스', '코트', '샌들', '셔츠', '스니커즈', '가방', '앵클부츠']\r\n",
        "\r\n",
        "print(class_names[y_train_all[0]])"
      ],
      "execution_count": 12,
      "outputs": [
        {
          "output_type": "stream",
          "text": [
            "[9 0 0 3 0 2 7 2 5 5]\n",
            "앵클부츠\n"
          ],
          "name": "stdout"
        }
      ]
    },
    {
      "cell_type": "code",
      "metadata": {
        "colab": {
          "base_uri": "https://localhost:8080/"
        },
        "id": "X7sQLZROWlHL",
        "outputId": "00b95980-c3a5-4a7c-9eb2-8615f4bcedaf"
      },
      "source": [
        "np.bincount(y_train_all)"
      ],
      "execution_count": 13,
      "outputs": [
        {
          "output_type": "execute_result",
          "data": {
            "text/plain": [
              "array([6000, 6000, 6000, 6000, 6000, 6000, 6000, 6000, 6000, 6000])"
            ]
          },
          "metadata": {
            "tags": []
          },
          "execution_count": 13
        }
      ]
    },
    {
      "cell_type": "code",
      "metadata": {
        "colab": {
          "base_uri": "https://localhost:8080/"
        },
        "id": "wNFnAloSW7zW",
        "outputId": "83fad8a9-c711-4ae3-eb5b-9f332ca77a87"
      },
      "source": [
        "from sklearn.model_selection import train_test_split\r\n",
        "\r\n",
        "x_train, x_val, y_train, y_val = train_test_split(x_train_all, y_train_all, stratify=y_train_all, test_size=0.2, random_state=42)\r\n",
        "print(np.bincount(y_train))\r\n",
        "print(np.bincount(y_val))"
      ],
      "execution_count": 14,
      "outputs": [
        {
          "output_type": "stream",
          "text": [
            "[4800 4800 4800 4800 4800 4800 4800 4800 4800 4800]\n",
            "[1200 1200 1200 1200 1200 1200 1200 1200 1200 1200]\n"
          ],
          "name": "stdout"
        }
      ]
    },
    {
      "cell_type": "code",
      "metadata": {
        "id": "Ib4p5hUOXpsj"
      },
      "source": [
        "x_train = x_train / 255\r\n",
        "x_val = x_val /255"
      ],
      "execution_count": 15,
      "outputs": []
    },
    {
      "cell_type": "code",
      "metadata": {
        "colab": {
          "base_uri": "https://localhost:8080/"
        },
        "id": "Q1Ec26BQX8vg",
        "outputId": "dc106bdf-1b28-46fb-c20c-0f3ee1265af3"
      },
      "source": [
        "x_train = x_train.reshape(-1, 28, 28, 1)\r\n",
        "x_val = x_val.reshape(-1, 28, 28, 1)\r\n",
        "\r\n",
        "print(x_train.shape, x_val.shape)"
      ],
      "execution_count": 16,
      "outputs": [
        {
          "output_type": "stream",
          "text": [
            "(48000, 28, 28, 1) (12000, 28, 28, 1)\n"
          ],
          "name": "stdout"
        }
      ]
    },
    {
      "cell_type": "code",
      "metadata": {
        "colab": {
          "base_uri": "https://localhost:8080/"
        },
        "id": "sM1CKqARYx1p",
        "outputId": "064f3e99-418e-4c2d-a74c-661a7edc0173"
      },
      "source": [
        "y_train_encoded = tf.keras.utils.to_categorical(y_train)\r\n",
        "y_val_encoded = tf.keras.utils.to_categorical(y_val)\r\n",
        "\r\n",
        "print(y_train[0], y_train_encoded[0])"
      ],
      "execution_count": 17,
      "outputs": [
        {
          "output_type": "stream",
          "text": [
            "6 [0. 0. 0. 0. 0. 0. 1. 0. 0. 0.]\n"
          ],
          "name": "stdout"
        }
      ]
    },
    {
      "cell_type": "code",
      "metadata": {
        "colab": {
          "base_uri": "https://localhost:8080/"
        },
        "id": "Ntzq9k0ddG3K",
        "outputId": "b2d3cc4a-bba3-495d-827e-26474f7704fa"
      },
      "source": [
        "cn = ConvolutionNetwork(n_kernels=10, units=100, batch_size=128, learning_rate=0.01)\r\n",
        "cn.fit(x_train, y_train_encoded, x_val=x_val, y_val=y_val_encoded, epochs=20)"
      ],
      "execution_count": 18,
      "outputs": [
        {
          "output_type": "stream",
          "text": [
            "에포크 0 . . . . . . . . . . . . . . . . . . . . . . . . . . . . . . . . . . . . . . . . . . . . . . . . . . . . . . . . . . . . . . . . . . . . . . . . . . . . . . . . . . . . . . . . . . . . . . . . . . . . . . . . . . . . . . . . . . . . . . . . . . . . . . . . . . . . . . . . . . . . . . . . . . . . . . . . . . . . . . . . . . . . . . . . . . . . . . . . . . . . . . . . . . . . . . . . . . . . . . . . . . . . . . . . . . . . . . . . . . . . . . . . . . . . . . . . . . . . . . . . . . . . . . . . . . . . . . . . . . . . . . . . . . . . . . . . . . . . . . . . . . . . . . . . . . . . . . . . . . . . . . . . . . . . . . . . . . . . . . . . . . . . . . . . . . . . . . . . . . . . . . . . . . . . . . . . . . . . . . . . . . . . . . . . . . . . . . . \n",
            "에포크 1 . . . . . . . . . . . . . . . . . . . . . . . . . . . . . . . . . . . . . . . . . . . . . . . . . . . . . . . . . . . . . . . . . . . . . . . . . . . . . . . . . . . . . . . . . . . . . . . . . . . . . . . . . . . . . . . . . . . . . . . . . . . . . . . . . . . . . . . . . . . . . . . . . . . . . . . . . . . . . . . . . . . . . . . . . . . . . . . . . . . . . . . . . . . . . . . . . . . . . . . . . . . . . . . . . . . . . . . . . . . . . . . . . . . . . . . . . . . . . . . . . . . . . . . . . . . . . . . . . . . . . . . . . . . . . . . . . . . . . . . . . . . . . . . . . . . . . . . . . . . . . . . . . . . . . . . . . . . . . . . . . . . . . . . . . . . . . . . . . . . . . . . . . . . . . . . . . . . . . . . . . . . . . . . . . . . . . . . \n",
            "에포크 2 . . . . . . . . . . . . . . . . . . . . . . . . . . . . . . . . . . . . . . . . . . . . . . . . . . . . . . . . . . . . . . . . . . . . . . . . . . . . . . . . . . . . . . . . . . . . . . . . . . . . . . . . . . . . . . . . . . . . . . . . . . . . . . . . . . . . . . . . . . . . . . . . . . . . . . . . . . . . . . . . . . . . . . . . . . . . . . . . . . . . . . . . . . . . . . . . . . . . . . . . . . . . . . . . . . . . . . . . . . . . . . . . . . . . . . . . . . . . . . . . . . . . . . . . . . . . . . . . . . . . . . . . . . . . . . . . . . . . . . . . . . . . . . . . . . . . . . . . . . . . . . . . . . . . . . . . . . . . . . . . . . . . . . . . . . . . . . . . . . . . . . . . . . . . . . . . . . . . . . . . . . . . . . . . . . . . . . . \n",
            "에포크 3 . . . . . . . . . . . . . . . . . . . . . . . . . . . . . . . . . . . . . . . . . . . . . . . . . . . . . . . . . . . . . . . . . . . . . . . . . . . . . . . . . . . . . . . . . . . . . . . . . . . . . . . . . . . . . . . . . . . . . . . . . . . . . . . . . . . . . . . . . . . . . . . . . . . . . . . . . . . . . . . . . . . . . . . . . . . . . . . . . . . . . . . . . . . . . . . . . . . . . . . . . . . . . . . . . . . . . . . . . . . . . . . . . . . . . . . . . . . . . . . . . . . . . . . . . . . . . . . . . . . . . . . . . . . . . . . . . . . . . . . . . . . . . . . . . . . . . . . . . . . . . . . . . . . . . . . . . . . . . . . . . . . . . . . . . . . . . . . . . . . . . . . . . . . . . . . . . . . . . . . . . . . . . . . . . . . . . . . \n",
            "에포크 4 . . . . . . . . . . . . . . . . . . . . . . . . . . . . . . . . . . . . . . . . . . . . . . . . . . . . . . . . . . . . . . . . . . . . . . . . . . . . . . . . . . . . . . . . . . . . . . . . . . . . . . . . . . . . . . . . . . . . . . . . . . . . . . . . . . . . . . . . . . . . . . . . . . . . . . . . . . . . . . . . . . . . . . . . . . . . . . . . . . . . . . . . . . . . . . . . . . . . . . . . . . . . . . . . . . . . . . . . . . . . . . . . . . . . . . . . . . . . . . . . . . . . . . . . . . . . . . . . . . . . . . . . . . . . . . . . . . . . . . . . . . . . . . . . . . . . . . . . . . . . . . . . . . . . . . . . . . . . . . . . . . . . . . . . . . . . . . . . . . . . . . . . . . . . . . . . . . . . . . . . . . . . . . . . . . . . . . . \n",
            "에포크 5 . . . . . . . . . . . . . . . . . . . . . . . . . . . . . . . . . . . . . . . . . . . . . . . . . . . . . . . . . . . . . . . . . . . . . . . . . . . . . . . . . . . . . . . . . . . . . . . . . . . . . . . . . . . . . . . . . . . . . . . . . . . . . . . . . . . . . . . . . . . . . . . . . . . . . . . . . . . . . . . . . . . . . . . . . . . . . . . . . . . . . . . . . . . . . . . . . . . . . . . . . . . . . . . . . . . . . . . . . . . . . . . . . . . . . . . . . . . . . . . . . . . . . . . . . . . . . . . . . . . . . . . . . . . . . . . . . . . . . . . . . . . . . . . . . . . . . . . . . . . . . . . . . . . . . . . . . . . . . . . . . . . . . . . . . . . . . . . . . . . . . . . . . . . . . . . . . . . . . . . . . . . . . . . . . . . . . . . \n",
            "에포크 6 . . . . . . . . . . . . . . . . . . . . . . . . . . . . . . . . . . . . . . . . . . . . . . . . . . . . . . . . . . . . . . . . . . . . . . . . . . . . . . . . . . . . . . . . . . . . . . . . . . . . . . . . . . . . . . . . . . . . . . . . . . . . . . . . . . . . . . . . . . . . . . . . . . . . . . . . . . . . . . . . . . . . . . . . . . . . . . . . . . . . . . . . . . . . . . . . . . . . . . . . . . . . . . . . . . . . . . . . . . . . . . . . . . . . . . . . . . . . . . . . . . . . . . . . . . . . . . . . . . . . . . . . . . . . . . . . . . . . . . . . . . . . . . . . . . . . . . . . . . . . . . . . . . . . . . . . . . . . . . . . . . . . . . . . . . . . . . . . . . . . . . . . . . . . . . . . . . . . . . . . . . . . . . . . . . . . . . . \n",
            "에포크 7 . . . . . . . . . . . . . . . . . . . . . . . . . . . . . . . . . . . . . . . . . . . . . . . . . . . . . . . . . . . . . . . . . . . . . . . . . . . . . . . . . . . . . . . . . . . . . . . . . . . . . . . . . . . . . . . . . . . . . . . . . . . . . . . . . . . . . . . . . . . . . . . . . . . . . . . . . . . . . . . . . . . . . . . . . . . . . . . . . . . . . . . . . . . . . . . . . . . . . . . . . . . . . . . . . . . . . . . . . . . . . . . . . . . . . . . . . . . . . . . . . . . . . . . . . . . . . . . . . . . . . . . . . . . . . . . . . . . . . . . . . . . . . . . . . . . . . . . . . . . . . . . . . . . . . . . . . . . . . . . . . . . . . . . . . . . . . . . . . . . . . . . . . . . . . . . . . . . . . . . . . . . . . . . . . . . . . . . \n",
            "에포크 8 . . . . . . . . . . . . . . . . . . . . . . . . . . . . . . . . . . . . . . . . . . . . . . . . . . . . . . . . . . . . . . . . . . . . . . . . . . . . . . . . . . . . . . . . . . . . . . . . . . . . . . . . . . . . . . . . . . . . . . . . . . . . . . . . . . . . . . . . . . . . . . . . . . . . . . . . . . . . . . . . . . . . . . . . . . . . . . . . . . . . . . . . . . . . . . . . . . . . . . . . . . . . . . . . . . . . . . . . . . . . . . . . . . . . . . . . . . . . . . . . . . . . . . . . . . . . . . . . . . . . . . . . . . . . . . . . . . . . . . . . . . . . . . . . . . . . . . . . . . . . . . . . . . . . . . . . . . . . . . . . . . . . . . . . . . . . . . . . . . . . . . . . . . . . . . . . . . . . . . . . . . . . . . . . . . . . . . . \n",
            "에포크 9 . . . . . . . . . . . . . . . . . . . . . . . . . . . . . . . . . . . . . . . . . . . . . . . . . . . . . . . . . . . . . . . . . . . . . . . . . . . . . . . . . . . . . . . . . . . . . . . . . . . . . . . . . . . . . . . . . . . . . . . . . . . . . . . . . . . . . . . . . . . . . . . . . . . . . . . . . . . . . . . . . . . . . . . . . . . . . . . . . . . . . . . . . . . . . . . . . . . . . . . . . . . . . . . . . . . . . . . . . . . . . . . . . . . . . . . . . . . . . . . . . . . . . . . . . . . . . . . . . . . . . . . . . . . . . . . . . . . . . . . . . . . . . . . . . . . . . . . . . . . . . . . . . . . . . . . . . . . . . . . . . . . . . . . . . . . . . . . . . . . . . . . . . . . . . . . . . . . . . . . . . . . . . . . . . . . . . . . \n",
            "에포크 10 . . . . . . . . . . . . . . . . . . . . . . . . . . . . . . . . . . . . . . . . . . . . . . . . . . . . . . . . . . . . . . . . . . . . . . . . . . . . . . . . . . . . . . . . . . . . . . . . . . . . . . . . . . . . . . . . . . . . . . . . . . . . . . . . . . . . . . . . . . . . . . . . . . . . . . . . . . . . . . . . . . . . . . . . . . . . . . . . . . . . . . . . . . . . . . . . . . . . . . . . . . . . . . . . . . . . . . . . . . . . . . . . . . . . . . . . . . . . . . . . . . . . . . . . . . . . . . . . . . . . . . . . . . . . . . . . . . . . . . . . . . . . . . . . . . . . . . . . . . . . . . . . . . . . . . . . . . . . . . . . . . . . . . . . . . . . . . . . . . . . . . . . . . . . . . . . . . . . . . . . . . . . . . . . . . . . . . . \n",
            "에포크 11 . . . . . . . . . . . . . . . . . . . . . . . . . . . . . . . . . . . . . . . . . . . . . . . . . . . . . . . . . . . . . . . . . . . . . . . . . . . . . . . . . . . . . . . . . . . . . . . . . . . . . . . . . . . . . . . . . . . . . . . . . . . . . . . . . . . . . . . . . . . . . . . . . . . . . . . . . . . . . . . . . . . . . . . . . . . . . . . . . . . . . . . . . . . . . . . . . . . . . . . . . . . . . . . . . . . . . . . . . . . . . . . . . . . . . . . . . . . . . . . . . . . . . . . . . . . . . . . . . . . . . . . . . . . . . . . . . . . . . . . . . . . . . . . . . . . . . . . . . . . . . . . . . . . . . . . . . . . . . . . . . . . . . . . . . . . . . . . . . . . . . . . . . . . . . . . . . . . . . . . . . . . . . . . . . . . . . . . \n",
            "에포크 12 . . . . . . . . . . . . . . . . . . . . . . . . . . . . . . . . . . . . . . . . . . . . . . . . . . . . . . . . . . . . . . . . . . . . . . . . . . . . . . . . . . . . . . . . . . . . . . . . . . . . . . . . . . . . . . . . . . . . . . . . . . . . . . . . . . . . . . . . . . . . . . . . . . . . . . . . . . . . . . . . . . . . . . . . . . . . . . . . . . . . . . . . . . . . . . . . . . . . . . . . . . . . . . . . . . . . . . . . . . . . . . . . . . . . . . . . . . . . . . . . . . . . . . . . . . . . . . . . . . . . . . . . . . . . . . . . . . . . . . . . . . . . . . . . . . . . . . . . . . . . . . . . . . . . . . . . . . . . . . . . . . . . . . . . . . . . . . . . . . . . . . . . . . . . . . . . . . . . . . . . . . . . . . . . . . . . . . . \n",
            "에포크 13 . . . . . . . . . . . . . . . . . . . . . . . . . . . . . . . . . . . . . . . . . . . . . . . . . . . . . . . . . . . . . . . . . . . . . . . . . . . . . . . . . . . . . . . . . . . . . . . . . . . . . . . . . . . . . . . . . . . . . . . . . . . . . . . . . . . . . . . . . . . . . . . . . . . . . . . . . . . . . . . . . . . . . . . . . . . . . . . . . . . . . . . . . . . . . . . . . . . . . . . . . . . . . . . . . . . . . . . . . . . . . . . . . . . . . . . . . . . . . . . . . . . . . . . . . . . . . . . . . . . . . . . . . . . . . . . . . . . . . . . . . . . . . . . . . . . . . . . . . . . . . . . . . . . . . . . . . . . . . . . . . . . . . . . . . . . . . . . . . . . . . . . . . . . . . . . . . . . . . . . . . . . . . . . . . . . . . . . \n",
            "에포크 14 . . . . . . . . . . . . . . . . . . . . . . . . . . . . . . . . . . . . . . . . . . . . . . . . . . . . . . . . . . . . . . . . . . . . . . . . . . . . . . . . . . . . . . . . . . . . . . . . . . . . . . . . . . . . . . . . . . . . . . . . . . . . . . . . . . . . . . . . . . . . . . . . . . . . . . . . . . . . . . . . . . . . . . . . . . . . . . . . . . . . . . . . . . . . . . . . . . . . . . . . . . . . . . . . . . . . . . . . . . . . . . . . . . . . . . . . . . . . . . . . . . . . . . . . . . . . . . . . . . . . . . . . . . . . . . . . . . . . . . . . . . . . . . . . . . . . . . . . . . . . . . . . . . . . . . . . . . . . . . . . . . . . . . . . . . . . . . . . . . . . . . . . . . . . . . . . . . . . . . . . . . . . . . . . . . . . . . . \n",
            "에포크 15 . . . . . . . . . . . . . . . . . . . . . . . . . . . . . . . . . . . . . . . . . . . . . . . . . . . . . . . . . . . . . . . . . . . . . . . . . . . . . . . . . . . . . . . . . . . . . . . . . . . . . . . . . . . . . . . . . . . . . . . . . . . . . . . . . . . . . . . . . . . . . . . . . . . . . . . . . . . . . . . . . . . . . . . . . . . . . . . . . . . . . . . . . . . . . . . . . . . . . . . . . . . . . . . . . . . . . . . . . . . . . . . . . . . . . . . . . . . . . . . . . . . . . . . . . . . . . . . . . . . . . . . . . . . . . . . . . . . . . . . . . . . . . . . . . . . . . . . . . . . . . . . . . . . . . . . . . . . . . . . . . . . . . . . . . . . . . . . . . . . . . . . . . . . . . . . . . . . . . . . . . . . . . . . . . . . . . . . \n",
            "에포크 16 . . . . . . . . . . . . . . . . . . . . . . . . . . . . . . . . . . . . . . . . . . . . . . . . . . . . . . . . . . . . . . . . . . . . . . . . . . . . . . . . . . . . . . . . . . . . . . . . . . . . . . . . . . . . . . . . . . . . . . . . . . . . . . . . . . . . . . . . . . . . . . . . . . . . . . . . . . . . . . . . . . . . . . . . . . . . . . . . . . . . . . . . . . . . . . . . . . . . . . . . . . . . . . . . . . . . . . . . . . . . . . . . . . . . . . . . . . . . . . . . . . . . . . . . . . . . . . . . . . . . . . . . . . . . . . . . . . . . . . . . . . . . . . . . . . . . . . . . . . . . . . . . . . . . . . . . . . . . . . . . . . . . . . . . . . . . . . . . . . . . . . . . . . . . . . . . . . . . . . . . . . . . . . . . . . . . . . . \n",
            "에포크 17 . . . . . . . . . . . . . . . . . . . . . . . . . . . . . . . . . . . . . . . . . . . . . . . . . . . . . . . . . . . . . . . . . . . . . . . . . . . . . . . . . . . . . . . . . . . . . . . . . . . . . . . . . . . . . . . . . . . . . . . . . . . . . . . . . . . . . . . . . . . . . . . . . . . . . . . . . . . . . . . . . . . . . . . . . . . . . . . . . . . . . . . . . . . . . . . . . . . . . . . . . . . . . . . . . . . . . . . . . . . . . . . . . . . . . . . . . . . . . . . . . . . . . . . . . . . . . . . . . . . . . . . . . . . . . . . . . . . . . . . . . . . . . . . . . . . . . . . . . . . . . . . . . . . . . . . . . . . . . . . . . . . . . . . . . . . . . . . . . . . . . . . . . . . . . . . . . . . . . . . . . . . . . . . . . . . . . . . \n",
            "에포크 18 . . . . . . . . . . . . . . . . . . . . . . . . . . . . . . . . . . . . . . . . . . . . . . . . . . . . . . . . . . . . . . . . . . . . . . . . . . . . . . . . . . . . . . . . . . . . . . . . . . . . . . . . . . . . . . . . . . . . . . . . . . . . . . . . . . . . . . . . . . . . . . . . . . . . . . . . . . . . . . . . . . . . . . . . . . . . . . . . . . . . . . . . . . . . . . . . . . . . . . . . . . . . . . . . . . . . . . . . . . . . . . . . . . . . . . . . . . . . . . . . . . . . . . . . . . . . . . . . . . . . . . . . . . . . . . . . . . . . . . . . . . . . . . . . . . . . . . . . . . . . . . . . . . . . . . . . . . . . . . . . . . . . . . . . . . . . . . . . . . . . . . . . . . . . . . . . . . . . . . . . . . . . . . . . . . . . . . . \n",
            "에포크 19 . . . . . . . . . . . . . . . . . . . . . . . . . . . . . . . . . . . . . . . . . . . . . . . . . . . . . . . . . . . . . . . . . . . . . . . . . . . . . . . . . . . . . . . . . . . . . . . . . . . . . . . . . . . . . . . . . . . . . . . . . . . . . . . . . . . . . . . . . . . . . . . . . . . . . . . . . . . . . . . . . . . . . . . . . . . . . . . . . . . . . . . . . . . . . . . . . . . . . . . . . . . . . . . . . . . . . . . . . . . . . . . . . . . . . . . . . . . . . . . . . . . . . . . . . . . . . . . . . . . . . . . . . . . . . . . . . . . . . . . . . . . . . . . . . . . . . . . . . . . . . . . . . . . . . . . . . . . . . . . . . . . . . . . . . . . . . . . . . . . . . . . . . . . . . . . . . . . . . . . . . . . . . . . . . . . . . . . \n"
          ],
          "name": "stdout"
        }
      ]
    },
    {
      "cell_type": "code",
      "metadata": {
        "colab": {
          "base_uri": "https://localhost:8080/",
          "height": 279
        },
        "id": "jLdOq-SUbCER",
        "outputId": "629ec869-ec1b-4e81-a1cc-af25d9049199"
      },
      "source": [
        "plt.plot(cn.losses)\r\n",
        "plt.plot(cn.val_losses)\r\n",
        "plt.ylabel('loss')\r\n",
        "plt.xlabel('iteration')\r\n",
        "plt.legend(['train_loss', 'val_loss'])\r\n",
        "plt.show()"
      ],
      "execution_count": 19,
      "outputs": [
        {
          "output_type": "display_data",
          "data": {
            "image/png": "[encoded data removed]",
            "text/plain": [
              "<Figure size 432x288 with 1 Axes>"
            ]
          },
          "metadata": {
            "tags": [],
            "needs_background": "light"
          }
        }
      ]
    },
    {
      "cell_type": "code",
      "metadata": {
        "colab": {
          "base_uri": "https://localhost:8080/"
        },
        "id": "K35g9f3nbMhz",
        "outputId": "5db47665-5d59-4428-d8d3-e8262ffee747"
      },
      "source": [
        "cn.score(x_val, y_val_encoded)"
      ],
      "execution_count": 21,
      "outputs": [
        {
          "output_type": "execute_result",
          "data": {
            "text/plain": [
              "0.8795833333333334"
            ]
          },
          "metadata": {
            "tags": []
          },
          "execution_count": 21
        }
      ]
    }
  ]
}